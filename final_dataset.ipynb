{
 "cells": [
  {
   "cell_type": "code",
   "execution_count": 1,
   "id": "003068a9",
   "metadata": {},
   "outputs": [],
   "source": [
    "%load_ext autoreload\n",
    "%autoreload 2"
   ]
  },
  {
   "cell_type": "code",
   "execution_count": 2,
   "id": "6c1e7de9",
   "metadata": {},
   "outputs": [],
   "source": [
    "import os\n",
    "import numpy as np\n",
    "import pandas as pd\n",
    "import seaborn as sns\n",
    "import matplotlib.pyplot as plt\n",
    "from Netflix.data import Movies"
   ]
  },
  {
   "cell_type": "code",
   "execution_count": 34,
   "id": "38c799f8",
   "metadata": {},
   "outputs": [],
   "source": [
    "# Chris dataset\n",
    "df = pd.read_csv('/Users/renatoboemer/code/boemer00/Netflix/raw_data/merged_movies_by_index.csv')"
   ]
  },
  {
   "cell_type": "code",
   "execution_count": null,
   "id": "93f4cc7b",
   "metadata": {},
   "outputs": [],
   "source": [
    "# data split"
   ]
  },
  {
   "cell_type": "markdown",
   "id": "896469f7",
   "metadata": {},
   "source": [
    "# Data Wrangling"
   ]
  },
  {
   "cell_type": "code",
   "execution_count": 36,
   "id": "6c73ef8e",
   "metadata": {},
   "outputs": [
    {
     "data": {
      "text/plain": [
       "(10386, 34)"
      ]
     },
     "execution_count": 36,
     "metadata": {},
     "output_type": "execute_result"
    }
   ],
   "source": [
    "df.shape  # (10386, 34)"
   ]
  },
  {
   "cell_type": "code",
   "execution_count": 42,
   "id": "15d6712c",
   "metadata": {},
   "outputs": [
    {
     "data": {
      "text/html": [
       "<div>\n",
       "<style scoped>\n",
       "    .dataframe tbody tr th:only-of-type {\n",
       "        vertical-align: middle;\n",
       "    }\n",
       "\n",
       "    .dataframe tbody tr th {\n",
       "        vertical-align: top;\n",
       "    }\n",
       "\n",
       "    .dataframe thead th {\n",
       "        text-align: right;\n",
       "    }\n",
       "</style>\n",
       "<table border=\"1\" class=\"dataframe\">\n",
       "  <thead>\n",
       "    <tr style=\"text-align: right;\">\n",
       "      <th></th>\n",
       "      <th>avg_review_score</th>\n",
       "      <th>n_reviews</th>\n",
       "      <th>year</th>\n",
       "      <th>title</th>\n",
       "      <th>Title</th>\n",
       "      <th>Year</th>\n",
       "      <th>Rated</th>\n",
       "      <th>Released</th>\n",
       "      <th>Runtime</th>\n",
       "      <th>Genre</th>\n",
       "      <th>...</th>\n",
       "      <th>Response</th>\n",
       "      <th>Internet Movie Database</th>\n",
       "      <th>Index_match</th>\n",
       "      <th>DVD</th>\n",
       "      <th>BoxOffice</th>\n",
       "      <th>Production</th>\n",
       "      <th>Website</th>\n",
       "      <th>Rotten Tomatoes</th>\n",
       "      <th>Metacritic</th>\n",
       "      <th>Ratings</th>\n",
       "    </tr>\n",
       "  </thead>\n",
       "  <tbody>\n",
       "    <tr>\n",
       "      <th>8060</th>\n",
       "      <td>3.597931</td>\n",
       "      <td>4059</td>\n",
       "      <td>1988</td>\n",
       "      <td>The Vanishing</td>\n",
       "      <td>The Vanishing</td>\n",
       "      <td>1988</td>\n",
       "      <td>Not Rated</td>\n",
       "      <td>27 Oct 1988</td>\n",
       "      <td>107 min</td>\n",
       "      <td>Mystery, Thriller</td>\n",
       "      <td>...</td>\n",
       "      <td>True</td>\n",
       "      <td>7.7/10</td>\n",
       "      <td>13825</td>\n",
       "      <td>25 Mar 2017</td>\n",
       "      <td>NaN</td>\n",
       "      <td>Argos Films</td>\n",
       "      <td>NaN</td>\n",
       "      <td>98%</td>\n",
       "      <td>NaN</td>\n",
       "      <td>NaN</td>\n",
       "    </tr>\n",
       "  </tbody>\n",
       "</table>\n",
       "<p>1 rows × 34 columns</p>\n",
       "</div>"
      ],
      "text/plain": [
       "      avg_review_score  n_reviews  year          title          Title  Year  \\\n",
       "8060          3.597931       4059  1988  The Vanishing  The Vanishing  1988   \n",
       "\n",
       "          Rated     Released  Runtime              Genre  ... Response  \\\n",
       "8060  Not Rated  27 Oct 1988  107 min  Mystery, Thriller  ...     True   \n",
       "\n",
       "     Internet Movie Database Index_match          DVD BoxOffice   Production  \\\n",
       "8060                  7.7/10       13825  25 Mar 2017       NaN  Argos Films   \n",
       "\n",
       "     Website Rotten Tomatoes  Metacritic  Ratings  \n",
       "8060     NaN             98%         NaN      NaN  \n",
       "\n",
       "[1 rows x 34 columns]"
      ]
     },
     "execution_count": 42,
     "metadata": {},
     "output_type": "execute_result"
    }
   ],
   "source": [
    "df.sample(1)"
   ]
  },
  {
   "cell_type": "code",
   "execution_count": 38,
   "id": "8ea34f98",
   "metadata": {},
   "outputs": [
    {
     "data": {
      "text/plain": [
       "Index(['avg_review_score', 'n_reviews', 'year', 'title', 'Title', 'Year',\n",
       "       'Rated', 'Released', 'Runtime', 'Genre', 'Director', 'Writer', 'Actors',\n",
       "       'Plot', 'Language', 'Country', 'Awards', 'Poster', 'Metascore',\n",
       "       'imdbRating', 'imdbVotes', 'imdbID', 'Type', 'totalSeasons', 'Response',\n",
       "       'Internet Movie Database', 'Index_match', 'DVD', 'BoxOffice',\n",
       "       'Production', 'Website', 'Rotten Tomatoes', 'Metacritic', 'Ratings'],\n",
       "      dtype='object')"
      ]
     },
     "execution_count": 38,
     "metadata": {},
     "output_type": "execute_result"
    }
   ],
   "source": [
    "df.columns"
   ]
  },
  {
   "cell_type": "code",
   "execution_count": 43,
   "id": "27413448",
   "metadata": {},
   "outputs": [],
   "source": [
    "df.drop(columns=['title', 'year', 'Awards', 'Poster', 'Metascore', 'Internet Movie Database',\n",
    "                 'totalSeasons', 'Response','Index_match', 'DVD', 'BoxOffice', 'imdbVotes',\n",
    "                 'Production', 'Website', 'Metacritic', 'Ratings'], inplace=True)"
   ]
  },
  {
   "cell_type": "markdown",
   "id": "aca886df",
   "metadata": {},
   "source": [
    "### Runtime"
   ]
  },
  {
   "cell_type": "code",
   "execution_count": 82,
   "id": "3633a713",
   "metadata": {},
   "outputs": [],
   "source": [
    "df['Runtime'] = df['Runtime'].fillna(0)"
   ]
  },
  {
   "cell_type": "markdown",
   "id": "27b02bc7",
   "metadata": {},
   "source": [
    "### Actors"
   ]
  },
  {
   "cell_type": "code",
   "execution_count": 90,
   "id": "7a953eaf",
   "metadata": {},
   "outputs": [
    {
     "data": {
      "text/plain": [
       "0"
      ]
     },
     "execution_count": 90,
     "metadata": {},
     "output_type": "execute_result"
    }
   ],
   "source": [
    "# replace null values with unknown\n",
    "df['Actors'] = df['Actors'].replace(np.nan,'unknown')\n",
    "df['Actors'].isnull().sum()"
   ]
  },
  {
   "cell_type": "markdown",
   "id": "b8e63d44",
   "metadata": {},
   "source": [
    "### Director"
   ]
  },
  {
   "cell_type": "code",
   "execution_count": 91,
   "id": "bdf35dde",
   "metadata": {},
   "outputs": [
    {
     "data": {
      "text/plain": [
       "0"
      ]
     },
     "execution_count": 91,
     "metadata": {},
     "output_type": "execute_result"
    }
   ],
   "source": [
    "df['Director'] = df['Director'].replace(np.nan,'unknown')\n",
    "df['Director'].isnull().sum()"
   ]
  },
  {
   "cell_type": "markdown",
   "id": "06c82337",
   "metadata": {},
   "source": [
    "### Writer"
   ]
  },
  {
   "cell_type": "code",
   "execution_count": 92,
   "id": "0c7bdcdb",
   "metadata": {},
   "outputs": [
    {
     "data": {
      "text/plain": [
       "0"
      ]
     },
     "execution_count": 92,
     "metadata": {},
     "output_type": "execute_result"
    }
   ],
   "source": [
    "df['Writer'] = df['Writer'].replace(np.nan,'unknown')\n",
    "df['Writer'].isnull().sum()"
   ]
  },
  {
   "cell_type": "markdown",
   "id": "1799ffd0",
   "metadata": {},
   "source": [
    "### Language"
   ]
  },
  {
   "cell_type": "code",
   "execution_count": 93,
   "id": "8a02e1ba",
   "metadata": {},
   "outputs": [],
   "source": [
    "df[\"Language\"] = df[[\"Language\"]].fillna(\"English\")"
   ]
  },
  {
   "cell_type": "code",
   "execution_count": 94,
   "id": "6cb58f09",
   "metadata": {},
   "outputs": [
    {
     "data": {
      "text/plain": [
       "0"
      ]
     },
     "execution_count": 94,
     "metadata": {},
     "output_type": "execute_result"
    }
   ],
   "source": [
    "df[\"Language\"].isnull().sum()"
   ]
  },
  {
   "cell_type": "code",
   "execution_count": 95,
   "id": "a7e47756",
   "metadata": {},
   "outputs": [
    {
     "data": {
      "text/plain": [
       "str"
      ]
     },
     "execution_count": 95,
     "metadata": {},
     "output_type": "execute_result"
    }
   ],
   "source": [
    "type(df[\"Language\"][1])"
   ]
  },
  {
   "cell_type": "code",
   "execution_count": 96,
   "id": "35aec810",
   "metadata": {},
   "outputs": [],
   "source": [
    "df[\"Language\"] = df[[\"Language\"]].fillna(\"English\")\n",
    "\n",
    "def language_binary(x):\n",
    "    if x.find(\"English\") != -1:\n",
    "        return \"English Available\"\n",
    "    else:\n",
    "        return \"English N/A\""
   ]
  },
  {
   "cell_type": "code",
   "execution_count": 99,
   "id": "c8606d3c",
   "metadata": {},
   "outputs": [
    {
     "data": {
      "text/plain": [
       "'English Available'"
      ]
     },
     "execution_count": 99,
     "metadata": {},
     "output_type": "execute_result"
    }
   ],
   "source": [
    "language_binary(df[\"Language\"][1])\n",
    "language_binary(df[\"Language\"][3])"
   ]
  },
  {
   "cell_type": "code",
   "execution_count": 98,
   "id": "f3a0fbfd",
   "metadata": {},
   "outputs": [],
   "source": [
    "df[\"Language_binary\"] = df[\"Language\"].map(language_binary)"
   ]
  },
  {
   "cell_type": "markdown",
   "id": "9987215a",
   "metadata": {},
   "source": [
    "### Plot"
   ]
  },
  {
   "cell_type": "code",
   "execution_count": 109,
   "id": "bb7a92aa",
   "metadata": {},
   "outputs": [],
   "source": [
    "df['Plot'] = df['Plot'].replace(np.nan,'unknown')"
   ]
  },
  {
   "cell_type": "markdown",
   "id": "273f4a79",
   "metadata": {},
   "source": [
    "### Genre"
   ]
  },
  {
   "cell_type": "code",
   "execution_count": 176,
   "id": "8358fa69",
   "metadata": {},
   "outputs": [
    {
     "data": {
      "text/plain": [
       "'Drama'"
      ]
     },
     "execution_count": 176,
     "metadata": {},
     "output_type": "execute_result"
    }
   ],
   "source": [
    "freq_genre = df['Genre'].mode()[0]"
   ]
  },
  {
   "cell_type": "code",
   "execution_count": 178,
   "id": "88592774",
   "metadata": {},
   "outputs": [
    {
     "data": {
      "text/plain": [
       "0"
      ]
     },
     "execution_count": 178,
     "metadata": {},
     "output_type": "execute_result"
    }
   ],
   "source": [
    "freq_genre = df['Genre'].mode()[0]\n",
    "df['Genre'] = df['Genre'].replace(np.nan, freq_genre)"
   ]
  },
  {
   "cell_type": "code",
   "execution_count": null,
   "id": "7f46af77",
   "metadata": {},
   "outputs": [],
   "source": []
  },
  {
   "cell_type": "code",
   "execution_count": null,
   "id": "64f314b4",
   "metadata": {},
   "outputs": [],
   "source": []
  },
  {
   "cell_type": "code",
   "execution_count": null,
   "id": "784f7571",
   "metadata": {},
   "outputs": [],
   "source": []
  },
  {
   "cell_type": "markdown",
   "id": "32993828",
   "metadata": {},
   "source": [
    "# Trainer Function"
   ]
  },
  {
   "cell_type": "code",
   "execution_count": 46,
   "id": "04e4467a",
   "metadata": {},
   "outputs": [
    {
     "ename": "SyntaxError",
     "evalue": "invalid syntax (<ipython-input-46-c084d2ba4136>, line 17)",
     "output_type": "error",
     "traceback": [
      "\u001b[0;36m  File \u001b[0;32m\"<ipython-input-46-c084d2ba4136>\"\u001b[0;36m, line \u001b[0;32m17\u001b[0m\n\u001b[0;31m    df = self.\u001b[0m\n\u001b[0m              ^\u001b[0m\n\u001b[0;31mSyntaxError\u001b[0m\u001b[0;31m:\u001b[0m invalid syntax\n"
     ]
    }
   ],
   "source": [
    "def data_wrangling(self):\n",
    "    \"\"\" cleaning irrelevant rows and columns \"\"\" \n",
    "    \n",
    "    df = self.drop(columns=['title', 'year', 'Awards', 'Poster', 'Metascore','totalSeasons', 'imdbVotes',\n",
    "                          'Response','Index_match', 'DVD', 'BoxOffice','Production', 'Internet Movie Database',\n",
    "                          'Website', 'Metacritic', 'Ratings'], inplace=True)\n",
    "    \n",
    "    ## fill nan and' min', convert to int and replace zero for the mean\n",
    "    df['Runtime'] = df['Runtime'].fillna(0)\n",
    "    df['Runtime'] = df['Runtime'].apply(lambda x: int(str(x).replace(' min', '')))\n",
    "    df['Runtime'] = df['Runtime'].replace(0, df['Runtime'].mean())\n",
    "    \n",
    "    ## fill nan and remove '%', convert to float and replace zero for the mean\n",
    "    df['Rotten Tomatoes'] = df['Rotten Tomatoes'].fillna(0) \n",
    "    df['Rotten Tomatoes'] = df['Rotten Tomatoes'].apply(lambda x: float(str(x).replace('%', '')))\n",
    "    df['Rotten Tomatoes'] = df['Rotten Tomatoes'].replace(0, df['Rotten Tomatoes'].mean())\n",
    "    \n",
    "    ## replace countries and genre with most frequent values\n",
    "    freq_country = df[['Country']].value_counts().reset_index()['Country'][0]\n",
    "    df['Country'] = df['Country'].replace(0, freq_country).replace('United States', freq_country)\n",
    "    \n",
    "    freq_genre = df['Genre'].mode()[0]\n",
    "    df['Genre'] = df['Genre'].replace(np.nan, freq_genre)\n",
    "\n",
    "    # replace null values with unknown\n",
    "    df['Actors'] = df['Actors'].replace(np.nan,'unknown')\n",
    "    df['Director'] = df['Director'].replace(np.nan,'unknown')\n",
    "    df['Writer'] = df['Writer'].replace(np.nan,'unknown')\n",
    "    df['Plot'] = df['Plot'].replace(np.nan,'unknown')\n",
    "    \n",
    "    ## Language binary (either contains English or not)\n",
    "    df[\"Language\"] = df[[\"Language\"]].fillna(\"English\")\n",
    "    def language_binary(x):\n",
    "        if x.find(\"English\") != -1:\n",
    "            return \"English Available\"\n",
    "        else:\n",
    "            return \"English N/A\"\n",
    "    df[\"Language_binary\"] = df[\"Language\"].map(language_binary)\n",
    "    \n",
    "    # renturn df\n",
    "    \n",
    "    "
   ]
  },
  {
   "cell_type": "code",
   "execution_count": 152,
   "id": "de760414",
   "metadata": {},
   "outputs": [
    {
     "data": {
      "text/plain": [
       "'Documentary, Animation, Family'"
      ]
     },
     "execution_count": 152,
     "metadata": {},
     "output_type": "execute_result"
    }
   ],
   "source": []
  },
  {
   "cell_type": "code",
   "execution_count": 153,
   "id": "27929919",
   "metadata": {},
   "outputs": [
    {
     "data": {
      "image/png": "[encoded data removed]",
      "text/plain": [
       "<Figure size 432x288 with 1 Axes>"
      ]
     },
     "metadata": {
      "needs_background": "light"
     },
     "output_type": "display_data"
    }
   ],
   "source": [
    "# scatterplot - genre\n",
    "df_genre = df.groupby(by=['Genre']).mean().reset_index()\n",
    "ax = sns.scatterplot(data=df_genre, x='imdbRating', y='n_reviews', hue='Genre', legend=False)"
   ]
  },
  {
   "cell_type": "code",
   "execution_count": 155,
   "id": "6f2cd731",
   "metadata": {},
   "outputs": [
    {
     "data": {
      "text/plain": [
       "1484"
      ]
     },
     "execution_count": 155,
     "metadata": {},
     "output_type": "execute_result"
    }
   ],
   "source": [
    "df_genre['Genre'].nunique() ## --> should we keep all these combinations?"
   ]
  },
  {
   "cell_type": "code",
   "execution_count": 158,
   "id": "eddfbf4a",
   "metadata": {},
   "outputs": [
    {
     "data": {
      "text/plain": [
       "(1484, 5)"
      ]
     },
     "execution_count": 158,
     "metadata": {},
     "output_type": "execute_result"
    }
   ],
   "source": [
    "df_genre.shape"
   ]
  },
  {
   "cell_type": "code",
   "execution_count": 167,
   "id": "7a40792c",
   "metadata": {},
   "outputs": [
    {
     "data": {
      "image/png": "[encoded data removed]",
      "text/plain": [
       "<Figure size 432x288 with 1 Axes>"
      ]
     },
     "metadata": {
      "needs_background": "light"
     },
     "output_type": "display_data"
    }
   ],
   "source": [
    "df_genre_10k = df_genre[df_genre['n_reviews'] < 10000]\n",
    "df_genre_10k.shape  ## --> (1229, 5)\n",
    "ax = sns.scatterplot(data=df_genre_50k, x='imdbRating', y='n_reviews', hue='Genre', legend=False)"
   ]
  },
  {
   "cell_type": "code",
   "execution_count": null,
   "id": "bd52d85c",
   "metadata": {},
   "outputs": [],
   "source": [
    "# histogram - movies up to 200 min (~3h30)\n",
    "runtime = df[df['Runtime'] < 200]['Runtime'].reset_index()\n",
    "sns.displot(x=\"Runtime\", data=runtime, bins=15, kde=True);"
   ]
  },
  {
   "cell_type": "markdown",
   "id": "293b30a9",
   "metadata": {},
   "source": [
    "### avg_review_score"
   ]
  },
  {
   "cell_type": "code",
   "execution_count": 45,
   "id": "ac3480c5",
   "metadata": {},
   "outputs": [
    {
     "data": {
      "image/png": "[encoded data removed]",
      "text/plain": [
       "<Figure size 432x288 with 1 Axes>"
      ]
     },
     "metadata": {
      "needs_background": "light"
     },
     "output_type": "display_data"
    }
   ],
   "source": [
    "# check for outliers\n",
    "df[['avg_review_score']].boxplot();"
   ]
  }
 ],
 "metadata": {
  "kernelspec": {
   "display_name": "Python 3",
   "language": "python",
   "name": "python3"
  },
  "language_info": {
   "codemirror_mode": {
    "name": "ipython",
    "version": 3
   },
   "file_extension": ".py",
   "mimetype": "text/x-python",
   "name": "python",
   "nbconvert_exporter": "python",
   "pygments_lexer": "ipython3",
   "version": "3.8.6"
  },
  "toc": {
   "base_numbering": 1,
   "nav_menu": {},
   "number_sections": true,
   "sideBar": true,
   "skip_h1_title": false,
   "title_cell": "Table of Contents",
   "title_sidebar": "Contents",
   "toc_cell": false,
   "toc_position": {},
   "toc_section_display": true,
   "toc_window_display": false
  }
 },
 "nbformat": 4,
 "nbformat_minor": 5
}
