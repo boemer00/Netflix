{
 "cells": [
  {
   "cell_type": "code",
   "execution_count": 1,
   "id": "2f1f5769",
   "metadata": {},
   "outputs": [],
   "source": [
    "%load_ext autoreload\n",
    "%autoreload 2"
   ]
  },
  {
   "cell_type": "code",
   "execution_count": 2,
   "id": "8d778925",
   "metadata": {},
   "outputs": [],
   "source": [
    "import os\n",
    "import numpy as np\n",
    "import pandas as pd\n",
    "import seaborn as sns\n",
    "import matplotlib.pyplot as plt\n",
    "from Netflix.data import Movies"
   ]
  },
  {
   "cell_type": "code",
   "execution_count": 34,
   "id": "d53bedfd",
   "metadata": {},
   "outputs": [],
   "source": [
    "# Chris dataset\n",
    "df = pd.read_csv('/Users/renatoboemer/code/boemer00/Netflix/raw_data/merged_movies_by_index.csv')"
   ]
  },
  {
   "cell_type": "code",
   "execution_count": null,
   "id": "193db79e",
   "metadata": {},
   "outputs": [],
   "source": [
    "# data split"
   ]
  },
  {
   "cell_type": "markdown",
   "id": "dc5d537c",
   "metadata": {},
   "source": [
    "## Data Wrangling"
   ]
  },
  {
   "cell_type": "code",
   "execution_count": 36,
   "id": "0007c75e",
   "metadata": {},
   "outputs": [
    {
     "data": {
      "text/plain": [
       "(10386, 34)"
      ]
     },
     "execution_count": 36,
     "metadata": {},
     "output_type": "execute_result"
    }
   ],
   "source": [
    "df.shape  # (10386, 34)"
   ]
  },
  {
   "cell_type": "code",
   "execution_count": 42,
   "id": "b60af40b",
   "metadata": {},
   "outputs": [
    {
     "data": {
      "text/html": [
       "<div>\n",
       "<style scoped>\n",
       "    .dataframe tbody tr th:only-of-type {\n",
       "        vertical-align: middle;\n",
       "    }\n",
       "\n",
       "    .dataframe tbody tr th {\n",
       "        vertical-align: top;\n",
       "    }\n",
       "\n",
       "    .dataframe thead th {\n",
       "        text-align: right;\n",
       "    }\n",
       "</style>\n",
       "<table border=\"1\" class=\"dataframe\">\n",
       "  <thead>\n",
       "    <tr style=\"text-align: right;\">\n",
       "      <th></th>\n",
       "      <th>avg_review_score</th>\n",
       "      <th>n_reviews</th>\n",
       "      <th>year</th>\n",
       "      <th>title</th>\n",
       "      <th>Title</th>\n",
       "      <th>Year</th>\n",
       "      <th>Rated</th>\n",
       "      <th>Released</th>\n",
       "      <th>Runtime</th>\n",
       "      <th>Genre</th>\n",
       "      <th>...</th>\n",
       "      <th>Response</th>\n",
       "      <th>Internet Movie Database</th>\n",
       "      <th>Index_match</th>\n",
       "      <th>DVD</th>\n",
       "      <th>BoxOffice</th>\n",
       "      <th>Production</th>\n",
       "      <th>Website</th>\n",
       "      <th>Rotten Tomatoes</th>\n",
       "      <th>Metacritic</th>\n",
       "      <th>Ratings</th>\n",
       "    </tr>\n",
       "  </thead>\n",
       "  <tbody>\n",
       "    <tr>\n",
       "      <th>8060</th>\n",
       "      <td>3.597931</td>\n",
       "      <td>4059</td>\n",
       "      <td>1988</td>\n",
       "      <td>The Vanishing</td>\n",
       "      <td>The Vanishing</td>\n",
       "      <td>1988</td>\n",
       "      <td>Not Rated</td>\n",
       "      <td>27 Oct 1988</td>\n",
       "      <td>107 min</td>\n",
       "      <td>Mystery, Thriller</td>\n",
       "      <td>...</td>\n",
       "      <td>True</td>\n",
       "      <td>7.7/10</td>\n",
       "      <td>13825</td>\n",
       "      <td>25 Mar 2017</td>\n",
       "      <td>NaN</td>\n",
       "      <td>Argos Films</td>\n",
       "      <td>NaN</td>\n",
       "      <td>98%</td>\n",
       "      <td>NaN</td>\n",
       "      <td>NaN</td>\n",
       "    </tr>\n",
       "  </tbody>\n",
       "</table>\n",
       "<p>1 rows × 34 columns</p>\n",
       "</div>"
      ],
      "text/plain": [
       "      avg_review_score  n_reviews  year          title          Title  Year  \\\n",
       "8060          3.597931       4059  1988  The Vanishing  The Vanishing  1988   \n",
       "\n",
       "          Rated     Released  Runtime              Genre  ... Response  \\\n",
       "8060  Not Rated  27 Oct 1988  107 min  Mystery, Thriller  ...     True   \n",
       "\n",
       "     Internet Movie Database Index_match          DVD BoxOffice   Production  \\\n",
       "8060                  7.7/10       13825  25 Mar 2017       NaN  Argos Films   \n",
       "\n",
       "     Website Rotten Tomatoes  Metacritic  Ratings  \n",
       "8060     NaN             98%         NaN      NaN  \n",
       "\n",
       "[1 rows x 34 columns]"
      ]
     },
     "execution_count": 42,
     "metadata": {},
     "output_type": "execute_result"
    }
   ],
   "source": [
    "df.sample(1)"
   ]
  },
  {
   "cell_type": "code",
   "execution_count": 38,
   "id": "8229f0a9",
   "metadata": {},
   "outputs": [
    {
     "data": {
      "text/plain": [
       "Index(['avg_review_score', 'n_reviews', 'year', 'title', 'Title', 'Year',\n",
       "       'Rated', 'Released', 'Runtime', 'Genre', 'Director', 'Writer', 'Actors',\n",
       "       'Plot', 'Language', 'Country', 'Awards', 'Poster', 'Metascore',\n",
       "       'imdbRating', 'imdbVotes', 'imdbID', 'Type', 'totalSeasons', 'Response',\n",
       "       'Internet Movie Database', 'Index_match', 'DVD', 'BoxOffice',\n",
       "       'Production', 'Website', 'Rotten Tomatoes', 'Metacritic', 'Ratings'],\n",
       "      dtype='object')"
      ]
     },
     "execution_count": 38,
     "metadata": {},
     "output_type": "execute_result"
    }
   ],
   "source": [
    "df.columns"
   ]
  },
  {
   "cell_type": "code",
   "execution_count": 43,
   "id": "d401d88e",
   "metadata": {},
   "outputs": [],
   "source": [
    "df.drop(columns=['title', 'year', 'Awards', 'Poster', 'Metascore', 'Internet Movie Database',\n",
    "                 'totalSeasons', 'Response','Index_match', 'DVD', 'BoxOffice', 'imdbVotes',\n",
    "                 'Production', 'Website', 'Metacritic', 'Ratings'], inplace=True)"
   ]
  },
  {
   "cell_type": "code",
   "execution_count": 75,
   "id": "537e2d8e",
   "metadata": {},
   "outputs": [],
   "source": [
    "df['Runtime'] = df['Runtime'].fillna(0)"
   ]
  },
  {
   "cell_type": "code",
   "execution_count": 45,
   "id": "a5e1e3ba",
   "metadata": {},
   "outputs": [
    {
     "data": {
      "image/png": "[encoded data removed]",
      "text/plain": [
       "<Figure size 432x288 with 1 Axes>"
      ]
     },
     "metadata": {
      "needs_background": "light"
     },
     "output_type": "display_data"
    }
   ],
   "source": [
    "df[['avg_review_score']].boxplot();"
   ]
  },
  {
   "cell_type": "markdown",
   "id": "9c042933",
   "metadata": {},
   "source": [
    "## Trainer Function"
   ]
  },
  {
   "cell_type": "code",
   "execution_count": 46,
   "id": "af94076e",
   "metadata": {},
   "outputs": [
    {
     "ename": "SyntaxError",
     "evalue": "invalid syntax (<ipython-input-46-c084d2ba4136>, line 17)",
     "output_type": "error",
     "traceback": [
      "\u001b[0;36m  File \u001b[0;32m\"<ipython-input-46-c084d2ba4136>\"\u001b[0;36m, line \u001b[0;32m17\u001b[0m\n\u001b[0;31m    df = self.\u001b[0m\n\u001b[0m              ^\u001b[0m\n\u001b[0;31mSyntaxError\u001b[0m\u001b[0;31m:\u001b[0m invalid syntax\n"
     ]
    }
   ],
   "source": [
    "def data_wrangling(self):\n",
    "    \"\"\" cleaning irrelevant rows and columns \"\"\" \n",
    "    \n",
    "    df = self.drop(columns=['title', 'year', 'Awards', 'Poster', 'Metascore','totalSeasons', 'imdbVotes',\n",
    "                          'Response','Index_match', 'DVD', 'BoxOffice','Production', 'Internet Movie Database',\n",
    "                          'Website', 'Metacritic', 'Ratings'], inplace=True)\n",
    "    \n",
    "    ## fill nan and' min', convert to int and replace zero for the mean\n",
    "    df['Runtime'] = df['Runtime'].fillna(0)\n",
    "    df['Runtime'] = df['Runtime'].apply(lambda x: int(str(x).replace(' min', '')))\n",
    "    df['Runtime'] = df['Runtime'].replace(0, df['Runtime'].mean())\n",
    "    \n",
    "    ## fill nan and remove '%', convert to float and replace zero for the mean\n",
    "    df['Rotten Tomatoes'] = df['Rotten Tomatoes'].fillna(0) \n",
    "    df['Rotten Tomatoes'] = df['Rotten Tomatoes'].apply(lambda x: float(str(x).replace('%', '')))\n",
    "    df['Rotten Tomatoes'] = df['Rotten Tomatoes'].replace(0, df['Rotten Tomatoes'].mean())\n",
    "    \n",
    "    ## replace countries with most frequent\n",
    "    freq_country = df[['Country']].value_counts().reset_index()['Country'][0]\n",
    "    df['Country'] = df['Country'].replace(0, freq_country).replace('United States', freq_country)\n",
    "\n",
    "    return df\n",
    "    \n",
    "def data_scaling(self):\n",
    "    pass"
   ]
  },
  {
   "cell_type": "code",
   "execution_count": null,
   "id": "ac2d7241",
   "metadata": {},
   "outputs": [],
   "source": []
  }
 ],
 "metadata": {
  "kernelspec": {
   "display_name": "Python 3",
   "language": "python",
   "name": "python3"
  },
  "language_info": {
   "codemirror_mode": {
    "name": "ipython",
    "version": 3
   },
   "file_extension": ".py",
   "mimetype": "text/x-python",
   "name": "python",
   "nbconvert_exporter": "python",
   "pygments_lexer": "ipython3",
   "version": "3.8.6"
  },
  "toc": {
   "base_numbering": 1,
   "nav_menu": {},
   "number_sections": true,
   "sideBar": true,
   "skip_h1_title": false,
   "title_cell": "Table of Contents",
   "title_sidebar": "Contents",
   "toc_cell": false,
   "toc_position": {},
   "toc_section_display": true,
   "toc_window_display": false
  }
 },
 "nbformat": 4,
 "nbformat_minor": 5
}
