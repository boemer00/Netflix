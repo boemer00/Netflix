{
 "cells": [
  {
   "cell_type": "code",
   "execution_count": 1,
   "id": "8ad0177f",
   "metadata": {},
   "outputs": [],
   "source": [
    "import numpy as np\n"
   ]
  },
  {
   "cell_type": "code",
   "execution_count": 2,
   "id": "782fc938",
   "metadata": {},
   "outputs": [
    {
     "data": {
      "text/plain": [
       "array({'Linear': {'rgs__fit_intercept': True, 'rgs__normalize': True}, 'Lasso': {'rgs__alpha': 1, 'rgs__fit_intercept': True, 'rgs__max_iter': 1000}, 'Ridge': {'rgs__alpha': 0.2, 'rgs__normalize': False, 'rgs__solver': 'sag'}, 'KNN': {'rgs__algorithm': 'auto', 'rgs__n_neighbors': 10, 'rgs__weights': 'distance'}, 'GBM': {'rgs__learning_rate': 0.05, 'rgs__loss': 'huber', 'rgs__max_depth': 8, 'rgs__max_features': 12, 'rgs__n_estimators': 100}, 'RandomForest': {'rgs__max_depth': 8, 'rgs__max_features': 12, 'rgs__n_estimators': 162, 'rgs__n_jobs': -1}, 'xgboost': {'rgs__gamma': 1, 'rgs__learning_rate': 0.1, 'rgs__max_depth': 26, 'rgs__n_estimators': 140}},\n",
       "      dtype=object)"
      ]
     },
     "execution_count": 2,
     "metadata": {},
     "output_type": "execute_result"
    }
   ],
   "source": [
    "np.load('best_results.npy', allow_pickle=True)"
   ]
  },
  {
   "cell_type": "code",
   "execution_count": null,
   "id": "40981a95",
   "metadata": {},
   "outputs": [],
   "source": [
    "'Linear': {'rgs__fit_intercept': True, 'rgs__normalize': True}\n",
    "'Lasso': {'rgs__alpha': 1, 'rgs__fit_intercept': True, 'rgs__max_iter': 1000}\n",
    "'Ridge': {'rgs__alpha': 0.2, 'rgs__normalize': False, 'rgs__solver': 'sag'}\n",
    "'KNN': {'rgs__algorithm': 'auto', 'rgs__n_neighbors': 10, 'rgs__weights': 'distance'}\n",
    "'GBM': {'rgs__learning_rate': 0.05, 'rgs__loss': 'huber', 'rgs__max_depth': 8, 'rgs__max_features': 12, 'rgs__n_estimators': 100}\n",
    "'RandomForest': {'rgs__max_depth': 8, 'rgs__max_features': 12, 'rgs__n_estimators': 162, 'rgs__n_jobs': -1}\n",
    "'xgboost': {'rgs__gamma': 1, 'rgs__learning_rate': 0.1, 'rgs__max_depth': 26, 'rgs__n_estimators': 140}}"
   ]
  }
 ],
 "metadata": {
  "kernelspec": {
   "display_name": "Python 3",
   "language": "python",
   "name": "python3"
  },
  "language_info": {
   "codemirror_mode": {
    "name": "ipython",
    "version": 3
   },
   "file_extension": ".py",
   "mimetype": "text/x-python",
   "name": "python",
   "nbconvert_exporter": "python",
   "pygments_lexer": "ipython3",
   "version": "3.8.6"
  },
  "toc": {
   "base_numbering": 1,
   "nav_menu": {},
   "number_sections": true,
   "sideBar": true,
   "skip_h1_title": false,
   "title_cell": "Table of Contents",
   "title_sidebar": "Contents",
   "toc_cell": false,
   "toc_position": {},
   "toc_section_display": true,
   "toc_window_display": false
  }
 },
 "nbformat": 4,
 "nbformat_minor": 5
}
