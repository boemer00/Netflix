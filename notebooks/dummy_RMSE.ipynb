{
 "cells": [
  {
   "cell_type": "code",
   "execution_count": 1,
   "id": "9433bffb",
   "metadata": {},
   "outputs": [],
   "source": [
    "import pandas as pd\n",
    "import numpy as np"
   ]
  },
  {
   "cell_type": "code",
   "execution_count": 3,
   "id": "39127e80",
   "metadata": {},
   "outputs": [],
   "source": [
    "df = pd.read_csv(\"/Users/davidguenoun/code/davidguenoun/wagon_final_project_netflix/Netflix/raw_data/merged_movies_by_index.csv\")"
   ]
  },
  {
   "cell_type": "code",
   "execution_count": 43,
   "id": "84a84ca5",
   "metadata": {
    "scrolled": true
   },
   "outputs": [],
   "source": [
    "X = df.drop(columns = \"avg_review_score\")\n",
    "y = df.avg_review_score"
   ]
  },
  {
   "cell_type": "code",
   "execution_count": 44,
   "id": "db60cb79",
   "metadata": {},
   "outputs": [],
   "source": [
    "#create an array of 10386 rows with the mean\n",
    "y_dummy_pred = np.full(shape =(10386,1),fill_value = y.mean())"
   ]
  },
  {
   "cell_type": "code",
   "execution_count": 46,
   "id": "4810ff24",
   "metadata": {},
   "outputs": [
    {
     "data": {
      "text/plain": [
       "0.4996588291359356"
      ]
     },
     "execution_count": 46,
     "metadata": {},
     "output_type": "execute_result"
    }
   ],
   "source": [
    "import math\n",
    "from sklearn.metrics import mean_squared_error\n",
    "\n",
    "actual = df.avg_review_score\n",
    "predicted = y_dummy_pred\n",
    "\n",
    "mse = mean_squared_error(actual,predicted)\n",
    "\n",
    "rmse = math.sqrt(mse)\n",
    "\n",
    "rmse\n"
   ]
  },
  {
   "cell_type": "code",
   "execution_count": null,
   "id": "3a2addb2",
   "metadata": {},
   "outputs": [],
   "source": [
    "#from sklearn.model_selection import train_test_split\n",
    "#X_train, X_test, y_train, y_test = train_test_split(X, y, test_size=0.3, random_state=42)"
   ]
  }
 ],
 "metadata": {
  "kernelspec": {
   "display_name": "Python 3",
   "language": "python",
   "name": "python3"
  },
  "language_info": {
   "codemirror_mode": {
    "name": "ipython",
    "version": 3
   },
   "file_extension": ".py",
   "mimetype": "text/x-python",
   "name": "python",
   "nbconvert_exporter": "python",
   "pygments_lexer": "ipython3",
   "version": "3.8.6"
  }
 },
 "nbformat": 4,
 "nbformat_minor": 5
}
