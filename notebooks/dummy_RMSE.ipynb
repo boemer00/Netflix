{
 "cells": [
  {
   "cell_type": "code",
   "execution_count": 1,
   "id": "122f1a16",
   "metadata": {},
   "outputs": [],
   "source": [
    "import pandas as pd\n",
    "import numpy as np"
   ]
  },
  {
   "cell_type": "code",
   "execution_count": 2,
   "id": "60c3d240",
   "metadata": {},
   "outputs": [
    {
     "data": {
      "text/plain": [
       "Index(['avg_review_score', 'n_reviews', 'year', 'title', 'Title', 'Year',\n",
       "       'Rated', 'Released', 'Runtime', 'Genre', 'Director', 'Writer', 'Actors',\n",
       "       'Plot', 'Language', 'Country', 'Awards', 'Poster', 'Metascore',\n",
       "       'imdbRating', 'imdbVotes', 'imdbID', 'Type', 'totalSeasons', 'Response',\n",
       "       'Internet Movie Database', 'Index_match', 'DVD', 'BoxOffice',\n",
       "       'Production', 'Website', 'Rotten Tomatoes', 'Metacritic', 'Ratings'],\n",
       "      dtype='object')"
      ]
     },
     "execution_count": 2,
     "metadata": {},
     "output_type": "execute_result"
    }
   ],
   "source": [
    "df = pd.read_csv(\"/Users/davidguenoun/code/davidguenoun/wagon_final_project_netflix/Netflix/raw_data/df_train.csv\")\n",
    "df.columns"
   ]
  },
  {
   "cell_type": "code",
   "execution_count": 3,
   "id": "af081e7a",
   "metadata": {
    "scrolled": true
   },
   "outputs": [],
   "source": [
    "X = df.drop(columns = \"avg_review_score\")\n",
    "y = df.avg_review_score"
   ]
  },
  {
   "cell_type": "code",
   "execution_count": 4,
   "id": "e9410f4d",
   "metadata": {},
   "outputs": [],
   "source": [
    "#create an array of 10386 rows with the mean\n",
    "#np.full(shape =(10386,1),fill_value = y.mean())"
   ]
  },
  {
   "cell_type": "code",
   "execution_count": 5,
   "id": "68a8c0eb",
   "metadata": {},
   "outputs": [],
   "source": [
    "from sklearn.model_selection import train_test_split\n",
    "X_train, X_test, y_train, y_test = train_test_split(X, y, test_size=0.3, random_state=42)"
   ]
  },
  {
   "cell_type": "code",
   "execution_count": 6,
   "id": "2bd9ea6e",
   "metadata": {},
   "outputs": [],
   "source": [
    "from sklearn.model_selection import train_test_split\n",
    "from sklearn.dummy import DummyRegressor\n",
    "from sklearn.linear_model import LinearRegression\n",
    "\n",
    "X_train, X_test, y_train, y_test = train_test_split(X, y,\n",
    "                                                    test_size = 0.3, \n",
    "                                                    random_state = 6)\n",
    "\n",
    "\n",
    "baseline_model = DummyRegressor(strategy=\"mean\")\n",
    "baseline_model.fit(X_train, y_train) \n",
    "y_dummy_pred = baseline_model.predict(X_test)"
   ]
  },
  {
   "cell_type": "code",
   "execution_count": 7,
   "id": "0e0098a5",
   "metadata": {},
   "outputs": [
    {
     "data": {
      "text/plain": [
       "0.501596253963608"
      ]
     },
     "execution_count": 7,
     "metadata": {},
     "output_type": "execute_result"
    }
   ],
   "source": [
    "import math\n",
    "from sklearn.metrics import mean_squared_error\n",
    "\n",
    "actual = y_test\n",
    "predicted = y_dummy_pred\n",
    "\n",
    "mse = mean_squared_error(actual,predicted)\n",
    "\n",
    "rmse = math.sqrt(mse)\n",
    "rmse\n"
   ]
  },
  {
   "cell_type": "markdown",
   "id": "de463975",
   "metadata": {},
   "source": [
    "## Rated Classification"
   ]
  },
  {
   "cell_type": "code",
   "execution_count": 79,
   "id": "fbdbd3c3",
   "metadata": {
    "scrolled": true
   },
   "outputs": [],
   "source": [
    "#Kid\n",
    "df[\"Rated\"] = df[[\"Rated\"]].replace(\"TV-G\",\"Kids\")\n",
    "df[\"Rated\"] = df[[\"Rated\"]].replace(\"TV-PG\",\"Kids\")\n",
    "df[\"Rated\"] = df[[\"Rated\"]].replace(\"Kid\",\"Kids\")\n",
    "df[\"Rated\"] = df[[\"Rated\"]].replace(\"TV-Y7\",\"Kids\")\n",
    "df[\"Rated\"] = df[[\"Rated\"]].replace(\"TV-Y7-FV\",\"Kids\")\n",
    "df[\"Rated\"] = df[[\"Rated\"]].replace(\"TV-Y\",\"Kids\")\n",
    "\n",
    "#17 and over \n",
    "df[\"Rated\"] = df[[\"Rated\"]].replace(\"TV-14\",\"Teens\")\n",
    "df[\"Rated\"] = df[[\"Rated\"]].replace(\"PG-13\",\"Teens\")\n",
    "df[\"Rated\"] = df[[\"Rated\"]].replace(\"TV-MA\",\"Adult\")\n",
    "df[\"Rated\"] = df[[\"Rated\"]].replace(\"NC-17\",\"Adult\")\n",
    "df[\"Rated\"] = df[[\"Rated\"]].replace(\"R\",\"Adult\")\n",
    "df[\"Rated\"] = df[[\"Rated\"]].replace(\"18 and over\",\"Adult\")\n",
    "df[\"Rated\"] = df[[\"Rated\"]].replace(\"Adult\",\"17 and over\")\n",
    "\n",
    "#Not Rated\n",
    "df[\"Rated\"] = df[[\"Rated\"]].fillna(\"Not Rated\")\n",
    "df[\"Rated\"] = df[[\"Rated\"]].replace(\"Unrated\",\"Not Rated\")\n",
    "df[\"Rated\"] = df[[\"Rated\"]].replace(\"NOT RATED\",\"Not Rated\")\n",
    "df[\"Rated\"] = df[[\"Rated\"]].replace(\"UNRATED\",\"Not Rated\")\n",
    "df[\"Rated\"] = df[[\"Rated\"]].replace(\"E\",\"Not Rated\")\n",
    "\n",
    "\n",
    "#Teens\n",
    "df[\"Rated\"] = df[[\"Rated\"]].replace(\"TV-13\",\"Teens\")\n",
    "df[\"Rated\"] = df[[\"Rated\"]].replace(\"PG\",\"Teens\")\n",
    "df[\"Rated\"] = df[[\"Rated\"]].replace(\"M\",\"Teens\")\n",
    "\n",
    "\n",
    "#General\n",
    "df[\"Rated\"] = df[[\"Rated\"]].replace(\"G\",\"General\")\n",
    "df[\"Rated\"] = df[[\"Rated\"]].replace(\"APPROVED\",\"Approved\")\n",
    "df[\"Rated\"] = df[[\"Rated\"]].replace(\"Passed\",\"General\")\n",
    "df[\"Rated\"] = df[[\"Rated\"]].replace(\"M/PG\",\"General\")\n",
    "df[\"Rated\"] = df[[\"Rated\"]].replace(\"Approved\",\"General\")\n",
    "df[\"Rated\"] = df[[\"Rated\"]].replace(\"GP\",\"General\")\n"
   ]
  },
  {
   "cell_type": "code",
   "execution_count": 81,
   "id": "6372a4e8",
   "metadata": {},
   "outputs": [
    {
     "data": {
      "text/plain": [
       "17 and over    2881\n",
       "Not Rated      2392\n",
       "Teens          2040\n",
       "General         794\n",
       "Kids            193\n",
       "X                 9\n",
       "Name: Rated, dtype: int64"
      ]
     },
     "execution_count": 81,
     "metadata": {},
     "output_type": "execute_result"
    }
   ],
   "source": [
    "df[\"Rated\"].value_counts()"
   ]
  },
  {
   "cell_type": "code",
   "execution_count": 85,
   "id": "b4b65cce",
   "metadata": {},
   "outputs": [
    {
     "data": {
      "text/plain": [
       "Index(['avg_review_score', 'n_reviews', 'year', 'title', 'Title', 'Year',\n",
       "       'Rated', 'Released', 'Runtime', 'Genre', 'Director', 'Writer', 'Actors',\n",
       "       'Plot', 'Language', 'Country', 'Awards', 'Poster', 'Metascore',\n",
       "       'imdbRating', 'imdbVotes', 'imdbID', 'Type', 'totalSeasons', 'Response',\n",
       "       'Internet Movie Database', 'Index_match', 'DVD', 'BoxOffice',\n",
       "       'Production', 'Website', 'Rotten Tomatoes', 'Metacritic', 'Ratings'],\n",
       "      dtype='object')"
      ]
     },
     "execution_count": 85,
     "metadata": {},
     "output_type": "execute_result"
    }
   ],
   "source": [
    "df.columns"
   ]
  },
  {
   "cell_type": "code",
   "execution_count": null,
   "id": "aa3efeaa",
   "metadata": {},
   "outputs": [],
   "source": []
  },
  {
   "cell_type": "code",
   "execution_count": null,
   "id": "4cd9f145",
   "metadata": {},
   "outputs": [],
   "source": []
  }
 ],
 "metadata": {
  "kernelspec": {
   "display_name": "Python 3",
   "language": "python",
   "name": "python3"
  },
  "language_info": {
   "codemirror_mode": {
    "name": "ipython",
    "version": 3
   },
   "file_extension": ".py",
   "mimetype": "text/x-python",
   "name": "python",
   "nbconvert_exporter": "python",
   "pygments_lexer": "ipython3",
   "version": "3.8.6"
  }
 },
 "nbformat": 4,
 "nbformat_minor": 5
}
