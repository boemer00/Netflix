{
 "cells": [
  {
   "cell_type": "code",
   "execution_count": 1,
   "id": "8ad4ef66",
   "metadata": {},
   "outputs": [],
   "source": [
    "%load_ext autoreload\n",
    "%autoreload 2"
   ]
  },
  {
   "cell_type": "code",
   "execution_count": 2,
   "id": "cf92fba0",
   "metadata": {},
   "outputs": [],
   "source": [
    "import os\n",
    "import numpy as np\n",
    "import pandas as pd\n",
    "import seaborn as sns\n",
    "import matplotlib.pyplot as plt\n",
    "from Netflix.data import Movies"
   ]
  },
  {
   "cell_type": "code",
   "execution_count": 3,
   "id": "bed5a618",
   "metadata": {},
   "outputs": [],
   "source": [
    "### load split dataset\n",
    "df = pd.read_csv('/Users/renatoboemer/code/boemer00/Netflix/raw_data/merged_movies_by_index.csv')"
   ]
  },
  {
   "cell_type": "code",
   "execution_count": 4,
   "id": "94695226",
   "metadata": {},
   "outputs": [],
   "source": [
    "df = df.drop(columns=['title', 'year', 'Awards', 'Poster', 'Metascore', 'DVD',\n",
    "                      'BoxOffice', 'Internet Movie Database','totalSeasons',\n",
    "                      'imdbVotes','Website', 'Response', 'Production', 'Metacritic',\n",
    "                      'Ratings'])"
   ]
  },
  {
   "cell_type": "code",
   "execution_count": 5,
   "id": "83d2139b",
   "metadata": {},
   "outputs": [
    {
     "data": {
      "text/plain": [
       "(10386, 19)"
      ]
     },
     "execution_count": 5,
     "metadata": {},
     "output_type": "execute_result"
    }
   ],
   "source": [
    "df.shape # original --> (10386, 19)"
   ]
  },
  {
   "cell_type": "code",
   "execution_count": 9,
   "id": "7ab46e30",
   "metadata": {},
   "outputs": [],
   "source": [
    "def data_wrangling(df):\n",
    "    \"\"\" cleaning irrelevant rows and columns \"\"\" \n",
    "    \n",
    "    # drop irrelevant columns\n",
    "    df = df.drop(columns=['title', 'year', 'Awards', 'Poster', 'Metascore', 'DVD',\n",
    "                          'BoxOffice', 'Internet Movie Database','totalSeasons',\n",
    "                          'imdbVotes','Website', 'Response', 'Production', 'Metacritic', 'Ratings'])\n",
    "\n",
    "    ## fill nan and' min', convert to int and replace zero for the mean\n",
    "    df['Runtime'] = df['Runtime'].fillna(0).apply(lambda x: str(x).replace(',', ''))\n",
    "    df['Runtime'] = df['Runtime'].apply(lambda x: float(str(x).replace(' min', '')))\n",
    "    df['Runtime'] = df['Runtime'].replace(0, df['Runtime'].mean())\n",
    "    \n",
    "    ## fill nan and remove '%', convert to float and replace zero for the mean\n",
    "    df['Rotten Tomatoes'] = df['Rotten Tomatoes'].fillna(0) \n",
    "    df['Rotten Tomatoes'] = df['Rotten Tomatoes'].apply(lambda x: float(str(x).replace('%', '')))\n",
    "    df['Rotten Tomatoes'] = df['Rotten Tomatoes'].replace(0, df['Rotten Tomatoes'].mean())\n",
    "    \n",
    "    ## dropna\n",
    "    df = df.dropna(subset = ['Actors', 'Director', 'Writer', 'Language'])\n",
    "    \n",
    "    ## replace with other frequent values\n",
    "    freq_country = df[['Country']].value_counts().reset_index()['Country'][0]\n",
    "    df['Country'] = df['Country'].replace(0, freq_country).replace('United States', freq_country)\n",
    "    freq_genre = df['Genre'].mode()[0]\n",
    "    df['Genre'] = df['Genre'].replace(np.nan, freq_genre)\n",
    "    df['Plot'] = df['Plot'].replace(np.nan,'unknown')\n",
    "    \n",
    "    return df\n",
    "    "
   ]
  },
  {
   "cell_type": "code",
   "execution_count": null,
   "id": "a3022d7a",
   "metadata": {},
   "outputs": [],
   "source": []
  }
 ],
 "metadata": {
  "kernelspec": {
   "display_name": "Python 3",
   "language": "python",
   "name": "python3"
  },
  "language_info": {
   "codemirror_mode": {
    "name": "ipython",
    "version": 3
   },
   "file_extension": ".py",
   "mimetype": "text/x-python",
   "name": "python",
   "nbconvert_exporter": "python",
   "pygments_lexer": "ipython3",
   "version": "3.8.6"
  },
  "toc": {
   "base_numbering": 1,
   "nav_menu": {},
   "number_sections": true,
   "sideBar": true,
   "skip_h1_title": false,
   "title_cell": "Table of Contents",
   "title_sidebar": "Contents",
   "toc_cell": false,
   "toc_position": {},
   "toc_section_display": true,
   "toc_window_display": false
  }
 },
 "nbformat": 4,
 "nbformat_minor": 5
}
