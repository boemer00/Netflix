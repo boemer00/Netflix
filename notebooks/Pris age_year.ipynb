{
 "cells": [
  {
   "cell_type": "code",
   "execution_count": 1,
   "id": "e04570ab",
   "metadata": {},
   "outputs": [],
   "source": [
    "import pandas as pd\n",
    "import numpy as np\n",
    "from datetime import date, time, datetime, timedelta"
   ]
  },
  {
   "cell_type": "code",
   "execution_count": 2,
   "id": "855cfed7",
   "metadata": {},
   "outputs": [],
   "source": [
    "df = pd.read_csv(\"./../raw_data/merged_movies_by_index.csv\")"
   ]
  },
  {
   "cell_type": "code",
   "execution_count": 3,
   "id": "b660abab",
   "metadata": {},
   "outputs": [
    {
     "data": {
      "text/plain": [
       "Index(['avg_review_score', 'n_reviews', 'year', 'title', 'Title', 'Year',\n",
       "       'Rated', 'Released', 'Runtime', 'Genre', 'Director', 'Writer', 'Actors',\n",
       "       'Plot', 'Language', 'Country', 'Awards', 'Poster', 'Metascore',\n",
       "       'imdbRating', 'imdbVotes', 'imdbID', 'Type', 'totalSeasons', 'Response',\n",
       "       'Internet Movie Database', 'Index_match', 'DVD', 'BoxOffice',\n",
       "       'Production', 'Website', 'Rotten Tomatoes', 'Metacritic', 'Ratings'],\n",
       "      dtype='object')"
      ]
     },
     "execution_count": 3,
     "metadata": {},
     "output_type": "execute_result"
    }
   ],
   "source": [
    "df.columns\n"
   ]
  },
  {
   "cell_type": "code",
   "execution_count": 4,
   "id": "204b85a8",
   "metadata": {},
   "outputs": [],
   "source": [
    "# fill the missing values\n",
    "# df[\"Released\"] = df[\"Released\"].fillna(\"Non Available\")"
   ]
  },
  {
   "cell_type": "code",
   "execution_count": 5,
   "id": "73e0e0f7",
   "metadata": {},
   "outputs": [
    {
     "data": {
      "text/plain": [
       "0        2003\n",
       "1        1997\n",
       "2        1997\n",
       "3        1992\n",
       "4        1947\n",
       "         ... \n",
       "10381    1978\n",
       "10382    1998\n",
       "10383    2000\n",
       "10384    2003\n",
       "10385    2003\n",
       "Name: year, Length: 10386, dtype: int64"
      ]
     },
     "execution_count": 5,
     "metadata": {},
     "output_type": "execute_result"
    }
   ],
   "source": [
    "df[\"year\"]"
   ]
  },
  {
   "cell_type": "code",
   "execution_count": 6,
   "id": "227cd677",
   "metadata": {},
   "outputs": [
    {
     "data": {
      "text/plain": [
       "0       2003-01-01\n",
       "1       1997-01-01\n",
       "2       1997-01-01\n",
       "3       1992-01-01\n",
       "4       1947-01-01\n",
       "           ...    \n",
       "10381   1978-01-01\n",
       "10382   1998-01-01\n",
       "10383   2000-01-01\n",
       "10384   2003-01-01\n",
       "10385   2003-01-01\n",
       "Name: year, Length: 10386, dtype: datetime64[ns]"
      ]
     },
     "execution_count": 6,
     "metadata": {},
     "output_type": "execute_result"
    }
   ],
   "source": [
    "# updating the year column from integers to datetime\n",
    "year_age = pd.to_datetime(df.year, format='%Y')\n",
    "year_age"
   ]
  },
  {
   "cell_type": "code",
   "execution_count": 7,
   "id": "4f6578f3",
   "metadata": {},
   "outputs": [
    {
     "data": {
      "text/plain": [
       "0       2003-01-01\n",
       "1       1997-01-01\n",
       "2       1997-01-01\n",
       "3       1992-01-01\n",
       "4       1947-01-01\n",
       "           ...    \n",
       "10381   1978-01-01\n",
       "10382   1998-01-01\n",
       "10383   2000-01-01\n",
       "10384   2003-01-01\n",
       "10385   2003-01-01\n",
       "Name: year_age, Length: 10386, dtype: datetime64[ns]"
      ]
     },
     "execution_count": 7,
     "metadata": {},
     "output_type": "execute_result"
    }
   ],
   "source": [
    "df[\"year_age\"] = pd.to_datetime(df.year, format='%Y')\n",
    "df[\"year_age\"]"
   ]
  },
  {
   "cell_type": "code",
   "execution_count": 8,
   "id": "a4f0bebb",
   "metadata": {},
   "outputs": [
    {
     "data": {
      "text/plain": [
       "Index(['avg_review_score', 'n_reviews', 'year', 'title', 'Title', 'Year',\n",
       "       'Rated', 'Released', 'Runtime', 'Genre', 'Director', 'Writer', 'Actors',\n",
       "       'Plot', 'Language', 'Country', 'Awards', 'Poster', 'Metascore',\n",
       "       'imdbRating', 'imdbVotes', 'imdbID', 'Type', 'totalSeasons', 'Response',\n",
       "       'Internet Movie Database', 'Index_match', 'DVD', 'BoxOffice',\n",
       "       'Production', 'Website', 'Rotten Tomatoes', 'Metacritic', 'Ratings',\n",
       "       'year_age'],\n",
       "      dtype='object')"
      ]
     },
     "execution_count": 8,
     "metadata": {},
     "output_type": "execute_result"
    }
   ],
   "source": [
    "df.columns"
   ]
  },
  {
   "cell_type": "code",
   "execution_count": 9,
   "id": "77ad3898",
   "metadata": {},
   "outputs": [
    {
     "data": {
      "text/plain": [
       "False    10386\n",
       "Name: year, dtype: int64"
      ]
     },
     "execution_count": 9,
     "metadata": {},
     "output_type": "execute_result"
    }
   ],
   "source": [
    "# checking that there are no empty values\n",
    "year_age.isnull().value_counts()"
   ]
  },
  {
   "cell_type": "code",
   "execution_count": 10,
   "id": "321949c0",
   "metadata": {},
   "outputs": [
    {
     "data": {
      "text/plain": [
       "(10386,)"
      ]
     },
     "execution_count": 10,
     "metadata": {},
     "output_type": "execute_result"
    }
   ],
   "source": [
    "year_age.isnull().shape"
   ]
  },
  {
   "cell_type": "code",
   "execution_count": 11,
   "id": "24f75002",
   "metadata": {},
   "outputs": [
    {
     "name": "stdout",
     "output_type": "stream",
     "text": [
      "2021-06-13 20:47:28.077179\n"
     ]
    }
   ],
   "source": [
    "# getting today's date \n",
    "today = datetime.now()\n",
    "print(today)"
   ]
  },
  {
   "cell_type": "code",
   "execution_count": 12,
   "id": "23b66e9a",
   "metadata": {},
   "outputs": [
    {
     "name": "stdout",
     "output_type": "stream",
     "text": [
      "2021-06-13\n"
     ]
    }
   ],
   "source": [
    "# getting today's date in the same format as the year column \n",
    "print(today.strftime('%Y-%m-%d'))"
   ]
  },
  {
   "cell_type": "code",
   "execution_count": 13,
   "id": "e45c0d3b",
   "metadata": {},
   "outputs": [],
   "source": [
    "d1 = today.strftime('%Y-%m-%d')\n",
    "d2 = year_age"
   ]
  },
  {
   "cell_type": "code",
   "execution_count": 14,
   "id": "07da742d",
   "metadata": {},
   "outputs": [],
   "source": [
    "def diff_dates(d1,d2):\n",
    "    d1 = today.strftime('%Y-%m-%d')\n",
    "    d2 = year_age\n",
    "    return abs(d2-d1).days"
   ]
  },
  {
   "cell_type": "code",
   "execution_count": 15,
   "id": "b222b570",
   "metadata": {},
   "outputs": [],
   "source": [
    "\n",
    "def time_between(d1, d2):\n",
    "    d1 = datetime.strptime(d1, \"%Y-%m-%d\")\n",
    "    d2 = datetime.strptime(d2, \"%Y-%m-%d\")\n",
    "    return abs((d2 - d1).days)"
   ]
  },
  {
   "cell_type": "code",
   "execution_count": 16,
   "id": "4b5195be",
   "metadata": {},
   "outputs": [],
   "source": [
    "# df[\"movie_age\"] = df[\"year_age\"].map(time_between)"
   ]
  },
  {
   "cell_type": "code",
   "execution_count": 17,
   "id": "7456e706",
   "metadata": {},
   "outputs": [
    {
     "ename": "SyntaxError",
     "evalue": "invalid syntax (<ipython-input-17-3cc5bdf5bbd9>, line 3)",
     "output_type": "error",
     "traceback": [
      "\u001b[0;36m  File \u001b[0;32m\"<ipython-input-17-3cc5bdf5bbd9>\"\u001b[0;36m, line \u001b[0;32m3\u001b[0m\n\u001b[0;31m    for dates in df[\"year_age\"].apply(lambda x: dates - d1)\u001b[0m\n\u001b[0m                                                            ^\u001b[0m\n\u001b[0;31mSyntaxError\u001b[0m\u001b[0;31m:\u001b[0m invalid syntax\n"
     ]
    }
   ],
   "source": [
    "def time_diff(x):\n",
    "    d1 = datetime.strptime(d1, \"%Y-%m-%d\")\n",
    "    for dates in df[\"year_age\"].apply(lambda x: dates - d1) "
   ]
  },
  {
   "cell_type": "code",
   "execution_count": null,
   "id": "a3582fe2",
   "metadata": {},
   "outputs": [],
   "source": [
    "a = today.strftime('%Y-%m-%d')\n",
    "\n",
    "datetimeFormat = '%Y-%m-%d'\n",
    "dateT = a\n",
    "dateY = year_age\n",
    "diff = datetime.datetime.strptime(dateT, datetimeFormat)\\\n",
    "    - datetime.datetime.strptime(dateY, datetimeFormat)\n",
    " \n",
    "print(\"Difference:\", diff)\n",
    "print(\"Days:\", diff.days)"
   ]
  },
  {
   "cell_type": "code",
   "execution_count": null,
   "id": "297ee47d",
   "metadata": {},
   "outputs": [],
   "source": [
    "df[\"age_year\"] = df[\"Language\"].map(year_age_func)"
   ]
  },
  {
   "cell_type": "code",
   "execution_count": null,
   "id": "b5c6cb4e",
   "metadata": {},
   "outputs": [],
   "source": [
    "df[\"age_year\"] = []\n"
   ]
  },
  {
   "cell_type": "code",
   "execution_count": null,
   "id": "1d0babb5",
   "metadata": {},
   "outputs": [],
   "source": [
    "df_250['Rotten Tomatoes'] = df_250['Rotten Tomatoes'].apply(lambda x: float(str(x).replace('%', '')))\n",
    "df_250['Rotten Tomatoes'] = df_250['Rotten Tomatoes'].replace(0, df_250['Rotten Tomatoes'].mean())"
   ]
  },
  {
   "cell_type": "code",
   "execution_count": null,
   "id": "bdb2fdb6",
   "metadata": {},
   "outputs": [],
   "source": []
  },
  {
   "cell_type": "code",
   "execution_count": null,
   "id": "2538a62b",
   "metadata": {},
   "outputs": [],
   "source": []
  },
  {
   "cell_type": "code",
   "execution_count": null,
   "id": "7c22fe24",
   "metadata": {},
   "outputs": [],
   "source": []
  },
  {
   "cell_type": "code",
   "execution_count": null,
   "id": "834af329",
   "metadata": {},
   "outputs": [],
   "source": [
    "print(today.strftime(\"%c\"))\n",
    "print(today.strftime(\"%x\"))\n",
    "print(today.strftime(\"%X\"))"
   ]
  },
  {
   "cell_type": "code",
   "execution_count": null,
   "id": "63cd1771",
   "metadata": {},
   "outputs": [],
   "source": [
    "age = timedelta(a, year_age)\n"
   ]
  },
  {
   "cell_type": "code",
   "execution_count": null,
   "id": "9b290cc3",
   "metadata": {},
   "outputs": [],
   "source": [
    "datetime1 = datetime.datetime(2000, 1, 1)\n",
    "datetime2 = datetime.datetime(2010, 1, 1)\n",
    "\n",
    "time_difference = relativedelta(datetime2, datetime1)\n",
    "difference_in_years = time_difference.years\n",
    "\n",
    "print(difference_in_years, \"years\")\n"
   ]
  },
  {
   "cell_type": "code",
   "execution_count": null,
   "id": "63a0cdda",
   "metadata": {},
   "outputs": [],
   "source": []
  }
 ],
 "metadata": {
  "kernelspec": {
   "display_name": "Python 3",
   "language": "python",
   "name": "python3"
  },
  "language_info": {
   "codemirror_mode": {
    "name": "ipython",
    "version": 3
   },
   "file_extension": ".py",
   "mimetype": "text/x-python",
   "name": "python",
   "nbconvert_exporter": "python",
   "pygments_lexer": "ipython3",
   "version": "3.8.6"
  },
  "toc": {
   "base_numbering": 1,
   "nav_menu": {},
   "number_sections": true,
   "sideBar": true,
   "skip_h1_title": false,
   "title_cell": "Table of Contents",
   "title_sidebar": "Contents",
   "toc_cell": false,
   "toc_position": {},
   "toc_section_display": true,
   "toc_window_display": false
  }
 },
 "nbformat": 4,
 "nbformat_minor": 5
}
