{
 "cells": [
  {
   "cell_type": "markdown",
   "id": "b6b38288",
   "metadata": {},
   "source": [
    "# Netflix "
   ]
  },
  {
   "cell_type": "code",
   "execution_count": 1,
   "id": "10ce31e6",
   "metadata": {},
   "outputs": [],
   "source": [
    "%load_ext autoreload\n",
    "%autoreload 2"
   ]
  },
  {
   "cell_type": "markdown",
   "id": "e0724e8b",
   "metadata": {},
   "source": [
    "## Libraries"
   ]
  },
  {
   "cell_type": "code",
   "execution_count": 2,
   "id": "0cd34514",
   "metadata": {},
   "outputs": [],
   "source": [
    "import os\n",
    "import numpy as np\n",
    "import pandas as pd\n",
    "import seaborn as sns\n",
    "import matplotlib.pyplot as plt\n",
    "from Netflix.data import Movies"
   ]
  },
  {
   "cell_type": "markdown",
   "id": "599d9475",
   "metadata": {},
   "source": [
    "## Data Wrangling"
   ]
  },
  {
   "cell_type": "code",
   "execution_count": 3,
   "id": "cd1e0c9f",
   "metadata": {},
   "outputs": [],
   "source": [
    "movies = Movies()"
   ]
  },
  {
   "cell_type": "code",
   "execution_count": 4,
   "id": "938c2801",
   "metadata": {},
   "outputs": [],
   "source": [
    "# pd.read_csv('../raw_data/data.csv')"
   ]
  },
  {
   "cell_type": "code",
   "execution_count": 5,
   "id": "cfd361d4",
   "metadata": {},
   "outputs": [],
   "source": [
    "# df = movies.get_data()"
   ]
  },
  {
   "cell_type": "code",
   "execution_count": 6,
   "id": "9e3bfbef",
   "metadata": {},
   "outputs": [],
   "source": [
    "# df"
   ]
  },
  {
   "cell_type": "code",
   "execution_count": 7,
   "id": "91e6ced5",
   "metadata": {},
   "outputs": [],
   "source": [
    "# number of unique movies\n",
    "# df['movie'].nunique()"
   ]
  },
  {
   "cell_type": "code",
   "execution_count": 8,
   "id": "b14e8bef",
   "metadata": {},
   "outputs": [],
   "source": [
    "data = pd.read_csv('../raw_data/data.csv')"
   ]
  },
  {
   "cell_type": "markdown",
   "id": "06d5f7b2",
   "metadata": {},
   "source": [
    "## Train dataset_250"
   ]
  },
  {
   "cell_type": "code",
   "execution_count": 9,
   "id": "db95a216",
   "metadata": {},
   "outputs": [],
   "source": [
    "df_250 = pd.read_csv('../raw_data/250_train.csv')"
   ]
  },
  {
   "cell_type": "code",
   "execution_count": 10,
   "id": "1d8477e0",
   "metadata": {},
   "outputs": [
    {
     "data": {
      "text/html": [
       "<div>\n",
       "<style scoped>\n",
       "    .dataframe tbody tr th:only-of-type {\n",
       "        vertical-align: middle;\n",
       "    }\n",
       "\n",
       "    .dataframe tbody tr th {\n",
       "        vertical-align: top;\n",
       "    }\n",
       "\n",
       "    .dataframe thead th {\n",
       "        text-align: right;\n",
       "    }\n",
       "</style>\n",
       "<table border=\"1\" class=\"dataframe\">\n",
       "  <thead>\n",
       "    <tr style=\"text-align: right;\">\n",
       "      <th></th>\n",
       "      <th>movie_id</th>\n",
       "      <th>Year_x</th>\n",
       "      <th>Name</th>\n",
       "      <th>mean</th>\n",
       "      <th>count</th>\n",
       "      <th>Title</th>\n",
       "      <th>Year_y</th>\n",
       "      <th>Rated</th>\n",
       "      <th>Released</th>\n",
       "      <th>Runtime</th>\n",
       "      <th>...</th>\n",
       "      <th>BoxOffice</th>\n",
       "      <th>Production</th>\n",
       "      <th>Website</th>\n",
       "      <th>Response</th>\n",
       "      <th>Internet Movie Database</th>\n",
       "      <th>Rotten Tomatoes</th>\n",
       "      <th>Metacritic</th>\n",
       "      <th>Error</th>\n",
       "      <th>totalSeasons</th>\n",
       "      <th>Ratings</th>\n",
       "    </tr>\n",
       "  </thead>\n",
       "  <tbody>\n",
       "    <tr>\n",
       "      <th>0</th>\n",
       "      <td>5296</td>\n",
       "      <td>2003.0</td>\n",
       "      <td>Camp</td>\n",
       "      <td>2.982863</td>\n",
       "      <td>6419</td>\n",
       "      <td>Camp</td>\n",
       "      <td>2003</td>\n",
       "      <td>PG-13</td>\n",
       "      <td>29 Aug 2003</td>\n",
       "      <td>114 min</td>\n",
       "      <td>...</td>\n",
       "      <td>$1,629,862</td>\n",
       "      <td>NaN</td>\n",
       "      <td>NaN</td>\n",
       "      <td>True</td>\n",
       "      <td>6.2/10</td>\n",
       "      <td>64%</td>\n",
       "      <td>55/100</td>\n",
       "      <td>NaN</td>\n",
       "      <td>NaN</td>\n",
       "      <td>NaN</td>\n",
       "    </tr>\n",
       "    <tr>\n",
       "      <th>1</th>\n",
       "      <td>12062</td>\n",
       "      <td>2002.0</td>\n",
       "      <td>The Wiggles: Wiggly Safari</td>\n",
       "      <td>3.333333</td>\n",
       "      <td>123</td>\n",
       "      <td>The Wiggles: Wiggly Safari</td>\n",
       "      <td>2002</td>\n",
       "      <td>Not Rated</td>\n",
       "      <td>03 Sep 2002</td>\n",
       "      <td>52 min</td>\n",
       "      <td>...</td>\n",
       "      <td>NaN</td>\n",
       "      <td>NaN</td>\n",
       "      <td>NaN</td>\n",
       "      <td>True</td>\n",
       "      <td>6.6/10</td>\n",
       "      <td>NaN</td>\n",
       "      <td>NaN</td>\n",
       "      <td>NaN</td>\n",
       "      <td>NaN</td>\n",
       "      <td>NaN</td>\n",
       "    </tr>\n",
       "    <tr>\n",
       "      <th>2</th>\n",
       "      <td>16079</td>\n",
       "      <td>2003.0</td>\n",
       "      <td>Dark Waters</td>\n",
       "      <td>2.269091</td>\n",
       "      <td>275</td>\n",
       "      <td>Dark Waters</td>\n",
       "      <td>2019</td>\n",
       "      <td>PG-13</td>\n",
       "      <td>06 Dec 2019</td>\n",
       "      <td>126 min</td>\n",
       "      <td>...</td>\n",
       "      <td>$11,136,084</td>\n",
       "      <td>Killer Films, Participant Media</td>\n",
       "      <td>NaN</td>\n",
       "      <td>True</td>\n",
       "      <td>7.6/10</td>\n",
       "      <td>89%</td>\n",
       "      <td>73/100</td>\n",
       "      <td>NaN</td>\n",
       "      <td>NaN</td>\n",
       "      <td>NaN</td>\n",
       "    </tr>\n",
       "  </tbody>\n",
       "</table>\n",
       "<p>3 rows × 35 columns</p>\n",
       "</div>"
      ],
      "text/plain": [
       "   movie_id  Year_x                        Name      mean  count  \\\n",
       "0      5296  2003.0                        Camp  2.982863   6419   \n",
       "1     12062  2002.0  The Wiggles: Wiggly Safari  3.333333    123   \n",
       "2     16079  2003.0                 Dark Waters  2.269091    275   \n",
       "\n",
       "                        Title Year_y      Rated     Released  Runtime  ...  \\\n",
       "0                        Camp   2003      PG-13  29 Aug 2003  114 min  ...   \n",
       "1  The Wiggles: Wiggly Safari   2002  Not Rated  03 Sep 2002   52 min  ...   \n",
       "2                 Dark Waters   2019      PG-13  06 Dec 2019  126 min  ...   \n",
       "\n",
       "     BoxOffice                       Production Website Response  \\\n",
       "0   $1,629,862                              NaN     NaN     True   \n",
       "1          NaN                              NaN     NaN     True   \n",
       "2  $11,136,084  Killer Films, Participant Media     NaN     True   \n",
       "\n",
       "  Internet Movie Database Rotten Tomatoes Metacritic Error totalSeasons  \\\n",
       "0                  6.2/10             64%     55/100   NaN          NaN   \n",
       "1                  6.6/10             NaN        NaN   NaN          NaN   \n",
       "2                  7.6/10             89%     73/100   NaN          NaN   \n",
       "\n",
       "   Ratings  \n",
       "0      NaN  \n",
       "1      NaN  \n",
       "2      NaN  \n",
       "\n",
       "[3 rows x 35 columns]"
      ]
     },
     "execution_count": 10,
     "metadata": {},
     "output_type": "execute_result"
    }
   ],
   "source": [
    "df_250.head(3)"
   ]
  },
  {
   "cell_type": "markdown",
   "id": "687e02ed",
   "metadata": {},
   "source": [
    "### Runtime"
   ]
  },
  {
   "cell_type": "code",
   "execution_count": 11,
   "id": "b93f7dd5",
   "metadata": {},
   "outputs": [
    {
     "name": "stdout",
     "output_type": "stream",
     "text": [
      "<class 'pandas.core.frame.DataFrame'>\n",
      "RangeIndex: 148 entries, 0 to 147\n",
      "Data columns (total 35 columns):\n",
      " #   Column                   Non-Null Count  Dtype  \n",
      "---  ------                   --------------  -----  \n",
      " 0   movie_id                 148 non-null    int64  \n",
      " 1   Year_x                   148 non-null    float64\n",
      " 2   Name                     148 non-null    object \n",
      " 3   mean                     148 non-null    float64\n",
      " 4   count                    148 non-null    int64  \n",
      " 5   Title                    148 non-null    object \n",
      " 6   Year_y                   148 non-null    object \n",
      " 7   Rated                    132 non-null    object \n",
      " 8   Released                 137 non-null    object \n",
      " 9   Runtime                  146 non-null    object \n",
      " 10  Genre                    148 non-null    object \n",
      " 11  Director                 134 non-null    object \n",
      " 12  Writer                   129 non-null    object \n",
      " 13  Actors                   148 non-null    object \n",
      " 14  Plot                     146 non-null    object \n",
      " 15  Language                 147 non-null    object \n",
      " 16  Country                  148 non-null    object \n",
      " 17  Awards                   90 non-null     object \n",
      " 18  Poster                   148 non-null    object \n",
      " 19  Metascore                63 non-null     float64\n",
      " 20  imdbRating               146 non-null    float64\n",
      " 21  imdbVotes                146 non-null    object \n",
      " 22  imdbID                   148 non-null    object \n",
      " 23  Type                     148 non-null    object \n",
      " 24  DVD                      107 non-null    object \n",
      " 25  BoxOffice                72 non-null     object \n",
      " 26  Production               92 non-null     object \n",
      " 27  Website                  0 non-null      float64\n",
      " 28  Response                 148 non-null    bool   \n",
      " 29  Internet Movie Database  146 non-null    object \n",
      " 30  Rotten Tomatoes          118 non-null    object \n",
      " 31  Metacritic               63 non-null     object \n",
      " 32  Error                    0 non-null      float64\n",
      " 33  totalSeasons             9 non-null      float64\n",
      " 34  Ratings                  2 non-null      object \n",
      "dtypes: bool(1), float64(7), int64(2), object(25)\n",
      "memory usage: 39.6+ KB\n"
     ]
    }
   ],
   "source": [
    "# data type\n",
    "df_250.info()"
   ]
  },
  {
   "cell_type": "code",
   "execution_count": 12,
   "id": "33417058",
   "metadata": {},
   "outputs": [
    {
     "data": {
      "text/plain": [
       "movie_id                     0\n",
       "Year_x                       0\n",
       "Name                         0\n",
       "mean                         0\n",
       "count                        0\n",
       "Title                        0\n",
       "Year_y                       0\n",
       "Rated                       16\n",
       "Released                    11\n",
       "Runtime                      2\n",
       "Genre                        0\n",
       "Director                    14\n",
       "Writer                      19\n",
       "Actors                       0\n",
       "Plot                         2\n",
       "Language                     1\n",
       "Country                      0\n",
       "Awards                      58\n",
       "Poster                       0\n",
       "Metascore                   85\n",
       "imdbRating                   2\n",
       "imdbVotes                    2\n",
       "imdbID                       0\n",
       "Type                         0\n",
       "DVD                         41\n",
       "BoxOffice                   76\n",
       "Production                  56\n",
       "Website                    148\n",
       "Response                     0\n",
       "Internet Movie Database      2\n",
       "Rotten Tomatoes             30\n",
       "Metacritic                  85\n",
       "Error                      148\n",
       "totalSeasons               139\n",
       "Ratings                    146\n",
       "dtype: int64"
      ]
     },
     "execution_count": 12,
     "metadata": {},
     "output_type": "execute_result"
    }
   ],
   "source": [
    "# null values\n",
    "df_250.isnull().sum()"
   ]
  },
  {
   "cell_type": "code",
   "execution_count": 14,
   "id": "552f37de",
   "metadata": {},
   "outputs": [],
   "source": [
    "# fill nan\n",
    "df_250['Runtime'] = df_250['Runtime'].fillna(0)\n",
    "\n",
    "# remove ' min', convert to int and replace zero for the mean\n",
    "df_250['Runtime'] = df_250['Runtime'].apply(lambda x: int(str(x).replace(' min', '')))\n",
    "df_250['Runtime'] = df_250['Runtime'].replace(0, df_250['Runtime'].mean())"
   ]
  },
  {
   "cell_type": "code",
   "execution_count": 15,
   "id": "e3c63232",
   "metadata": {},
   "outputs": [
    {
     "data": {
      "text/plain": [
       "count    148.000000\n",
       "mean     109.171841\n",
       "std       55.334784\n",
       "min       17.000000\n",
       "25%       90.000000\n",
       "50%      102.000000\n",
       "75%      119.000000\n",
       "max      629.000000\n",
       "Name: Runtime, dtype: float64"
      ]
     },
     "execution_count": 15,
     "metadata": {},
     "output_type": "execute_result"
    }
   ],
   "source": [
    "df_250['Runtime'].describe()"
   ]
  },
  {
   "cell_type": "code",
   "execution_count": 16,
   "id": "8201bac8",
   "metadata": {},
   "outputs": [
    {
     "data": {
      "image/png": "[encoded data removed]",
      "text/plain": [
       "<Figure size 360x360 with 1 Axes>"
      ]
     },
     "metadata": {
      "needs_background": "light"
     },
     "output_type": "display_data"
    }
   ],
   "source": [
    "# histogram - complete dataset\n",
    "total_runtime = df_250['Runtime'].reset_index()\n",
    "sns.displot(x=\"Runtime\", data=total_runtime, bins=15, kde=True);"
   ]
  },
  {
   "cell_type": "code",
   "execution_count": 17,
   "id": "0087c09e",
   "metadata": {},
   "outputs": [
    {
     "data": {
      "image/png": "[encoded data removed]",
      "text/plain": [
       "<Figure size 360x360 with 1 Axes>"
      ]
     },
     "metadata": {
      "needs_background": "light"
     },
     "output_type": "display_data"
    }
   ],
   "source": [
    "# histogram - movies up to 200 min (~3h30)\n",
    "runtime_200min = df_250[df_250['Runtime'] < 200]['Runtime'].reset_index()\n",
    "sns.displot(x=\"Runtime\", data=runtime_200min, bins=15, kde=True);"
   ]
  },
  {
   "cell_type": "code",
   "execution_count": 18,
   "id": "323eec74",
   "metadata": {},
   "outputs": [
    {
     "data": {
      "text/plain": [
       "count    146.000000\n",
       "mean     103.948167\n",
       "std       28.397939\n",
       "min       17.000000\n",
       "25%       90.000000\n",
       "50%      101.500000\n",
       "75%      118.750000\n",
       "max      180.000000\n",
       "Name: Runtime, dtype: float64"
      ]
     },
     "execution_count": 18,
     "metadata": {},
     "output_type": "execute_result"
    }
   ],
   "source": [
    "runtime_200min['Runtime'].describe()"
   ]
  },
  {
   "cell_type": "code",
   "execution_count": 24,
   "id": "c56e05e5",
   "metadata": {},
   "outputs": [],
   "source": [
    "# fill nan\n",
    "df_250['Internet Movie Database'] = df_250['Internet Movie Database'].fillna(0)\n",
    "\n",
    "# remove '/10', convert to float and replace zero for the mean\n",
    "df_250['Internet Movie Database'] = df_250['Internet Movie Database'].apply(lambda x: float(str(x).replace('/10', '')))\n",
    "df_250['Internet Movie Database'] = df_250['Internet Movie Database'].replace(0, df_250['Internet Movie Database'].mean())"
   ]
  },
  {
   "cell_type": "code",
   "execution_count": 26,
   "id": "b99be9ca",
   "metadata": {},
   "outputs": [],
   "source": [
    "# fill nan\n",
    "df_250['Rotten Tomatoes'] = df_250['Rotten Tomatoes'].fillna(0)\n",
    "\n",
    "# remove '/10', convert to float and replace zero for the mean\n",
    "df_250['Rotten Tomatoes'] = df_250['Rotten Tomatoes'].apply(lambda x: float(str(x).replace('%', '')))\n",
    "df_250['Rotten Tomatoes'] = df_250['Rotten Tomatoes'].replace(0, df_250['Rotten Tomatoes'].mean())"
   ]
  },
  {
   "cell_type": "code",
   "execution_count": 39,
   "id": "921f0cc3",
   "metadata": {},
   "outputs": [
    {
     "data": {
      "text/html": [
       "<div>\n",
       "<style scoped>\n",
       "    .dataframe tbody tr th:only-of-type {\n",
       "        vertical-align: middle;\n",
       "    }\n",
       "\n",
       "    .dataframe tbody tr th {\n",
       "        vertical-align: top;\n",
       "    }\n",
       "\n",
       "    .dataframe thead th {\n",
       "        text-align: right;\n",
       "    }\n",
       "</style>\n",
       "<table border=\"1\" class=\"dataframe\">\n",
       "  <thead>\n",
       "    <tr style=\"text-align: right;\">\n",
       "      <th></th>\n",
       "      <th>Runtime</th>\n",
       "      <th>Internet Movie Database</th>\n",
       "      <th>Rotten Tomatoes</th>\n",
       "      <th>mean</th>\n",
       "    </tr>\n",
       "  </thead>\n",
       "  <tbody>\n",
       "    <tr>\n",
       "      <th>Runtime</th>\n",
       "      <td>1.000000</td>\n",
       "      <td>0.191978</td>\n",
       "      <td>0.070927</td>\n",
       "      <td>0.214298</td>\n",
       "    </tr>\n",
       "    <tr>\n",
       "      <th>Internet Movie Database</th>\n",
       "      <td>0.191978</td>\n",
       "      <td>1.000000</td>\n",
       "      <td>0.567394</td>\n",
       "      <td>0.660520</td>\n",
       "    </tr>\n",
       "    <tr>\n",
       "      <th>Rotten Tomatoes</th>\n",
       "      <td>0.070927</td>\n",
       "      <td>0.567394</td>\n",
       "      <td>1.000000</td>\n",
       "      <td>0.328607</td>\n",
       "    </tr>\n",
       "    <tr>\n",
       "      <th>mean</th>\n",
       "      <td>0.214298</td>\n",
       "      <td>0.660520</td>\n",
       "      <td>0.328607</td>\n",
       "      <td>1.000000</td>\n",
       "    </tr>\n",
       "  </tbody>\n",
       "</table>\n",
       "</div>"
      ],
      "text/plain": [
       "                          Runtime  Internet Movie Database  Rotten Tomatoes  \\\n",
       "Runtime                  1.000000                 0.191978         0.070927   \n",
       "Internet Movie Database  0.191978                 1.000000         0.567394   \n",
       "Rotten Tomatoes          0.070927                 0.567394         1.000000   \n",
       "mean                     0.214298                 0.660520         0.328607   \n",
       "\n",
       "                             mean  \n",
       "Runtime                  0.214298  \n",
       "Internet Movie Database  0.660520  \n",
       "Rotten Tomatoes          0.328607  \n",
       "mean                     1.000000  "
      ]
     },
     "execution_count": 39,
     "metadata": {},
     "output_type": "execute_result"
    }
   ],
   "source": [
    "runtime_scores = df_250[['Runtime', 'Internet Movie Database', 'Rotten Tomatoes', 'mean']]\n",
    "runtime_scores.corr()"
   ]
  },
  {
   "cell_type": "code",
   "execution_count": null,
   "id": "aeb0dbc7",
   "metadata": {},
   "outputs": [],
   "source": []
  },
  {
   "cell_type": "code",
   "execution_count": null,
   "id": "2774142e",
   "metadata": {},
   "outputs": [],
   "source": []
  },
  {
   "cell_type": "code",
   "execution_count": null,
   "id": "cfcdda40",
   "metadata": {},
   "outputs": [],
   "source": []
  },
  {
   "cell_type": "code",
   "execution_count": null,
   "id": "5a42ba72",
   "metadata": {},
   "outputs": [],
   "source": []
  },
  {
   "cell_type": "code",
   "execution_count": null,
   "id": "077160f1",
   "metadata": {},
   "outputs": [],
   "source": []
  },
  {
   "cell_type": "code",
   "execution_count": null,
   "id": "2aa119ca",
   "metadata": {},
   "outputs": [],
   "source": []
  },
  {
   "cell_type": "code",
   "execution_count": null,
   "id": "a9757052",
   "metadata": {},
   "outputs": [],
   "source": []
  },
  {
   "cell_type": "code",
   "execution_count": null,
   "id": "23bf19c3",
   "metadata": {},
   "outputs": [],
   "source": []
  },
  {
   "cell_type": "code",
   "execution_count": null,
   "id": "888c76c0",
   "metadata": {},
   "outputs": [],
   "source": []
  },
  {
   "cell_type": "code",
   "execution_count": null,
   "id": "14ad1896",
   "metadata": {},
   "outputs": [],
   "source": []
  },
  {
   "cell_type": "code",
   "execution_count": null,
   "id": "c964b875",
   "metadata": {},
   "outputs": [],
   "source": []
  },
  {
   "cell_type": "code",
   "execution_count": null,
   "id": "856dd455",
   "metadata": {},
   "outputs": [],
   "source": []
  },
  {
   "cell_type": "code",
   "execution_count": null,
   "id": "8739e2c5",
   "metadata": {},
   "outputs": [],
   "source": []
  },
  {
   "cell_type": "code",
   "execution_count": null,
   "id": "f1626ebe",
   "metadata": {},
   "outputs": [],
   "source": []
  },
  {
   "cell_type": "code",
   "execution_count": null,
   "id": "b686a2aa",
   "metadata": {},
   "outputs": [],
   "source": []
  },
  {
   "cell_type": "code",
   "execution_count": null,
   "id": "de10f03c",
   "metadata": {},
   "outputs": [],
   "source": []
  }
 ],
 "metadata": {
  "kernelspec": {
   "display_name": "Python 3",
   "language": "python",
   "name": "python3"
  },
  "language_info": {
   "codemirror_mode": {
    "name": "ipython",
    "version": 3
   },
   "file_extension": ".py",
   "mimetype": "text/x-python",
   "name": "python",
   "nbconvert_exporter": "python",
   "pygments_lexer": "ipython3",
   "version": "3.8.6"
  },
  "toc": {
   "base_numbering": 1,
   "nav_menu": {},
   "number_sections": true,
   "sideBar": true,
   "skip_h1_title": false,
   "title_cell": "Table of Contents",
   "title_sidebar": "Contents",
   "toc_cell": false,
   "toc_position": {},
   "toc_section_display": true,
   "toc_window_display": false
  }
 },
 "nbformat": 4,
 "nbformat_minor": 5
}
