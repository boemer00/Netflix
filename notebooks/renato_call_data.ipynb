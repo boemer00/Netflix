{
 "cells": [
  {
   "cell_type": "markdown",
   "id": "b6b38288",
   "metadata": {},
   "source": [
    "# Netflix "
   ]
  },
  {
   "cell_type": "code",
   "execution_count": 1,
   "id": "10ce31e6",
   "metadata": {},
   "outputs": [],
   "source": [
    "%load_ext autoreload\n",
    "%autoreload 2"
   ]
  },
  {
   "cell_type": "markdown",
   "id": "e0724e8b",
   "metadata": {},
   "source": [
    "## Libraries"
   ]
  },
  {
   "cell_type": "code",
   "execution_count": 24,
   "id": "0cd34514",
   "metadata": {},
   "outputs": [],
   "source": [
    "import os\n",
    "import pandas as pd\n",
    "from Netflix.data import Movies"
   ]
  },
  {
   "cell_type": "markdown",
   "id": "599d9475",
   "metadata": {},
   "source": [
    "## Data Wrangling"
   ]
  },
  {
   "cell_type": "code",
   "execution_count": 86,
   "id": "cd1e0c9f",
   "metadata": {},
   "outputs": [],
   "source": [
    "movies = Movies()"
   ]
  },
  {
   "cell_type": "code",
   "execution_count": 87,
   "id": "9ff40c78",
   "metadata": {},
   "outputs": [],
   "source": [
    "# pd.read_csv('../raw_data/data.csv')"
   ]
  },
  {
   "cell_type": "code",
   "execution_count": 88,
   "id": "cfd361d4",
   "metadata": {},
   "outputs": [],
   "source": [
    "# df = movies.get_data()"
   ]
  },
  {
   "cell_type": "code",
   "execution_count": 95,
   "id": "9e3bfbef",
   "metadata": {},
   "outputs": [],
   "source": [
    "# df"
   ]
  },
  {
   "cell_type": "code",
   "execution_count": 97,
   "id": "91e6ced5",
   "metadata": {},
   "outputs": [],
   "source": [
    "# number of unique movies\n",
    "# df['movie'].nunique()"
   ]
  },
  {
   "cell_type": "code",
   "execution_count": 93,
   "id": "b14e8bef",
   "metadata": {},
   "outputs": [],
   "source": [
    "data = pd.read_csv('../raw_data/data.csv')"
   ]
  },
  {
   "cell_type": "code",
   "execution_count": 100,
   "id": "db95a216",
   "metadata": {},
   "outputs": [
    {
     "data": {
      "text/html": [
       "<div>\n",
       "<style scoped>\n",
       "    .dataframe tbody tr th:only-of-type {\n",
       "        vertical-align: middle;\n",
       "    }\n",
       "\n",
       "    .dataframe tbody tr th {\n",
       "        vertical-align: top;\n",
       "    }\n",
       "\n",
       "    .dataframe thead th {\n",
       "        text-align: right;\n",
       "    }\n",
       "</style>\n",
       "<table border=\"1\" class=\"dataframe\">\n",
       "  <thead>\n",
       "    <tr style=\"text-align: right;\">\n",
       "      <th></th>\n",
       "      <th>movie_id</th>\n",
       "      <th>Year</th>\n",
       "      <th>Name</th>\n",
       "      <th>mean</th>\n",
       "      <th>count</th>\n",
       "    </tr>\n",
       "  </thead>\n",
       "  <tbody>\n",
       "    <tr>\n",
       "      <th>17767</th>\n",
       "      <td>17768</td>\n",
       "      <td>2000.0</td>\n",
       "      <td>Epoch</td>\n",
       "      <td>2.839207</td>\n",
       "      <td>1362</td>\n",
       "    </tr>\n",
       "    <tr>\n",
       "      <th>17768</th>\n",
       "      <td>17769</td>\n",
       "      <td>2003.0</td>\n",
       "      <td>The Company</td>\n",
       "      <td>2.498592</td>\n",
       "      <td>6749</td>\n",
       "    </tr>\n",
       "    <tr>\n",
       "      <th>17769</th>\n",
       "      <td>17770</td>\n",
       "      <td>2003.0</td>\n",
       "      <td>Alien Hunter</td>\n",
       "      <td>2.816504</td>\n",
       "      <td>921</td>\n",
       "    </tr>\n",
       "  </tbody>\n",
       "</table>\n",
       "</div>"
      ],
      "text/plain": [
       "       movie_id    Year          Name      mean  count\n",
       "17767     17768  2000.0         Epoch  2.839207   1362\n",
       "17768     17769  2003.0   The Company  2.498592   6749\n",
       "17769     17770  2003.0  Alien Hunter  2.816504    921"
      ]
     },
     "execution_count": 100,
     "metadata": {},
     "output_type": "execute_result"
    }
   ],
   "source": [
    "data.tail(3)"
   ]
  },
  {
   "cell_type": "code",
   "execution_count": null,
   "id": "2c56b715",
   "metadata": {},
   "outputs": [],
   "source": []
  }
 ],
 "metadata": {
  "kernelspec": {
   "display_name": "Python 3",
   "language": "python",
   "name": "python3"
  },
  "language_info": {
   "codemirror_mode": {
    "name": "ipython",
    "version": 3
   },
   "file_extension": ".py",
   "mimetype": "text/x-python",
   "name": "python",
   "nbconvert_exporter": "python",
   "pygments_lexer": "ipython3",
   "version": "3.8.6"
  },
  "toc": {
   "base_numbering": 1,
   "nav_menu": {},
   "number_sections": true,
   "sideBar": true,
   "skip_h1_title": false,
   "title_cell": "Table of Contents",
   "title_sidebar": "Contents",
   "toc_cell": false,
   "toc_position": {},
   "toc_section_display": true,
   "toc_window_display": false
  }
 },
 "nbformat": 4,
 "nbformat_minor": 5
}
