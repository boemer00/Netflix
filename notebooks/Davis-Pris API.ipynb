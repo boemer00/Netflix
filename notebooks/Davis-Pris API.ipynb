{
 "cells": [
  {
   "cell_type": "markdown",
   "id": "fad4f100",
   "metadata": {},
   "source": [
    "NETFLIX PROJECT"
   ]
  },
  {
   "cell_type": "markdown",
   "id": "9016c960",
   "metadata": {},
   "source": [
    "# Getting the API\n"
   ]
  },
  {
   "cell_type": "code",
   "execution_count": 1,
   "id": "8ee70788",
   "metadata": {},
   "outputs": [],
   "source": [
    "import requests\n",
    "import pandas as pd"
   ]
  },
  {
   "cell_type": "code",
   "execution_count": 2,
   "id": "f46a1d72",
   "metadata": {},
   "outputs": [
    {
     "data": {
      "text/plain": [
       "{'Title': 'Guardians of the Galaxy Vol. 2',\n",
       " 'Year': '2017',\n",
       " 'Rated': 'PG-13',\n",
       " 'Released': '05 May 2017',\n",
       " 'Runtime': '136 min',\n",
       " 'Genre': 'Action, Adventure, Comedy',\n",
       " 'Director': 'James Gunn',\n",
       " 'Writer': 'James Gunn, Dan Abnett, Andy Lanning',\n",
       " 'Actors': 'Chris Pratt, Zoe Saldana, Dave Bautista',\n",
       " 'Plot': \"The Guardians struggle to keep together as a team while dealing with their personal family issues, notably Star-Lord's encounter with his father the ambitious celestial being Ego.\",\n",
       " 'Language': 'English',\n",
       " 'Country': 'United States',\n",
       " 'Awards': 'Nominated for 1 Oscar. 15 wins & 58 nominations total',\n",
       " 'Poster': 'https://m.media-amazon.com/images/M/MV5BNjM0NTc0NzItM2FlYS00YzEwLWE0YmUtNTA2ZWIzODc2OTgxXkEyXkFqcGdeQXVyNTgwNzIyNzg@._V1_SX300.jpg',\n",
       " 'Ratings': [{'Source': 'Internet Movie Database', 'Value': '7.6/10'},\n",
       "  {'Source': 'Rotten Tomatoes', 'Value': '85%'},\n",
       "  {'Source': 'Metacritic', 'Value': '67/100'}],\n",
       " 'Metascore': '67',\n",
       " 'imdbRating': '7.6',\n",
       " 'imdbVotes': '589,440',\n",
       " 'imdbID': 'tt3896198',\n",
       " 'Type': 'movie',\n",
       " 'DVD': '10 Jul 2017',\n",
       " 'BoxOffice': '$389,813,101',\n",
       " 'Production': 'Walt Disney Pictures, Marvel Studios',\n",
       " 'Website': 'N/A',\n",
       " 'Response': 'True'}"
      ]
     },
     "execution_count": 2,
     "metadata": {},
     "output_type": "execute_result"
    }
   ],
   "source": [
    "# getting the information from the url\n",
    "url = 'http://www.omdbapi.com/?i=tt3896198&apikey=ef5507df'\n",
    "response = requests.get(url).json()\n",
    "response"
   ]
  },
  {
   "cell_type": "code",
   "execution_count": 3,
   "id": "5b1b739a",
   "metadata": {},
   "outputs": [
    {
     "data": {
      "text/plain": [
       "dict_keys(['Title', 'Year', 'Rated', 'Released', 'Runtime', 'Genre', 'Director', 'Writer', 'Actors', 'Plot', 'Language', 'Country', 'Awards', 'Poster', 'Ratings', 'Metascore', 'imdbRating', 'imdbVotes', 'imdbID', 'Type', 'DVD', 'BoxOffice', 'Production', 'Website', 'Response'])"
      ]
     },
     "execution_count": 3,
     "metadata": {},
     "output_type": "execute_result"
    }
   ],
   "source": [
    "response.keys()"
   ]
  },
  {
   "cell_type": "code",
   "execution_count": 4,
   "id": "4001d420",
   "metadata": {},
   "outputs": [
    {
     "data": {
      "text/plain": [
       "{'Title': 'The Mask',\n",
       " 'Year': '1994',\n",
       " 'Rated': 'PG-13',\n",
       " 'Released': '29 Jul 1994',\n",
       " 'Runtime': '101 min',\n",
       " 'Genre': 'Action, Comedy, Crime, Fantasy',\n",
       " 'Director': 'Chuck Russell',\n",
       " 'Writer': 'Michael Fallon (story), Mark Verheiden (story), Mike Werb (screenplay)',\n",
       " 'Actors': 'Jim Carrey, Peter Riegert, Peter Greene, Amy Yasbeck',\n",
       " 'Plot': 'Bank clerk Stanley Ipkiss is transformed into a manic superhero when he wears a mysterious mask.',\n",
       " 'Language': 'English, Swedish',\n",
       " 'Country': 'USA',\n",
       " 'Awards': 'Nominated for 1 Oscar. Another 6 wins & 20 nominations.',\n",
       " 'Poster': 'https://m.media-amazon.com/images/M/MV5BOWExYjI5MzktNTRhNi00Nzg2LThkZmQtYWVkYjRlYWI2MDQ4XkEyXkFqcGdeQXVyNTAyODkwOQ@@._V1_SX300.jpg',\n",
       " 'Ratings': [{'Source': 'Internet Movie Database', 'Value': '6.9/10'},\n",
       "  {'Source': 'Rotten Tomatoes', 'Value': '79%'},\n",
       "  {'Source': 'Metacritic', 'Value': '56/100'}],\n",
       " 'Metascore': '56',\n",
       " 'imdbRating': '6.9',\n",
       " 'imdbVotes': '353,410',\n",
       " 'imdbID': 'tt0110475',\n",
       " 'Type': 'movie',\n",
       " 'DVD': '01 Jun 2009',\n",
       " 'BoxOffice': '$119,938,730',\n",
       " 'Production': 'New Line Cinema, Dark Horse Entertainment',\n",
       " 'Website': 'N/A',\n",
       " 'Response': 'True'}"
      ]
     },
     "execution_count": 4,
     "metadata": {},
     "output_type": "execute_result"
    }
   ],
   "source": [
    "# creating a function which returns all movie info from Title as an input \n",
    "\n",
    "def movie_info_x(Title):\n",
    "    url = f'http://www.omdbapi.com/?t={Title}&apikey=ef5507df'\n",
    "    response = requests.get(url).json()\n",
    "    return response \n",
    "    \n",
    "movie_info_x(\"The Mask\")"
   ]
  },
  {
   "cell_type": "markdown",
   "id": "77826aac",
   "metadata": {},
   "source": [
    "# Personalising the API response "
   ]
  },
  {
   "cell_type": "code",
   "execution_count": 5,
   "id": "f48554d6",
   "metadata": {},
   "outputs": [],
   "source": [
    "# to show the ratings from Rotten Tomatoes and from Metacritics as additional columns"
   ]
  },
  {
   "cell_type": "code",
   "execution_count": 6,
   "id": "b712dcb1",
   "metadata": {},
   "outputs": [],
   "source": [
    "Title = \"The Mask\"\n",
    "url = f'http://www.omdbapi.com/?t={Title}&apikey=ef5507df'\n",
    "response = requests.get(url).json()\n",
    "ratings_list = response[\"Ratings\"]\n",
    "for i in range(1, len(ratings_list)):\n",
    "    response[ratings_list[i]['Source']] = ratings_list[i]['Value']\n",
    "    "
   ]
  },
  {
   "cell_type": "code",
   "execution_count": 7,
   "id": "fac8e5be",
   "metadata": {},
   "outputs": [
    {
     "data": {
      "text/plain": [
       "{'Title': 'The Mask',\n",
       " 'Year': '1994',\n",
       " 'Rated': 'PG-13',\n",
       " 'Released': '29 Jul 1994',\n",
       " 'Runtime': '101 min',\n",
       " 'Genre': 'Action, Comedy, Crime, Fantasy',\n",
       " 'Director': 'Chuck Russell',\n",
       " 'Writer': 'Michael Fallon (story), Mark Verheiden (story), Mike Werb (screenplay)',\n",
       " 'Actors': 'Jim Carrey, Peter Riegert, Peter Greene, Amy Yasbeck',\n",
       " 'Plot': 'Bank clerk Stanley Ipkiss is transformed into a manic superhero when he wears a mysterious mask.',\n",
       " 'Language': 'English, Swedish',\n",
       " 'Country': 'USA',\n",
       " 'Awards': 'Nominated for 1 Oscar. Another 6 wins & 20 nominations.',\n",
       " 'Poster': 'https://m.media-amazon.com/images/M/MV5BOWExYjI5MzktNTRhNi00Nzg2LThkZmQtYWVkYjRlYWI2MDQ4XkEyXkFqcGdeQXVyNTAyODkwOQ@@._V1_SX300.jpg',\n",
       " 'Ratings': [{'Source': 'Internet Movie Database', 'Value': '6.9/10'},\n",
       "  {'Source': 'Rotten Tomatoes', 'Value': '79%'},\n",
       "  {'Source': 'Metacritic', 'Value': '56/100'}],\n",
       " 'Metascore': '56',\n",
       " 'imdbRating': '6.9',\n",
       " 'imdbVotes': '353,410',\n",
       " 'imdbID': 'tt0110475',\n",
       " 'Type': 'movie',\n",
       " 'DVD': '01 Jun 2009',\n",
       " 'BoxOffice': '$119,938,730',\n",
       " 'Production': 'New Line Cinema, Dark Horse Entertainment',\n",
       " 'Website': 'N/A',\n",
       " 'Response': 'True',\n",
       " 'Rotten Tomatoes': '79%',\n",
       " 'Metacritic': '56/100'}"
      ]
     },
     "execution_count": 7,
     "metadata": {},
     "output_type": "execute_result"
    }
   ],
   "source": [
    "response"
   ]
  },
  {
   "cell_type": "code",
   "execution_count": 8,
   "id": "44c2d05c",
   "metadata": {},
   "outputs": [],
   "source": [
    "# updating the function to includ the above 2 additional columns & dropping the original Ratings dictionary \n",
    "\n",
    "def movie_info_(Title):\n",
    "    url = f'http://www.omdbapi.com/?t={Title}&apikey=ef5507df'\n",
    "    response = requests.get(url).json()\n",
    "    ratings_list = response[\"Ratings\"]\n",
    "    for i in range(1, len(ratings_list)):\n",
    "         response[ratings_list[i]['Source']] = ratings_list[i]['Value']\n",
    "    del response[\"Ratings\"]\n",
    "    return response\n",
    "        "
   ]
  },
  {
   "cell_type": "code",
   "execution_count": 9,
   "id": "1fe5f4ee",
   "metadata": {},
   "outputs": [
    {
     "data": {
      "text/plain": [
       "{'Title': 'Titanic',\n",
       " 'Year': '1997',\n",
       " 'Rated': 'PG-13',\n",
       " 'Released': '19 Dec 1997',\n",
       " 'Runtime': '194 min',\n",
       " 'Genre': 'Drama, Romance',\n",
       " 'Director': 'James Cameron',\n",
       " 'Writer': 'James Cameron',\n",
       " 'Actors': 'Leonardo DiCaprio, Kate Winslet, Billy Zane, Kathy Bates',\n",
       " 'Plot': 'A seventeen-year-old aristocrat falls in love with a kind but poor artist aboard the luxurious, ill-fated R.M.S. Titanic.',\n",
       " 'Language': 'English, Swedish, Italian, French',\n",
       " 'Country': 'USA, Mexico, Australia, Canada',\n",
       " 'Awards': 'Won 11 Oscars. Another 115 wins & 83 nominations.',\n",
       " 'Poster': 'https://m.media-amazon.com/images/M/MV5BMDdmZGU3NDQtY2E5My00ZTliLWIzOTUtMTY4ZGI1YjdiNjk3XkEyXkFqcGdeQXVyNTA4NzY1MzY@._V1_SX300.jpg',\n",
       " 'Metascore': '75',\n",
       " 'imdbRating': '7.8',\n",
       " 'imdbVotes': '1,067,012',\n",
       " 'imdbID': 'tt0120338',\n",
       " 'Type': 'movie',\n",
       " 'DVD': '01 Jun 2014',\n",
       " 'BoxOffice': '$659,363,944',\n",
       " 'Production': '20th Century Fox, Lightstorm Entertainment, Paramount Pictures',\n",
       " 'Website': 'N/A',\n",
       " 'Response': 'True',\n",
       " 'Rotten Tomatoes': '89%',\n",
       " 'Metacritic': '75/100'}"
      ]
     },
     "execution_count": 9,
     "metadata": {},
     "output_type": "execute_result"
    }
   ],
   "source": [
    "movie_info_(\"Titanic\")"
   ]
  },
  {
   "cell_type": "code",
   "execution_count": null,
   "id": "76a49c52",
   "metadata": {},
   "outputs": [],
   "source": []
  },
  {
   "cell_type": "code",
   "execution_count": null,
   "id": "9af978b0",
   "metadata": {},
   "outputs": [],
   "source": []
  },
  {
   "cell_type": "code",
   "execution_count": null,
   "id": "d2cacad2",
   "metadata": {},
   "outputs": [],
   "source": []
  },
  {
   "cell_type": "code",
   "execution_count": null,
   "id": "d34cff92",
   "metadata": {},
   "outputs": [],
   "source": []
  },
  {
   "cell_type": "markdown",
   "id": "e20084ee",
   "metadata": {},
   "source": [
    "# Updating the movie_info function to take our df as input"
   ]
  },
  {
   "cell_type": "code",
   "execution_count": 10,
   "id": "929af84b",
   "metadata": {},
   "outputs": [],
   "source": [
    "# Addapting the \n",
    "\n",
    "def movie_info_imdb(df):\n",
    "    movies = []\n",
    "    for index , row in df.iterows:\n",
    "        title = row[\"Title\"] #check the exact name of column\n",
    "        url = f'http://www.omdbapi.com/?t={title}&apikey=ef5507df'\n",
    "        response = requests.get(url).json()\n",
    "        ratings_list = response.get(\"Ratings\")\n",
    "        if ratings_list:\n",
    "            for i in range(1, len(ratings_list)):\n",
    "                response[ratings_list[i]['Source']] = ratings_list[i]['Value']\n",
    "            del response['Ratings']\n",
    "        movies.append(response)\n",
    "    return pd.Dataframe(movies)\n"
   ]
  },
  {
   "cell_type": "code",
   "execution_count": 11,
   "id": "4c4ab762",
   "metadata": {},
   "outputs": [
    {
     "ename": "AttributeError",
     "evalue": "'str' object has no attribute 'iterows'",
     "output_type": "error",
     "traceback": [
      "\u001b[0;31m---------------------------------------------------------------------------\u001b[0m",
      "\u001b[0;31mAttributeError\u001b[0m                            Traceback (most recent call last)",
      "\u001b[0;32m<ipython-input-11-ef7ab3fe6168>\u001b[0m in \u001b[0;36m<module>\u001b[0;34m\u001b[0m\n\u001b[0;32m----> 1\u001b[0;31m \u001b[0mmovie_info_imdb\u001b[0m\u001b[0;34m(\u001b[0m\u001b[0;34m\"df\"\u001b[0m\u001b[0;34m)\u001b[0m\u001b[0;34m\u001b[0m\u001b[0;34m\u001b[0m\u001b[0m\n\u001b[0m",
      "\u001b[0;32m<ipython-input-10-489c4504a6e8>\u001b[0m in \u001b[0;36mmovie_info_imdb\u001b[0;34m(df)\u001b[0m\n\u001b[1;32m      3\u001b[0m \u001b[0;32mdef\u001b[0m \u001b[0mmovie_info_imdb\u001b[0m\u001b[0;34m(\u001b[0m\u001b[0mdf\u001b[0m\u001b[0;34m)\u001b[0m\u001b[0;34m:\u001b[0m\u001b[0;34m\u001b[0m\u001b[0;34m\u001b[0m\u001b[0m\n\u001b[1;32m      4\u001b[0m     \u001b[0mmovies\u001b[0m \u001b[0;34m=\u001b[0m \u001b[0;34m[\u001b[0m\u001b[0;34m]\u001b[0m\u001b[0;34m\u001b[0m\u001b[0;34m\u001b[0m\u001b[0m\n\u001b[0;32m----> 5\u001b[0;31m     \u001b[0;32mfor\u001b[0m \u001b[0mindex\u001b[0m \u001b[0;34m,\u001b[0m \u001b[0mrow\u001b[0m \u001b[0;32min\u001b[0m \u001b[0mdf\u001b[0m\u001b[0;34m.\u001b[0m\u001b[0miterows\u001b[0m\u001b[0;34m:\u001b[0m\u001b[0;34m\u001b[0m\u001b[0;34m\u001b[0m\u001b[0m\n\u001b[0m\u001b[1;32m      6\u001b[0m         \u001b[0mtitle\u001b[0m \u001b[0;34m=\u001b[0m \u001b[0mrow\u001b[0m\u001b[0;34m[\u001b[0m\u001b[0;34m\"Title\"\u001b[0m\u001b[0;34m]\u001b[0m \u001b[0;31m#check the exact name of column\u001b[0m\u001b[0;34m\u001b[0m\u001b[0;34m\u001b[0m\u001b[0m\n\u001b[1;32m      7\u001b[0m         \u001b[0murl\u001b[0m \u001b[0;34m=\u001b[0m \u001b[0;34mf'http://www.omdbapi.com/?t={title}&apikey=ef5507df'\u001b[0m\u001b[0;34m\u001b[0m\u001b[0;34m\u001b[0m\u001b[0m\n",
      "\u001b[0;31mAttributeError\u001b[0m: 'str' object has no attribute 'iterows'"
     ]
    }
   ],
   "source": [
    "movie_info_imdb(\"df\")"
   ]
  },
  {
   "cell_type": "code",
   "execution_count": null,
   "id": "cb8d1e75",
   "metadata": {},
   "outputs": [],
   "source": [
    "pd.DataFrame([movie_info_(\"Titanic\")])"
   ]
  }
 ],
 "metadata": {
  "kernelspec": {
   "display_name": "Python 3",
   "language": "python",
   "name": "python3"
  },
  "language_info": {
   "codemirror_mode": {
    "name": "ipython",
    "version": 3
   },
   "file_extension": ".py",
   "mimetype": "text/x-python",
   "name": "python",
   "nbconvert_exporter": "python",
   "pygments_lexer": "ipython3",
   "version": "3.8.6"
  },
  "toc": {
   "base_numbering": 1,
   "nav_menu": {},
   "number_sections": true,
   "sideBar": true,
   "skip_h1_title": false,
   "title_cell": "Table of Contents",
   "title_sidebar": "Contents",
   "toc_cell": false,
   "toc_position": {},
   "toc_section_display": true,
   "toc_window_display": false
  }
 },
 "nbformat": 4,
 "nbformat_minor": 5
}
