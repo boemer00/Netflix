{
 "cells": [
  {
   "cell_type": "code",
   "execution_count": 1,
   "id": "7ba0286f",
   "metadata": {},
   "outputs": [],
   "source": [
    "%load_ext autoreload\n",
    "%autoreload 2"
   ]
  },
  {
   "cell_type": "code",
   "execution_count": 3,
   "id": "1f698e20",
   "metadata": {},
   "outputs": [],
   "source": [
    "import os\n",
    "import numpy as np\n",
    "import pandas as pd\n",
    "import seaborn as sns\n",
    "import matplotlib.pyplot as plt"
   ]
  },
  {
   "cell_type": "code",
   "execution_count": 4,
   "id": "80f43bbd",
   "metadata": {},
   "outputs": [],
   "source": [
    "# Chris dataset\n",
    "df = pd.read_csv('/Users/renatoboemer/code/boemer00/Netflix/raw_data/merged_movies_by_index.csv')"
   ]
  },
  {
   "cell_type": "code",
   "execution_count": 5,
   "id": "1ac600e8",
   "metadata": {},
   "outputs": [
    {
     "data": {
      "text/plain": [
       "(10386, 34)"
      ]
     },
     "execution_count": 5,
     "metadata": {},
     "output_type": "execute_result"
    }
   ],
   "source": [
    "df.shape  # 80% = 8309 |  20% = 2077  "
   ]
  },
  {
   "cell_type": "markdown",
   "id": "c1bbe4e8",
   "metadata": {},
   "source": [
    "## Data Split"
   ]
  },
  {
   "cell_type": "code",
   "execution_count": 6,
   "id": "30aef466",
   "metadata": {},
   "outputs": [],
   "source": [
    "df = df[:8309]\n",
    "df_test = df[8309:]"
   ]
  },
  {
   "cell_type": "code",
   "execution_count": 7,
   "id": "8960dd73",
   "metadata": {},
   "outputs": [
    {
     "data": {
      "text/plain": [
       "(8309, 34)"
      ]
     },
     "execution_count": 7,
     "metadata": {},
     "output_type": "execute_result"
    }
   ],
   "source": [
    "df.shape"
   ]
  },
  {
   "cell_type": "code",
   "execution_count": 8,
   "id": "85d60252",
   "metadata": {},
   "outputs": [],
   "source": [
    "df.to_csv('df_train.csv', index=False)\n",
    "df_test.to_csv('df_test_DONT_TOUCH.csv', index=False)"
   ]
  },
  {
   "cell_type": "markdown",
   "id": "3f4a2b1c",
   "metadata": {},
   "source": [
    "## Data Wrangling"
   ]
  },
  {
   "cell_type": "code",
   "execution_count": 9,
   "id": "52bf9d38",
   "metadata": {},
   "outputs": [],
   "source": [
    "def data_wrangling(df):\n",
    "    \"\"\" cleaning irrelevant rows and columns \"\"\" \n",
    "    \n",
    "    # drop irrelevant columns\n",
    "    df = df.drop(columns=['title', 'year', 'Awards', 'Poster', 'Metascore', 'DVD',\n",
    "                          'BoxOffice', 'Internet Movie Database','totalSeasons',\n",
    "                          'imdbVotes','Website', 'Response', 'Production', 'Metacritic', 'Ratings'])\n",
    "\n",
    "    ## fill nan and' min', convert to int and replace zero for the mean\n",
    "    df['Runtime'] = df['Runtime'].fillna(0).apply(lambda x: str(x).replace(',', ''))\n",
    "    df['Runtime'] = df['Runtime'].apply(lambda x: float(str(x).replace(' min', '')))\n",
    "    df['Runtime'] = df['Runtime'].replace(0, df['Runtime'].mean())\n",
    "    \n",
    "    ## fill nan and remove '%', convert to float and replace zero for the mean\n",
    "    df['Rotten Tomatoes'] = df['Rotten Tomatoes'].fillna(0) \n",
    "    df['Rotten Tomatoes'] = df['Rotten Tomatoes'].apply(lambda x: float(str(x).replace('%', '')))\n",
    "    df['Rotten Tomatoes'] = df['Rotten Tomatoes'].replace(0, df['Rotten Tomatoes'].mean())\n",
    "    \n",
    "    ## dropna\n",
    "    df = df.dropna(subset = ['Actors', 'Director', 'Writer', 'Language'])\n",
    "    \n",
    "    ## replace with other frequent values\n",
    "    freq_country = df[['Country']].value_counts().reset_index()['Country'][0]\n",
    "    df['Country'] = df['Country'].replace(0, freq_country).replace('United States', freq_country)\n",
    "    freq_genre = df['Genre'].mode()[0]\n",
    "    df['Genre'] = df['Genre'].replace(np.nan, freq_genre)\n",
    "    df['Plot'] = df['Plot'].replace(np.nan,'unknown')\n",
    "    \n",
    "    return df\n",
    "    "
   ]
  },
  {
   "cell_type": "code",
   "execution_count": 10,
   "id": "5b6ae1d8",
   "metadata": {},
   "outputs": [],
   "source": [
    "# questions: index_match?\n",
    "df = data_wrangling(df)"
   ]
  },
  {
   "cell_type": "code",
   "execution_count": 11,
   "id": "f5cfaec6",
   "metadata": {},
   "outputs": [
    {
     "data": {
      "text/plain": [
       "(7309, 19)"
      ]
     },
     "execution_count": 11,
     "metadata": {},
     "output_type": "execute_result"
    }
   ],
   "source": [
    "df.shape"
   ]
  },
  {
   "cell_type": "markdown",
   "id": "c9440803",
   "metadata": {},
   "source": [
    "## Data Exploration"
   ]
  },
  {
   "cell_type": "code",
   "execution_count": null,
   "id": "9a09b082",
   "metadata": {},
   "outputs": [],
   "source": []
  },
  {
   "cell_type": "code",
   "execution_count": null,
   "id": "3d515564",
   "metadata": {},
   "outputs": [],
   "source": []
  },
  {
   "cell_type": "markdown",
   "id": "320d6a7b",
   "metadata": {},
   "source": [
    "## Pipeline"
   ]
  },
  {
   "cell_type": "code",
   "execution_count": null,
   "id": "57aca08d",
   "metadata": {},
   "outputs": [],
   "source": []
  },
  {
   "cell_type": "code",
   "execution_count": null,
   "id": "4909197c",
   "metadata": {},
   "outputs": [],
   "source": []
  },
  {
   "cell_type": "markdown",
   "id": "58b7e76f",
   "metadata": {},
   "source": [
    "## MLFlow"
   ]
  },
  {
   "cell_type": "code",
   "execution_count": 15,
   "id": "3507a74b",
   "metadata": {},
   "outputs": [],
   "source": [
    "from mlflow.tracking import MlflowClient\n",
    "\n",
    "EXPERIMENT_NAME = \"[UK] [London] [boemer] netflix + v1\"\n",
    "client = MlflowClient()\n",
    "try:\n",
    "    experiment_id = client.create_experiment(EXPERIMENT_NAME)\n",
    "except BaseException:\n",
    "    experiment_id = client.get_experiment_by_name(EXPERIMENT_NAME).experiment_id\n",
    "\n",
    "for model in [\"linear\", \"Randomforest\"]:\n",
    "    run = client.create_run(experiment_id)\n",
    "    client.log_metric(run.info.run_id, \"rmse\", 4.5)\n",
    "    client.log_param(run.info.run_id, \"model\", model)"
   ]
  },
  {
   "cell_type": "code",
   "execution_count": 14,
   "id": "046946b7",
   "metadata": {},
   "outputs": [
    {
     "name": "stdout",
     "output_type": "stream",
     "text": [
      "[2021-06-10 14:16:26 +0100] [85034] [INFO] Starting gunicorn 20.1.0\n",
      "[2021-06-10 14:16:26 +0100] [85034] [INFO] Listening at: http://127.0.0.1:5000 (85034)\n",
      "[2021-06-10 14:16:26 +0100] [85034] [INFO] Using worker: sync\n",
      "[2021-06-10 14:16:26 +0100] [85116] [INFO] Booting worker with pid: 85116\n",
      "^C\n",
      "[2021-06-10 14:18:28 +0100] [85034] [INFO] Handling signal: int\n",
      "[2021-06-10 14:18:28 +0100] [85116] [INFO] Worker exiting (pid: 85116)\n"
     ]
    }
   ],
   "source": [
    "!mlflow ui"
   ]
  },
  {
   "cell_type": "code",
   "execution_count": null,
   "id": "f12a1ba7",
   "metadata": {},
   "outputs": [],
   "source": []
  },
  {
   "cell_type": "code",
   "execution_count": null,
   "id": "42a1abef",
   "metadata": {},
   "outputs": [],
   "source": []
  },
  {
   "cell_type": "code",
   "execution_count": null,
   "id": "3426074c",
   "metadata": {},
   "outputs": [],
   "source": []
  }
 ],
 "metadata": {
  "kernelspec": {
   "display_name": "Python 3",
   "language": "python",
   "name": "python3"
  },
  "language_info": {
   "codemirror_mode": {
    "name": "ipython",
    "version": 3
   },
   "file_extension": ".py",
   "mimetype": "text/x-python",
   "name": "python",
   "nbconvert_exporter": "python",
   "pygments_lexer": "ipython3",
   "version": "3.8.6"
  },
  "toc": {
   "base_numbering": 1,
   "nav_menu": {},
   "number_sections": true,
   "sideBar": true,
   "skip_h1_title": false,
   "title_cell": "Table of Contents",
   "title_sidebar": "Contents",
   "toc_cell": false,
   "toc_position": {},
   "toc_section_display": true,
   "toc_window_display": false
  }
 },
 "nbformat": 4,
 "nbformat_minor": 5
}
