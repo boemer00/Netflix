{
 "cells": [
  {
   "cell_type": "code",
   "execution_count": 2,
   "id": "d33f3ceb",
   "metadata": {},
   "outputs": [],
   "source": [
    "import pandas as pd # data processing\n",
    "import numpy as np # working with arrays\n",
    "import matplotlib.pyplot as plt # visualization\n",
    "from matplotlib import rcParams # figure size\n",
    "from termcolor import colored as cl # text customization\n",
    "\n",
    "from sklearn.tree import DecisionTreeClassifier as dtc # tree algorithm\n",
    "from sklearn.model_selection import train_test_split # splitting the data\n",
    "from sklearn.metrics import accuracy_score # model precision\n",
    "from sklearn.tree import plot_tree # tree diagram\n",
    "\n",
    "rcParams['figure.figsize'] = (25, 20)"
   ]
  },
  {
   "cell_type": "code",
   "execution_count": 4,
   "id": "f67f31e1",
   "metadata": {},
   "outputs": [
    {
     "name": "stdout",
     "output_type": "stream",
     "text": [
      "\u001b[1m   avg_review_score  n_reviews  year                 title  \\\n",
      "0          3.749543        547  2003       Dinosaur Planet   \n",
      "1          3.641153       2012  1997             Character   \n",
      "2          3.084396       1019  1997                  Sick   \n",
      "3          2.129032         93  1992                 8 Man   \n",
      "4          3.417582        546  1947  My Favorite Brunette   \n",
      "\n",
      "                  Title  Year      Rated     Released  Runtime  \\\n",
      "0       Dinosaur Planet  2003        NaN  14 Dec 2003   50 min   \n",
      "1             Character  1997          R  27 Mar 1998  122 min   \n",
      "2                  Sick  1997  Not Rated  07 Nov 1997   90 min   \n",
      "3                 8 Man  1992        NaN          NaN   83 min   \n",
      "4  My Favorite Brunette  1947     Passed  04 Apr 1947   87 min   \n",
      "\n",
      "                                       Genre  ... Response  \\\n",
      "0             Documentary, Animation, Family  ...     True   \n",
      "1                      Crime, Drama, Mystery  ...     True   \n",
      "2                                Documentary  ...     True   \n",
      "3                             Action, Sci-Fi  ...     True   \n",
      "4  Comedy, Crime, Mystery, Romance, Thriller  ...     True   \n",
      "\n",
      "  Internet Movie Database Index_match          DVD BoxOffice  \\\n",
      "0                  7.7/10           1          NaN       NaN   \n",
      "1                  7.7/10           3  04 Feb 2003  $623,983   \n",
      "2                  7.5/10           6  15 Feb 2017  $116,806   \n",
      "3                  5.4/10           7          NaN       NaN   \n",
      "4                  6.8/10          12  10 Mar 2016       NaN   \n",
      "\n",
      "                                          Production Website Rotten Tomatoes  \\\n",
      "0                                                NaN     NaN             NaN   \n",
      "1                                      Almerica Film     NaN             92%   \n",
      "2  Sick-the Life and Death of Bob Flanagan-Superm...     NaN             91%   \n",
      "3                                                NaN     NaN             NaN   \n",
      "4               Paramount Pictures, Hope Enterprises     NaN             75%   \n",
      "\n",
      "   Metacritic  Ratings  \n",
      "0         NaN      NaN  \n",
      "1         NaN      NaN  \n",
      "2      82/100      NaN  \n",
      "3         NaN      NaN  \n",
      "4         NaN      NaN  \n",
      "\n",
      "[5 rows x 34 columns]\u001b[0m\n"
     ]
    }
   ],
   "source": [
    "df = pd.read_csv('../raw_data/merged_movies_by_index.csv')\n",
    "print(cl(df.head(), attrs = ['bold']))"
   ]
  },
  {
   "cell_type": "code",
   "execution_count": 5,
   "id": "e02e1fbd",
   "metadata": {},
   "outputs": [
    {
     "name": "stdout",
     "output_type": "stream",
     "text": [
      "<class 'pandas.core.frame.DataFrame'>\n",
      "RangeIndex: 10386 entries, 0 to 10385\n",
      "Data columns (total 34 columns):\n",
      " #   Column                   Non-Null Count  Dtype  \n",
      "---  ------                   --------------  -----  \n",
      " 0   avg_review_score         10386 non-null  float64\n",
      " 1   n_reviews                10386 non-null  int64  \n",
      " 2   year                     10386 non-null  int64  \n",
      " 3   title                    10386 non-null  object \n",
      " 4   Title                    10386 non-null  object \n",
      " 5   Year                     10386 non-null  int64  \n",
      " 6   Rated                    8984 non-null   object \n",
      " 7   Released                 9956 non-null   object \n",
      " 8   Runtime                  10206 non-null  object \n",
      " 9   Genre                    10351 non-null  object \n",
      " 10  Director                 9772 non-null   object \n",
      " 11  Writer                   9312 non-null   object \n",
      " 12  Actors                   10309 non-null  object \n",
      " 13  Plot                     10086 non-null  object \n",
      " 14  Language                 10323 non-null  object \n",
      " 15  Country                  10367 non-null  object \n",
      " 16  Awards                   6513 non-null   object \n",
      " 17  Poster                   10262 non-null  object \n",
      " 18  Metascore                4219 non-null   float64\n",
      " 19  imdbRating               10315 non-null  float64\n",
      " 20  imdbVotes                10314 non-null  object \n",
      " 21  imdbID                   10386 non-null  object \n",
      " 22  Type                     10386 non-null  object \n",
      " 23  totalSeasons             403 non-null    float64\n",
      " 24  Response                 10386 non-null  bool   \n",
      " 25  Internet Movie Database  10315 non-null  object \n",
      " 26  Index_match              10386 non-null  int64  \n",
      " 27  DVD                      7939 non-null   object \n",
      " 28  BoxOffice                5041 non-null   object \n",
      " 29  Production               6725 non-null   object \n",
      " 30  Website                  0 non-null      float64\n",
      " 31  Rotten Tomatoes          8632 non-null   object \n",
      " 32  Metacritic               4219 non-null   object \n",
      " 33  Ratings                  70 non-null     object \n",
      "dtypes: bool(1), float64(5), int64(4), object(24)\n",
      "memory usage: 2.6+ MB\n"
     ]
    }
   ],
   "source": [
    "df.info()"
   ]
  },
  {
   "cell_type": "code",
   "execution_count": 6,
   "id": "dcb6ce8b",
   "metadata": {},
   "outputs": [
    {
     "ename": "NameError",
     "evalue": "name 'model' is not defined",
     "output_type": "error",
     "traceback": [
      "\u001b[0;31m---------------------------------------------------------------------------\u001b[0m",
      "\u001b[0;31mNameError\u001b[0m                                 Traceback (most recent call last)",
      "\u001b[0;32m<ipython-input-6-d6f02ce07665>\u001b[0m in \u001b[0;36m<module>\u001b[0;34m\u001b[0m\n\u001b[1;32m      2\u001b[0m \u001b[0mtarget_names\u001b[0m \u001b[0;34m=\u001b[0m \u001b[0mdf\u001b[0m\u001b[0;34m\u001b[0m\u001b[0;34m\u001b[0m\u001b[0m\n\u001b[1;32m      3\u001b[0m \u001b[0;34m\u001b[0m\u001b[0m\n\u001b[0;32m----> 4\u001b[0;31m plot_tree(model, \n\u001b[0m\u001b[1;32m      5\u001b[0m           \u001b[0mfeature_names\u001b[0m \u001b[0;34m=\u001b[0m \u001b[0mfeature_names\u001b[0m\u001b[0;34m,\u001b[0m\u001b[0;34m\u001b[0m\u001b[0;34m\u001b[0m\u001b[0m\n\u001b[1;32m      6\u001b[0m           \u001b[0mclass_names\u001b[0m \u001b[0;34m=\u001b[0m \u001b[0mtarget_names\u001b[0m\u001b[0;34m,\u001b[0m\u001b[0;34m\u001b[0m\u001b[0;34m\u001b[0m\u001b[0m\n",
      "\u001b[0;31mNameError\u001b[0m: name 'model' is not defined"
     ]
    }
   ],
   "source": [
    "feature_names = df.columns[:5]\n",
    "target_names = df\n",
    "\n",
    "plot_tree(model, \n",
    "          feature_names = feature_names, \n",
    "          class_names = target_names, \n",
    "          filled = True, \n",
    "          rounded = True)\n",
    "\n",
    "plt.savefig('tree_visualization.png') "
   ]
  },
  {
   "cell_type": "code",
   "execution_count": null,
   "id": "98653be2",
   "metadata": {},
   "outputs": [],
   "source": []
  }
 ],
 "metadata": {
  "kernelspec": {
   "display_name": "Python 3",
   "language": "python",
   "name": "python3"
  },
  "language_info": {
   "codemirror_mode": {
    "name": "ipython",
    "version": 3
   },
   "file_extension": ".py",
   "mimetype": "text/x-python",
   "name": "python",
   "nbconvert_exporter": "python",
   "pygments_lexer": "ipython3",
   "version": "3.8.6"
  },
  "toc": {
   "base_numbering": 1,
   "nav_menu": {},
   "number_sections": true,
   "sideBar": true,
   "skip_h1_title": false,
   "title_cell": "Table of Contents",
   "title_sidebar": "Contents",
   "toc_cell": false,
   "toc_position": {},
   "toc_section_display": true,
   "toc_window_display": false
  }
 },
 "nbformat": 4,
 "nbformat_minor": 5
}
