{
 "cells": [
  {
   "cell_type": "code",
   "execution_count": 2,
   "id": "8ee70788",
   "metadata": {},
   "outputs": [],
   "source": [
    "import requests\n",
    "import pandas as pd"
   ]
  },
  {
   "cell_type": "code",
   "execution_count": 41,
   "id": "c7a6e8cc",
   "metadata": {},
   "outputs": [],
   "source": [
    "\n",
    "url = 'http://www.omdbapi.com/?i=tt3896198&apikey=ef5507df'"
   ]
  },
  {
   "cell_type": "code",
   "execution_count": 42,
   "id": "1eb69dc7",
   "metadata": {},
   "outputs": [],
   "source": [
    "response = requests.get(url).json()"
   ]
  },
  {
   "cell_type": "code",
   "execution_count": 43,
   "id": "d1879357",
   "metadata": {},
   "outputs": [
    {
     "data": {
      "text/plain": [
       "{'Title': 'Guardians of the Galaxy Vol. 2',\n",
       " 'Year': '2017',\n",
       " 'Rated': 'PG-13',\n",
       " 'Released': '05 May 2017',\n",
       " 'Runtime': '136 min',\n",
       " 'Genre': 'Action, Adventure, Comedy',\n",
       " 'Director': 'James Gunn',\n",
       " 'Writer': 'James Gunn, Dan Abnett, Andy Lanning',\n",
       " 'Actors': 'Chris Pratt, Zoe Saldana, Dave Bautista',\n",
       " 'Plot': \"The Guardians struggle to keep together as a team while dealing with their personal family issues, notably Star-Lord's encounter with his father the ambitious celestial being Ego.\",\n",
       " 'Language': 'English',\n",
       " 'Country': 'United States',\n",
       " 'Awards': 'Nominated for 1 Oscar. 15 wins & 58 nominations total',\n",
       " 'Poster': 'https://m.media-amazon.com/images/M/MV5BNjM0NTc0NzItM2FlYS00YzEwLWE0YmUtNTA2ZWIzODc2OTgxXkEyXkFqcGdeQXVyNTgwNzIyNzg@._V1_SX300.jpg',\n",
       " 'Ratings': [{'Source': 'Internet Movie Database', 'Value': '7.6/10'},\n",
       "  {'Source': 'Rotten Tomatoes', 'Value': '85%'},\n",
       "  {'Source': 'Metacritic', 'Value': '67/100'}],\n",
       " 'Metascore': '67',\n",
       " 'imdbRating': '7.6',\n",
       " 'imdbVotes': '589,440',\n",
       " 'imdbID': 'tt3896198',\n",
       " 'Type': 'movie',\n",
       " 'DVD': '10 Jul 2017',\n",
       " 'BoxOffice': '$389,813,101',\n",
       " 'Production': 'Walt Disney Pictures, Marvel Studios',\n",
       " 'Website': 'N/A',\n",
       " 'Response': 'True'}"
      ]
     },
     "execution_count": 43,
     "metadata": {},
     "output_type": "execute_result"
    }
   ],
   "source": [
    "response"
   ]
  },
  {
   "cell_type": "code",
   "execution_count": 44,
   "id": "5b1b739a",
   "metadata": {},
   "outputs": [
    {
     "data": {
      "text/plain": [
       "dict_keys(['Title', 'Year', 'Rated', 'Released', 'Runtime', 'Genre', 'Director', 'Writer', 'Actors', 'Plot', 'Language', 'Country', 'Awards', 'Poster', 'Ratings', 'Metascore', 'imdbRating', 'imdbVotes', 'imdbID', 'Type', 'DVD', 'BoxOffice', 'Production', 'Website', 'Response'])"
      ]
     },
     "execution_count": 44,
     "metadata": {},
     "output_type": "execute_result"
    }
   ],
   "source": [
    "response.keys()"
   ]
  },
  {
   "cell_type": "code",
   "execution_count": 48,
   "id": "5cc3166e",
   "metadata": {},
   "outputs": [],
   "source": [
    "# Loop\n",
    "# actors = [i['name'] for i in response['starList']]\n",
    "# actors "
   ]
  },
  {
   "cell_type": "code",
   "execution_count": 31,
   "id": "4001d420",
   "metadata": {},
   "outputs": [
    {
     "data": {
      "text/plain": [
       "['Leonardo DiCaprio', 'Joseph Gordon-Levitt', 'Ellen Page', 'Ken Watanabe']"
      ]
     },
     "execution_count": 31,
     "metadata": {},
     "output_type": "execute_result"
    }
   ],
   "source": []
  },
  {
   "cell_type": "code",
   "execution_count": 98,
   "id": "44c2d05c",
   "metadata": {},
   "outputs": [],
   "source": [
    "def movie_info(Title):\n",
    "    url = f'http://www.omdbapi.com/?t={Title}&apikey=ef5507df'\n",
    "    response = requests.get(url).json()\n",
    "    response[('Rotten Tomatoes')]\n",
    "    #ratings list = response [ratings]\n",
    "    #itterate through ratings list\n",
    "    #as we go through each one we append the value of list source (if key only for: rotten tomatoes and Metacritics)\n",
    "    #appends dictionary value \n",
    "    #drop ratings keys\n",
    "    \n",
    "    return response \n",
    "    #which wil have 3 extra keys"
   ]
  },
  {
   "cell_type": "code",
   "execution_count": 99,
   "id": "eea5c8db",
   "metadata": {},
   "outputs": [
    {
     "data": {
      "text/plain": [
       "{'Title': 'The Mask',\n",
       " 'Year': '1994',\n",
       " 'Rated': 'PG-13',\n",
       " 'Released': '29 Jul 1994',\n",
       " 'Runtime': '101 min',\n",
       " 'Genre': 'Action, Comedy, Crime, Fantasy',\n",
       " 'Director': 'Chuck Russell',\n",
       " 'Writer': 'Michael Fallon (story), Mark Verheiden (story), Mike Werb (screenplay)',\n",
       " 'Actors': 'Jim Carrey, Peter Riegert, Peter Greene, Amy Yasbeck',\n",
       " 'Plot': 'Bank clerk Stanley Ipkiss is transformed into a manic superhero when he wears a mysterious mask.',\n",
       " 'Language': 'English, Swedish',\n",
       " 'Country': 'USA',\n",
       " 'Awards': 'Nominated for 1 Oscar. Another 6 wins & 20 nominations.',\n",
       " 'Poster': 'https://m.media-amazon.com/images/M/MV5BOWExYjI5MzktNTRhNi00Nzg2LThkZmQtYWVkYjRlYWI2MDQ4XkEyXkFqcGdeQXVyNTAyODkwOQ@@._V1_SX300.jpg',\n",
       " 'Ratings': [{'Source': 'Internet Movie Database', 'Value': '6.9/10'},\n",
       "  {'Source': 'Rotten Tomatoes', 'Value': '79%'},\n",
       "  {'Source': 'Metacritic', 'Value': '56/100'}],\n",
       " 'Metascore': '56',\n",
       " 'imdbRating': '6.9',\n",
       " 'imdbVotes': '353,410',\n",
       " 'imdbID': 'tt0110475',\n",
       " 'Type': 'movie',\n",
       " 'DVD': '01 Jun 2009',\n",
       " 'BoxOffice': '$119,938,730',\n",
       " 'Production': 'New Line Cinema, Dark Horse Entertainment',\n",
       " 'Website': 'N/A',\n",
       " 'Response': 'True'}"
      ]
     },
     "execution_count": 99,
     "metadata": {},
     "output_type": "execute_result"
    }
   ],
   "source": [
    "movie_info(\"The Mask\")"
   ]
  },
  {
   "cell_type": "code",
   "execution_count": 100,
   "id": "817d3d8e",
   "metadata": {},
   "outputs": [],
   "source": [
    "movie_list = ['Inception', 'The mask']\n",
    "df_list = []\n",
    "for movie in movie_list:\n",
    "    df_temp = pd.DataFrame(movie_info(movie))\n",
    "    df_list.append(df_temp)"
   ]
  },
  {
   "cell_type": "code",
   "execution_count": 101,
   "id": "af8a5ab1",
   "metadata": {},
   "outputs": [
    {
     "data": {
      "text/html": [
       "<div>\n",
       "<style scoped>\n",
       "    .dataframe tbody tr th:only-of-type {\n",
       "        vertical-align: middle;\n",
       "    }\n",
       "\n",
       "    .dataframe tbody tr th {\n",
       "        vertical-align: top;\n",
       "    }\n",
       "\n",
       "    .dataframe thead th {\n",
       "        text-align: right;\n",
       "    }\n",
       "</style>\n",
       "<table border=\"1\" class=\"dataframe\">\n",
       "  <thead>\n",
       "    <tr style=\"text-align: right;\">\n",
       "      <th></th>\n",
       "      <th>Title</th>\n",
       "      <th>Year</th>\n",
       "      <th>Rated</th>\n",
       "      <th>Released</th>\n",
       "      <th>Runtime</th>\n",
       "      <th>Genre</th>\n",
       "      <th>Director</th>\n",
       "      <th>Writer</th>\n",
       "      <th>Actors</th>\n",
       "      <th>Plot</th>\n",
       "      <th>...</th>\n",
       "      <th>Metascore</th>\n",
       "      <th>imdbRating</th>\n",
       "      <th>imdbVotes</th>\n",
       "      <th>imdbID</th>\n",
       "      <th>Type</th>\n",
       "      <th>DVD</th>\n",
       "      <th>BoxOffice</th>\n",
       "      <th>Production</th>\n",
       "      <th>Website</th>\n",
       "      <th>Response</th>\n",
       "    </tr>\n",
       "  </thead>\n",
       "  <tbody>\n",
       "    <tr>\n",
       "      <th>0</th>\n",
       "      <td>The Mask</td>\n",
       "      <td>1994</td>\n",
       "      <td>PG-13</td>\n",
       "      <td>29 Jul 1994</td>\n",
       "      <td>101 min</td>\n",
       "      <td>Action, Comedy, Crime, Fantasy</td>\n",
       "      <td>Chuck Russell</td>\n",
       "      <td>Michael Fallon (story), Mark Verheiden (story)...</td>\n",
       "      <td>Jim Carrey, Peter Riegert, Peter Greene, Amy Y...</td>\n",
       "      <td>Bank clerk Stanley Ipkiss is transformed into ...</td>\n",
       "      <td>...</td>\n",
       "      <td>56</td>\n",
       "      <td>6.9</td>\n",
       "      <td>353,410</td>\n",
       "      <td>tt0110475</td>\n",
       "      <td>movie</td>\n",
       "      <td>01 Jun 2009</td>\n",
       "      <td>$119,938,730</td>\n",
       "      <td>New Line Cinema, Dark Horse Entertainment</td>\n",
       "      <td>N/A</td>\n",
       "      <td>True</td>\n",
       "    </tr>\n",
       "    <tr>\n",
       "      <th>1</th>\n",
       "      <td>The Mask</td>\n",
       "      <td>1994</td>\n",
       "      <td>PG-13</td>\n",
       "      <td>29 Jul 1994</td>\n",
       "      <td>101 min</td>\n",
       "      <td>Action, Comedy, Crime, Fantasy</td>\n",
       "      <td>Chuck Russell</td>\n",
       "      <td>Michael Fallon (story), Mark Verheiden (story)...</td>\n",
       "      <td>Jim Carrey, Peter Riegert, Peter Greene, Amy Y...</td>\n",
       "      <td>Bank clerk Stanley Ipkiss is transformed into ...</td>\n",
       "      <td>...</td>\n",
       "      <td>56</td>\n",
       "      <td>6.9</td>\n",
       "      <td>353,410</td>\n",
       "      <td>tt0110475</td>\n",
       "      <td>movie</td>\n",
       "      <td>01 Jun 2009</td>\n",
       "      <td>$119,938,730</td>\n",
       "      <td>New Line Cinema, Dark Horse Entertainment</td>\n",
       "      <td>N/A</td>\n",
       "      <td>True</td>\n",
       "    </tr>\n",
       "    <tr>\n",
       "      <th>2</th>\n",
       "      <td>The Mask</td>\n",
       "      <td>1994</td>\n",
       "      <td>PG-13</td>\n",
       "      <td>29 Jul 1994</td>\n",
       "      <td>101 min</td>\n",
       "      <td>Action, Comedy, Crime, Fantasy</td>\n",
       "      <td>Chuck Russell</td>\n",
       "      <td>Michael Fallon (story), Mark Verheiden (story)...</td>\n",
       "      <td>Jim Carrey, Peter Riegert, Peter Greene, Amy Y...</td>\n",
       "      <td>Bank clerk Stanley Ipkiss is transformed into ...</td>\n",
       "      <td>...</td>\n",
       "      <td>56</td>\n",
       "      <td>6.9</td>\n",
       "      <td>353,410</td>\n",
       "      <td>tt0110475</td>\n",
       "      <td>movie</td>\n",
       "      <td>01 Jun 2009</td>\n",
       "      <td>$119,938,730</td>\n",
       "      <td>New Line Cinema, Dark Horse Entertainment</td>\n",
       "      <td>N/A</td>\n",
       "      <td>True</td>\n",
       "    </tr>\n",
       "  </tbody>\n",
       "</table>\n",
       "<p>3 rows × 25 columns</p>\n",
       "</div>"
      ],
      "text/plain": [
       "      Title  Year  Rated     Released  Runtime  \\\n",
       "0  The Mask  1994  PG-13  29 Jul 1994  101 min   \n",
       "1  The Mask  1994  PG-13  29 Jul 1994  101 min   \n",
       "2  The Mask  1994  PG-13  29 Jul 1994  101 min   \n",
       "\n",
       "                            Genre       Director  \\\n",
       "0  Action, Comedy, Crime, Fantasy  Chuck Russell   \n",
       "1  Action, Comedy, Crime, Fantasy  Chuck Russell   \n",
       "2  Action, Comedy, Crime, Fantasy  Chuck Russell   \n",
       "\n",
       "                                              Writer  \\\n",
       "0  Michael Fallon (story), Mark Verheiden (story)...   \n",
       "1  Michael Fallon (story), Mark Verheiden (story)...   \n",
       "2  Michael Fallon (story), Mark Verheiden (story)...   \n",
       "\n",
       "                                              Actors  \\\n",
       "0  Jim Carrey, Peter Riegert, Peter Greene, Amy Y...   \n",
       "1  Jim Carrey, Peter Riegert, Peter Greene, Amy Y...   \n",
       "2  Jim Carrey, Peter Riegert, Peter Greene, Amy Y...   \n",
       "\n",
       "                                                Plot  ... Metascore  \\\n",
       "0  Bank clerk Stanley Ipkiss is transformed into ...  ...        56   \n",
       "1  Bank clerk Stanley Ipkiss is transformed into ...  ...        56   \n",
       "2  Bank clerk Stanley Ipkiss is transformed into ...  ...        56   \n",
       "\n",
       "  imdbRating imdbVotes     imdbID   Type          DVD     BoxOffice  \\\n",
       "0        6.9   353,410  tt0110475  movie  01 Jun 2009  $119,938,730   \n",
       "1        6.9   353,410  tt0110475  movie  01 Jun 2009  $119,938,730   \n",
       "2        6.9   353,410  tt0110475  movie  01 Jun 2009  $119,938,730   \n",
       "\n",
       "                                  Production Website Response  \n",
       "0  New Line Cinema, Dark Horse Entertainment     N/A     True  \n",
       "1  New Line Cinema, Dark Horse Entertainment     N/A     True  \n",
       "2  New Line Cinema, Dark Horse Entertainment     N/A     True  \n",
       "\n",
       "[3 rows x 25 columns]"
      ]
     },
     "execution_count": 101,
     "metadata": {},
     "output_type": "execute_result"
    }
   ],
   "source": [
    "df_temp"
   ]
  },
  {
   "cell_type": "code",
   "execution_count": 102,
   "id": "f11e48ed",
   "metadata": {},
   "outputs": [
    {
     "data": {
      "text/plain": [
       "0    {'Source': 'Internet Movie Database', 'Value':...\n",
       "1        {'Source': 'Rotten Tomatoes', 'Value': '79%'}\n",
       "2          {'Source': 'Metacritic', 'Value': '56/100'}\n",
       "Name: Ratings, dtype: object"
      ]
     },
     "execution_count": 102,
     "metadata": {},
     "output_type": "execute_result"
    }
   ],
   "source": [
    "pd.DataFrame(movie_info(movie))['Ratings']"
   ]
  },
  {
   "cell_type": "code",
   "execution_count": 97,
   "id": "1d3f0c9d",
   "metadata": {},
   "outputs": [
    {
     "data": {
      "text/plain": [
       "{'Title': 'The Mask',\n",
       " 'Year': '1994',\n",
       " 'Rated': 'PG-13',\n",
       " 'Released': '29 Jul 1994',\n",
       " 'Runtime': '101 min',\n",
       " 'Genre': 'Action, Comedy, Crime, Fantasy',\n",
       " 'Director': 'Chuck Russell',\n",
       " 'Writer': 'Michael Fallon (story), Mark Verheiden (story), Mike Werb (screenplay)',\n",
       " 'Actors': 'Jim Carrey, Peter Riegert, Peter Greene, Amy Yasbeck',\n",
       " 'Plot': 'Bank clerk Stanley Ipkiss is transformed into a manic superhero when he wears a mysterious mask.',\n",
       " 'Language': 'English, Swedish',\n",
       " 'Country': 'USA',\n",
       " 'Awards': 'Nominated for 1 Oscar. Another 6 wins & 20 nominations.',\n",
       " 'Poster': 'https://m.media-amazon.com/images/M/MV5BOWExYjI5MzktNTRhNi00Nzg2LThkZmQtYWVkYjRlYWI2MDQ4XkEyXkFqcGdeQXVyNTAyODkwOQ@@._V1_SX300.jpg',\n",
       " 'Ratings': [{'Source': 'Internet Movie Database', 'Value': '6.9/10'},\n",
       "  {'Source': 'Rotten Tomatoes', 'Value': '79%'},\n",
       "  {'Source': 'Metacritic', 'Value': '56/100'}],\n",
       " 'Metascore': '56',\n",
       " 'imdbRating': '6.9',\n",
       " 'imdbVotes': '353,410',\n",
       " 'imdbID': 'tt0110475',\n",
       " 'Type': 'movie',\n",
       " 'DVD': '01 Jun 2009',\n",
       " 'BoxOffice': '$119,938,730',\n",
       " 'Production': 'New Line Cinema, Dark Horse Entertainment',\n",
       " 'Website': 'N/A',\n",
       " 'Response': 'True'}"
      ]
     },
     "execution_count": 97,
     "metadata": {},
     "output_type": "execute_result"
    }
   ],
   "source": [
    "movie_info(movie)"
   ]
  },
  {
   "cell_type": "code",
   "execution_count": null,
   "id": "4788fd9e",
   "metadata": {},
   "outputs": [],
   "source": []
  },
  {
   "cell_type": "code",
   "execution_count": null,
   "id": "3e6e656a",
   "metadata": {},
   "outputs": [],
   "source": [
    "# testing different way THE MARTIN WAY"
   ]
  },
  {
   "cell_type": "code",
   "execution_count": null,
   "id": "99b13817",
   "metadata": {},
   "outputs": [],
   "source": [
    "import requests\n",
    "# fill the parameters for the prediction\n",
    "params = dict(\n",
    "  key='2012-10-06 12:10:20.0000001',\n",
    "  pickup_datetime='2012-10-06 12:10:20 UTC',\n",
    "  pickup_longitude=40.7614327,\n",
    "  pickup_latitude=-73.9798156,\n",
    "  dropoff_longitude=40.6413111,\n",
    "  dropoff_latitude=-73.9797156,\n",
    "  passenger_count=1\n",
    ")\n",
    "# build the URL (server DNS, port, API endpoint, parameters)\n",
    "url = \"http://127.0.0.1:8000/predict_fare\"\n",
    "# retrieve the response\n",
    "response = requests.get(url,params).json()\n",
    "print(response)"
   ]
  },
  {
   "cell_type": "code",
   "execution_count": 58,
   "id": "fda87f2c",
   "metadata": {},
   "outputs": [],
   "source": [
    "# THE MARTIN WAY"
   ]
  },
  {
   "cell_type": "code",
   "execution_count": null,
   "id": "3e07ddd8",
   "metadata": {},
   "outputs": [],
   "source": [
    "import requests\n",
    "# fill the parameters for the prediction\n",
    "params = dict(\n",
    "  key='2012-10-06 12:10:20.0000001',\n",
    "  pickup_datetime='2012-10-06 12:10:20 UTC',\n",
    "  pickup_longitude=40.7614327,\n",
    "  pickup_latitude=-73.9798156,\n",
    "  dropoff_longitude=40.6413111,\n",
    "  dropoff_latitude=-73.9797156,\n",
    "  passenger_count=1\n",
    ")\n",
    "# build the URL (server DNS, port, API endpoint, parameters)\n",
    "url = \"http://127.0.0.1:8000/predict_fare\"\n",
    "# retrieve the response\n",
    "response = requests.get(url,params).json()\n",
    "print(response)"
   ]
  }
 ],
 "metadata": {
  "kernelspec": {
   "display_name": "Python 3",
   "language": "python",
   "name": "python3"
  },
  "language_info": {
   "codemirror_mode": {
    "name": "ipython",
    "version": 3
   },
   "file_extension": ".py",
   "mimetype": "text/x-python",
   "name": "python",
   "nbconvert_exporter": "python",
   "pygments_lexer": "ipython3",
   "version": "3.8.6"
  },
  "toc": {
   "base_numbering": 1,
   "nav_menu": {},
   "number_sections": true,
   "sideBar": true,
   "skip_h1_title": false,
   "title_cell": "Table of Contents",
   "title_sidebar": "Contents",
   "toc_cell": false,
   "toc_position": {},
   "toc_section_display": true,
   "toc_window_display": false
  }
 },
 "nbformat": 4,
 "nbformat_minor": 5
}
