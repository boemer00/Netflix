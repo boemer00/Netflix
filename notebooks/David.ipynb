{
 "cells": [
  {
   "cell_type": "code",
   "execution_count": 1,
   "id": "2ef64402",
   "metadata": {},
   "outputs": [],
   "source": [
    "import pandas as pd\n",
    "import numpy as np\n",
    "import requests"
   ]
  },
  {
   "cell_type": "code",
   "execution_count": 4,
   "id": "2c80bbc5",
   "metadata": {},
   "outputs": [],
   "source": [
    "def movie_info(Title):\n",
    "    url = f\"http://www.omdbapi.com/?t={Title}&apikey=ef5507df\"\n",
    "    response = requests.get(url).json()\n",
    "    return response"
   ]
  },
  {
   "cell_type": "code",
   "execution_count": 5,
   "id": "c1dd0b6f",
   "metadata": {},
   "outputs": [
    {
     "data": {
      "text/plain": [
       "0    {'Source': 'Internet Movie Database', 'Value':...\n",
       "1        {'Source': 'Rotten Tomatoes', 'Value': '87%'}\n",
       "2          {'Source': 'Metacritic', 'Value': '74/100'}\n",
       "Name: Ratings, dtype: object"
      ]
     },
     "execution_count": 5,
     "metadata": {},
     "output_type": "execute_result"
    }
   ],
   "source": [
    "pd.DataFrame(movie_info(\"Inception\"))[\"Ratings\"]"
   ]
  },
  {
   "cell_type": "code",
   "execution_count": 6,
   "id": "27e9cce2",
   "metadata": {},
   "outputs": [],
   "source": [
    "b = pd.DataFrame([movie_info(\"The Mask\")])\n",
    "c = pd.DataFrame([movie_info(\"8 Man\")])"
   ]
  },
  {
   "cell_type": "code",
   "execution_count": null,
   "id": "58fdfd1a",
   "metadata": {},
   "outputs": [],
   "source": []
  }
 ],
 "metadata": {
  "kernelspec": {
   "display_name": "Python 3",
   "language": "python",
   "name": "python3"
  },
  "language_info": {
   "codemirror_mode": {
    "name": "ipython",
    "version": 3
   },
   "file_extension": ".py",
   "mimetype": "text/x-python",
   "name": "python",
   "nbconvert_exporter": "python",
   "pygments_lexer": "ipython3",
   "version": "3.8.6"
  }
 },
 "nbformat": 4,
 "nbformat_minor": 5
}
