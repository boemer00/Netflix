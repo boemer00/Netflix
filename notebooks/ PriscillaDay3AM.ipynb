{
 "cells": [
  {
   "cell_type": "code",
   "execution_count": 2,
   "id": "3b3713d6",
   "metadata": {},
   "outputs": [],
   "source": [
    "import requests\n",
    "import pandas as pd\n",
    "from sklearn.feature_extraction.text import CountVectorizer\n"
   ]
  },
  {
   "cell_type": "code",
   "execution_count": 3,
   "id": "6d2730fa",
   "metadata": {},
   "outputs": [
    {
     "data": {
      "text/html": [
       "<div>\n",
       "<style scoped>\n",
       "    .dataframe tbody tr th:only-of-type {\n",
       "        vertical-align: middle;\n",
       "    }\n",
       "\n",
       "    .dataframe tbody tr th {\n",
       "        vertical-align: top;\n",
       "    }\n",
       "\n",
       "    .dataframe thead th {\n",
       "        text-align: right;\n",
       "    }\n",
       "</style>\n",
       "<table border=\"1\" class=\"dataframe\">\n",
       "  <thead>\n",
       "    <tr style=\"text-align: right;\">\n",
       "      <th></th>\n",
       "      <th>movie_id</th>\n",
       "      <th>Year_x</th>\n",
       "      <th>Name</th>\n",
       "      <th>mean</th>\n",
       "      <th>count</th>\n",
       "      <th>Title</th>\n",
       "      <th>Year_y</th>\n",
       "      <th>Rated</th>\n",
       "      <th>Released</th>\n",
       "      <th>Runtime</th>\n",
       "      <th>...</th>\n",
       "      <th>totalSeasons</th>\n",
       "      <th>Response</th>\n",
       "      <th>Error</th>\n",
       "      <th>DVD</th>\n",
       "      <th>BoxOffice</th>\n",
       "      <th>Production</th>\n",
       "      <th>Website</th>\n",
       "      <th>Rotten Tomatoes</th>\n",
       "      <th>Metacritic</th>\n",
       "      <th>Ratings</th>\n",
       "    </tr>\n",
       "  </thead>\n",
       "  <tbody>\n",
       "    <tr>\n",
       "      <th>0</th>\n",
       "      <td>1</td>\n",
       "      <td>2003.0</td>\n",
       "      <td>Dinosaur Planet</td>\n",
       "      <td>3.749543</td>\n",
       "      <td>547</td>\n",
       "      <td>Dinosaur Planet</td>\n",
       "      <td>2003–</td>\n",
       "      <td>NaN</td>\n",
       "      <td>14 Dec 2003</td>\n",
       "      <td>50 min</td>\n",
       "      <td>...</td>\n",
       "      <td>NaN</td>\n",
       "      <td>True</td>\n",
       "      <td>NaN</td>\n",
       "      <td>NaN</td>\n",
       "      <td>NaN</td>\n",
       "      <td>NaN</td>\n",
       "      <td>NaN</td>\n",
       "      <td>NaN</td>\n",
       "      <td>NaN</td>\n",
       "      <td>NaN</td>\n",
       "    </tr>\n",
       "    <tr>\n",
       "      <th>1</th>\n",
       "      <td>3</td>\n",
       "      <td>1997.0</td>\n",
       "      <td>Character</td>\n",
       "      <td>3.641153</td>\n",
       "      <td>2012</td>\n",
       "      <td>Character</td>\n",
       "      <td>1997</td>\n",
       "      <td>R</td>\n",
       "      <td>27 Mar 1998</td>\n",
       "      <td>122 min</td>\n",
       "      <td>...</td>\n",
       "      <td>NaN</td>\n",
       "      <td>True</td>\n",
       "      <td>NaN</td>\n",
       "      <td>04 Feb 2003</td>\n",
       "      <td>$623,983</td>\n",
       "      <td>Almerica Film</td>\n",
       "      <td>NaN</td>\n",
       "      <td>92%</td>\n",
       "      <td>NaN</td>\n",
       "      <td>NaN</td>\n",
       "    </tr>\n",
       "    <tr>\n",
       "      <th>2</th>\n",
       "      <td>6</td>\n",
       "      <td>1997.0</td>\n",
       "      <td>Sick</td>\n",
       "      <td>3.084396</td>\n",
       "      <td>1019</td>\n",
       "      <td>Sick</td>\n",
       "      <td>1997</td>\n",
       "      <td>Not Rated</td>\n",
       "      <td>07 Nov 1997</td>\n",
       "      <td>90 min</td>\n",
       "      <td>...</td>\n",
       "      <td>NaN</td>\n",
       "      <td>True</td>\n",
       "      <td>NaN</td>\n",
       "      <td>15 Feb 2017</td>\n",
       "      <td>$116,806</td>\n",
       "      <td>Sick-the Life and Death of Bob Flanagan-Superm...</td>\n",
       "      <td>NaN</td>\n",
       "      <td>91%</td>\n",
       "      <td>82/100</td>\n",
       "      <td>NaN</td>\n",
       "    </tr>\n",
       "    <tr>\n",
       "      <th>3</th>\n",
       "      <td>7</td>\n",
       "      <td>1992.0</td>\n",
       "      <td>8 Man</td>\n",
       "      <td>2.129032</td>\n",
       "      <td>93</td>\n",
       "      <td>8 Man</td>\n",
       "      <td>1992</td>\n",
       "      <td>NaN</td>\n",
       "      <td>NaN</td>\n",
       "      <td>83 min</td>\n",
       "      <td>...</td>\n",
       "      <td>NaN</td>\n",
       "      <td>True</td>\n",
       "      <td>NaN</td>\n",
       "      <td>NaN</td>\n",
       "      <td>NaN</td>\n",
       "      <td>NaN</td>\n",
       "      <td>NaN</td>\n",
       "      <td>NaN</td>\n",
       "      <td>NaN</td>\n",
       "      <td>NaN</td>\n",
       "    </tr>\n",
       "    <tr>\n",
       "      <th>4</th>\n",
       "      <td>10</td>\n",
       "      <td>2001.0</td>\n",
       "      <td>Fighter</td>\n",
       "      <td>3.180723</td>\n",
       "      <td>249</td>\n",
       "      <td>Fighter</td>\n",
       "      <td>2007</td>\n",
       "      <td>NaN</td>\n",
       "      <td>14 Dec 2007</td>\n",
       "      <td>100 min</td>\n",
       "      <td>...</td>\n",
       "      <td>NaN</td>\n",
       "      <td>True</td>\n",
       "      <td>NaN</td>\n",
       "      <td>NaN</td>\n",
       "      <td>NaN</td>\n",
       "      <td>First Run Features</td>\n",
       "      <td>NaN</td>\n",
       "      <td>NaN</td>\n",
       "      <td>NaN</td>\n",
       "      <td>NaN</td>\n",
       "    </tr>\n",
       "    <tr>\n",
       "      <th>...</th>\n",
       "      <td>...</td>\n",
       "      <td>...</td>\n",
       "      <td>...</td>\n",
       "      <td>...</td>\n",
       "      <td>...</td>\n",
       "      <td>...</td>\n",
       "      <td>...</td>\n",
       "      <td>...</td>\n",
       "      <td>...</td>\n",
       "      <td>...</td>\n",
       "      <td>...</td>\n",
       "      <td>...</td>\n",
       "      <td>...</td>\n",
       "      <td>...</td>\n",
       "      <td>...</td>\n",
       "      <td>...</td>\n",
       "      <td>...</td>\n",
       "      <td>...</td>\n",
       "      <td>...</td>\n",
       "      <td>...</td>\n",
       "      <td>...</td>\n",
       "    </tr>\n",
       "    <tr>\n",
       "      <th>12375</th>\n",
       "      <td>17763</td>\n",
       "      <td>1978.0</td>\n",
       "      <td>Interiors</td>\n",
       "      <td>3.411855</td>\n",
       "      <td>1957</td>\n",
       "      <td>Interiors</td>\n",
       "      <td>1978</td>\n",
       "      <td>PG</td>\n",
       "      <td>06 Oct 1978</td>\n",
       "      <td>92 min</td>\n",
       "      <td>...</td>\n",
       "      <td>NaN</td>\n",
       "      <td>True</td>\n",
       "      <td>NaN</td>\n",
       "      <td>02 Feb 2017</td>\n",
       "      <td>$10,432,366</td>\n",
       "      <td>Rollins-Joffe Productions</td>\n",
       "      <td>NaN</td>\n",
       "      <td>79%</td>\n",
       "      <td>67/100</td>\n",
       "      <td>NaN</td>\n",
       "    </tr>\n",
       "    <tr>\n",
       "      <th>12376</th>\n",
       "      <td>17764</td>\n",
       "      <td>1998.0</td>\n",
       "      <td>Shakespeare in Love</td>\n",
       "      <td>3.867112</td>\n",
       "      <td>64957</td>\n",
       "      <td>Shakespeare in Love</td>\n",
       "      <td>1998</td>\n",
       "      <td>R</td>\n",
       "      <td>08 Jan 1999</td>\n",
       "      <td>123 min</td>\n",
       "      <td>...</td>\n",
       "      <td>NaN</td>\n",
       "      <td>True</td>\n",
       "      <td>NaN</td>\n",
       "      <td>21 Apr 2016</td>\n",
       "      <td>$100,317,794</td>\n",
       "      <td>Miramax Films, Bedford Falls Productions, Univ...</td>\n",
       "      <td>NaN</td>\n",
       "      <td>92%</td>\n",
       "      <td>87/100</td>\n",
       "      <td>NaN</td>\n",
       "    </tr>\n",
       "    <tr>\n",
       "      <th>12377</th>\n",
       "      <td>17768</td>\n",
       "      <td>2000.0</td>\n",
       "      <td>Epoch</td>\n",
       "      <td>2.839207</td>\n",
       "      <td>1362</td>\n",
       "      <td>Epoch</td>\n",
       "      <td>2001</td>\n",
       "      <td>PG-13</td>\n",
       "      <td>24 Nov 2001</td>\n",
       "      <td>96 min</td>\n",
       "      <td>...</td>\n",
       "      <td>NaN</td>\n",
       "      <td>True</td>\n",
       "      <td>NaN</td>\n",
       "      <td>25 Jan 2017</td>\n",
       "      <td>NaN</td>\n",
       "      <td>Metro-Goldwyn-Mayer</td>\n",
       "      <td>NaN</td>\n",
       "      <td>16%</td>\n",
       "      <td>NaN</td>\n",
       "      <td>NaN</td>\n",
       "    </tr>\n",
       "    <tr>\n",
       "      <th>12378</th>\n",
       "      <td>17769</td>\n",
       "      <td>2003.0</td>\n",
       "      <td>The Company</td>\n",
       "      <td>2.498592</td>\n",
       "      <td>6749</td>\n",
       "      <td>The Company</td>\n",
       "      <td>2003</td>\n",
       "      <td>PG-13</td>\n",
       "      <td>20 May 2004</td>\n",
       "      <td>112 min</td>\n",
       "      <td>...</td>\n",
       "      <td>NaN</td>\n",
       "      <td>True</td>\n",
       "      <td>NaN</td>\n",
       "      <td>16 Apr 2012</td>\n",
       "      <td>$2,283,914</td>\n",
       "      <td>First Snow Production, Capitol Films, Sandcast...</td>\n",
       "      <td>NaN</td>\n",
       "      <td>72%</td>\n",
       "      <td>73/100</td>\n",
       "      <td>NaN</td>\n",
       "    </tr>\n",
       "    <tr>\n",
       "      <th>12379</th>\n",
       "      <td>17770</td>\n",
       "      <td>2003.0</td>\n",
       "      <td>Alien Hunter</td>\n",
       "      <td>2.816504</td>\n",
       "      <td>921</td>\n",
       "      <td>Alien Hunter</td>\n",
       "      <td>2003</td>\n",
       "      <td>R</td>\n",
       "      <td>19 Jul 2003</td>\n",
       "      <td>92 min</td>\n",
       "      <td>...</td>\n",
       "      <td>NaN</td>\n",
       "      <td>True</td>\n",
       "      <td>NaN</td>\n",
       "      <td>20 Apr 2013</td>\n",
       "      <td>NaN</td>\n",
       "      <td>NaN</td>\n",
       "      <td>NaN</td>\n",
       "      <td>16%</td>\n",
       "      <td>NaN</td>\n",
       "      <td>NaN</td>\n",
       "    </tr>\n",
       "  </tbody>\n",
       "</table>\n",
       "<p>12380 rows × 34 columns</p>\n",
       "</div>"
      ],
      "text/plain": [
       "       movie_id  Year_x                 Name      mean  count  \\\n",
       "0             1  2003.0      Dinosaur Planet  3.749543    547   \n",
       "1             3  1997.0            Character  3.641153   2012   \n",
       "2             6  1997.0                 Sick  3.084396   1019   \n",
       "3             7  1992.0                8 Man  2.129032     93   \n",
       "4            10  2001.0              Fighter  3.180723    249   \n",
       "...         ...     ...                  ...       ...    ...   \n",
       "12375     17763  1978.0            Interiors  3.411855   1957   \n",
       "12376     17764  1998.0  Shakespeare in Love  3.867112  64957   \n",
       "12377     17768  2000.0                Epoch  2.839207   1362   \n",
       "12378     17769  2003.0          The Company  2.498592   6749   \n",
       "12379     17770  2003.0         Alien Hunter  2.816504    921   \n",
       "\n",
       "                     Title Year_y      Rated     Released  Runtime  ...  \\\n",
       "0          Dinosaur Planet  2003–        NaN  14 Dec 2003   50 min  ...   \n",
       "1                Character   1997          R  27 Mar 1998  122 min  ...   \n",
       "2                     Sick   1997  Not Rated  07 Nov 1997   90 min  ...   \n",
       "3                    8 Man   1992        NaN          NaN   83 min  ...   \n",
       "4                  Fighter   2007        NaN  14 Dec 2007  100 min  ...   \n",
       "...                    ...    ...        ...          ...      ...  ...   \n",
       "12375            Interiors   1978         PG  06 Oct 1978   92 min  ...   \n",
       "12376  Shakespeare in Love   1998          R  08 Jan 1999  123 min  ...   \n",
       "12377                Epoch   2001      PG-13  24 Nov 2001   96 min  ...   \n",
       "12378          The Company   2003      PG-13  20 May 2004  112 min  ...   \n",
       "12379         Alien Hunter   2003          R  19 Jul 2003   92 min  ...   \n",
       "\n",
       "      totalSeasons Response Error          DVD     BoxOffice  \\\n",
       "0              NaN     True   NaN          NaN           NaN   \n",
       "1              NaN     True   NaN  04 Feb 2003      $623,983   \n",
       "2              NaN     True   NaN  15 Feb 2017      $116,806   \n",
       "3              NaN     True   NaN          NaN           NaN   \n",
       "4              NaN     True   NaN          NaN           NaN   \n",
       "...            ...      ...   ...          ...           ...   \n",
       "12375          NaN     True   NaN  02 Feb 2017   $10,432,366   \n",
       "12376          NaN     True   NaN  21 Apr 2016  $100,317,794   \n",
       "12377          NaN     True   NaN  25 Jan 2017           NaN   \n",
       "12378          NaN     True   NaN  16 Apr 2012    $2,283,914   \n",
       "12379          NaN     True   NaN  20 Apr 2013           NaN   \n",
       "\n",
       "                                              Production Website  \\\n",
       "0                                                    NaN     NaN   \n",
       "1                                          Almerica Film     NaN   \n",
       "2      Sick-the Life and Death of Bob Flanagan-Superm...     NaN   \n",
       "3                                                    NaN     NaN   \n",
       "4                                     First Run Features     NaN   \n",
       "...                                                  ...     ...   \n",
       "12375                          Rollins-Joffe Productions     NaN   \n",
       "12376  Miramax Films, Bedford Falls Productions, Univ...     NaN   \n",
       "12377                                Metro-Goldwyn-Mayer     NaN   \n",
       "12378  First Snow Production, Capitol Films, Sandcast...     NaN   \n",
       "12379                                                NaN     NaN   \n",
       "\n",
       "      Rotten Tomatoes Metacritic  Ratings  \n",
       "0                 NaN        NaN      NaN  \n",
       "1                 92%        NaN      NaN  \n",
       "2                 91%     82/100      NaN  \n",
       "3                 NaN        NaN      NaN  \n",
       "4                 NaN        NaN      NaN  \n",
       "...               ...        ...      ...  \n",
       "12375             79%     67/100      NaN  \n",
       "12376             92%     87/100      NaN  \n",
       "12377             16%        NaN      NaN  \n",
       "12378             72%     73/100      NaN  \n",
       "12379             16%        NaN      NaN  \n",
       "\n",
       "[12380 rows x 34 columns]"
      ]
     },
     "execution_count": 3,
     "metadata": {},
     "output_type": "execute_result"
    }
   ],
   "source": [
    "full_data_merged = pd.read_csv(\"./../raw_data/full_data_merged.csv\")\n",
    "full_data_merged\n"
   ]
  },
  {
   "cell_type": "code",
   "execution_count": 39,
   "id": "fd19431e",
   "metadata": {},
   "outputs": [
    {
     "data": {
      "text/plain": [
       "Index(['movie_id', 'Year_x', 'Name', 'mean', 'count', 'Title', 'Year_y',\n",
       "       'Rated', 'Released', 'Runtime', 'Genre', 'Director', 'Writer', 'Actors',\n",
       "       'Plot', 'Language', 'Country', 'Awards', 'Poster', 'Metascore',\n",
       "       'imdbRating', 'imdbVotes', 'imdbID', 'Type', 'totalSeasons', 'Response',\n",
       "       'Error', 'DVD', 'BoxOffice', 'Production', 'Website', 'Rotten Tomatoes',\n",
       "       'Metacritic', 'Ratings'],\n",
       "      dtype='object')"
      ]
     },
     "execution_count": 39,
     "metadata": {},
     "output_type": "execute_result"
    }
   ],
   "source": [
    "full_data_merged.columns"
   ]
  },
  {
   "cell_type": "code",
   "execution_count": 8,
   "id": "a89d6c9a",
   "metadata": {},
   "outputs": [
    {
     "data": {
      "text/plain": [
       "632"
      ]
     },
     "execution_count": 8,
     "metadata": {},
     "output_type": "execute_result"
    }
   ],
   "source": [
    "full_data_merged[\"totalSeasons\"].count()"
   ]
  },
  {
   "cell_type": "code",
   "execution_count": 12,
   "id": "acfd6aae",
   "metadata": {},
   "outputs": [
    {
     "data": {
      "text/plain": [
       "11748"
      ]
     },
     "execution_count": 12,
     "metadata": {},
     "output_type": "execute_result"
    }
   ],
   "source": [
    "full_data_merged[\"totalSeasons\"].isnull().sum()"
   ]
  },
  {
   "cell_type": "code",
   "execution_count": 13,
   "id": "d93354aa",
   "metadata": {},
   "outputs": [
    {
     "data": {
      "text/plain": [
       "12379"
      ]
     },
     "execution_count": 13,
     "metadata": {},
     "output_type": "execute_result"
    }
   ],
   "source": [
    "full_data_merged[\"Website\"].isnull().sum()"
   ]
  },
  {
   "cell_type": "code",
   "execution_count": 25,
   "id": "2a5c83c7",
   "metadata": {},
   "outputs": [
    {
     "data": {
      "text/plain": [
       "1"
      ]
     },
     "execution_count": 25,
     "metadata": {},
     "output_type": "execute_result"
    }
   ],
   "source": [
    "full_data_merged[\"Website\"].count()"
   ]
  },
  {
   "cell_type": "code",
   "execution_count": 21,
   "id": "aa0232ba",
   "metadata": {},
   "outputs": [
    {
     "data": {
      "text/plain": [
       "12182"
      ]
     },
     "execution_count": 21,
     "metadata": {},
     "output_type": "execute_result"
    }
   ],
   "source": [
    "full_data_merged[\"Ratings\"].isnull().sum()"
   ]
  },
  {
   "cell_type": "code",
   "execution_count": 23,
   "id": "0989e310",
   "metadata": {},
   "outputs": [
    {
     "data": {
      "text/plain": [
       "4261"
      ]
     },
     "execution_count": 23,
     "metadata": {},
     "output_type": "execute_result"
    }
   ],
   "source": [
    "full_data_merged[\"Production\"].isnull().sum()"
   ]
  },
  {
   "cell_type": "code",
   "execution_count": 26,
   "id": "6dda1409",
   "metadata": {},
   "outputs": [
    {
     "data": {
      "text/plain": [
       "0.34418416801292406"
      ]
     },
     "execution_count": 26,
     "metadata": {},
     "output_type": "execute_result"
    }
   ],
   "source": [
    "4261/12380"
   ]
  },
  {
   "cell_type": "code",
   "execution_count": 28,
   "id": "5b7409ce",
   "metadata": {},
   "outputs": [
    {
     "data": {
      "text/plain": [
       "array([ True])"
      ]
     },
     "execution_count": 28,
     "metadata": {},
     "output_type": "execute_result"
    }
   ],
   "source": [
    "full_data_merged[\"Response\"].unique()"
   ]
  },
  {
   "cell_type": "code",
   "execution_count": 31,
   "id": "2f5d6746",
   "metadata": {},
   "outputs": [
    {
     "data": {
      "text/plain": [
       "array([nan])"
      ]
     },
     "execution_count": 31,
     "metadata": {},
     "output_type": "execute_result"
    }
   ],
   "source": [
    "full_data_merged[\"Error\"].unique()"
   ]
  },
  {
   "cell_type": "code",
   "execution_count": 55,
   "id": "c89b1052",
   "metadata": {},
   "outputs": [
    {
     "data": {
      "text/plain": [
       "movie     11648\n",
       "series      732\n",
       "Name: Type, dtype: int64"
      ]
     },
     "execution_count": 55,
     "metadata": {},
     "output_type": "execute_result"
    }
   ],
   "source": [
    "full_data_merged[\"Type\"].value_counts()"
   ]
  },
  {
   "cell_type": "code",
   "execution_count": 81,
   "id": "c0782bcf",
   "metadata": {},
   "outputs": [
    {
     "data": {
      "text/plain": [
       "0"
      ]
     },
     "execution_count": 81,
     "metadata": {},
     "output_type": "execute_result"
    }
   ],
   "source": [
    "full_data_merged[\"Type\"].isnull().sum()"
   ]
  },
  {
   "cell_type": "code",
   "execution_count": 56,
   "id": "1698c2ac",
   "metadata": {},
   "outputs": [
    {
     "data": {
      "text/plain": [
       "Demi Moore, Jason Alexander, Mary Kay Bergman                      36\n",
       "Keira Knightley, Jude Law, Aaron Taylor-Johnson                    25\n",
       "Barney Clark, Ben Kingsley, Jeremy Swift                           25\n",
       "Daniel Romer, Heather Ann Davis, Megan Lee Joy, Rob Steinhauser    25\n",
       "Anggun, James Earl Jones, Patrick Stewart, Ulrich Tukur            25\n",
       "                                                                   ..\n",
       "Mick Avory, Dave Davies, Ray Davies, Ian Gibbons                    1\n",
       "Ashley Judd, Luke Perry, Bruce A. Young, Jim True-Frost             1\n",
       "Steve Martin, Kathleen Turner, David Warner                         1\n",
       "Susan Smythe, Juliet Bradford, Phoebe Dollar, Elina Madison         1\n",
       "John Wayne, Eddie Albert, Diana Muldaur, Colleen Dewhurst           1\n",
       "Name: Actors, Length: 10601, dtype: int64"
      ]
     },
     "execution_count": 56,
     "metadata": {},
     "output_type": "execute_result"
    }
   ],
   "source": [
    "full_data_merged[\"Actors\"].value_counts()"
   ]
  },
  {
   "cell_type": "code",
   "execution_count": 58,
   "id": "5bfe7d6d",
   "metadata": {},
   "outputs": [
    {
     "data": {
      "text/plain": [
       "99"
      ]
     },
     "execution_count": 58,
     "metadata": {},
     "output_type": "execute_result"
    }
   ],
   "source": [
    "full_data_merged[\"Actors\"].isnull().sum()"
   ]
  },
  {
   "cell_type": "code",
   "execution_count": 59,
   "id": "c344d9fb",
   "metadata": {},
   "outputs": [
    {
     "data": {
      "text/plain": [
       "0.007996768982229402"
      ]
     },
     "execution_count": 59,
     "metadata": {},
     "output_type": "execute_result"
    }
   ],
   "source": [
    "99/12380"
   ]
  },
  {
   "cell_type": "code",
   "execution_count": 62,
   "id": "6430a931",
   "metadata": {},
   "outputs": [
    {
     "data": {
      "text/plain": [
       "Tab Murphy, Victor Hugo, Irene Mecchi                     36\n",
       "Woody Allen                                               28\n",
       "Tom Stoppard, Lev Tolstoy                                 25\n",
       "Charles Dickens, Ronald Harwood                           25\n",
       "Leslie Megahey (narration written by)                     25\n",
       "                                                          ..\n",
       "Craig Bartlett, Steve Viksten                              1\n",
       "Daniel Ford (novel), Wendell Mayes                         1\n",
       "William J. Keenan (teleplay), Phyllis McGinley (novel)     1\n",
       "W.T. Morgan                                                1\n",
       "Steve Fisher, Walter Doniger, Cyril Hume                   1\n",
       "Name: Writer, Length: 8864, dtype: int64"
      ]
     },
     "execution_count": 62,
     "metadata": {},
     "output_type": "execute_result"
    }
   ],
   "source": [
    "full_data_merged[\"Writer\"].value_counts()"
   ]
  },
  {
   "cell_type": "code",
   "execution_count": 63,
   "id": "f37d8f6c",
   "metadata": {},
   "outputs": [
    {
     "data": {
      "text/plain": [
       "1101"
      ]
     },
     "execution_count": 63,
     "metadata": {},
     "output_type": "execute_result"
    }
   ],
   "source": [
    "full_data_merged[\"Writer\"].isnull().sum()"
   ]
  },
  {
   "cell_type": "code",
   "execution_count": 64,
   "id": "ff8d0b27",
   "metadata": {},
   "outputs": [
    {
     "data": {
      "text/plain": [
       "0.08893376413570275"
      ]
     },
     "execution_count": 64,
     "metadata": {},
     "output_type": "execute_result"
    }
   ],
   "source": [
    "1101/12380"
   ]
  },
  {
   "cell_type": "code",
   "execution_count": 65,
   "id": "6ee9816e",
   "metadata": {},
   "outputs": [
    {
     "data": {
      "text/plain": [
       "859"
      ]
     },
     "execution_count": 65,
     "metadata": {},
     "output_type": "execute_result"
    }
   ],
   "source": [
    "full_data_merged[\"Director\"].isnull().sum()"
   ]
  },
  {
   "cell_type": "code",
   "execution_count": 66,
   "id": "7afb706d",
   "metadata": {},
   "outputs": [
    {
     "data": {
      "text/plain": [
       "0.06938610662358644"
      ]
     },
     "execution_count": 66,
     "metadata": {},
     "output_type": "execute_result"
    }
   ],
   "source": [
    "859/12380"
   ]
  },
  {
   "cell_type": "code",
   "execution_count": 67,
   "id": "9bce9b8c",
   "metadata": {},
   "outputs": [
    {
     "data": {
      "text/plain": [
       "movie_id               0\n",
       "Year_x                 2\n",
       "Name                   0\n",
       "mean                   0\n",
       "count                  0\n",
       "Title                  0\n",
       "Year_y                 0\n",
       "Rated               1658\n",
       "Released             484\n",
       "Runtime              251\n",
       "Genre                 49\n",
       "Director             859\n",
       "Writer              1101\n",
       "Actors                99\n",
       "Plot                 332\n",
       "Language              83\n",
       "Country               19\n",
       "Awards              4260\n",
       "Poster               252\n",
       "Metascore           6963\n",
       "imdbRating           199\n",
       "imdbVotes            199\n",
       "imdbID                 0\n",
       "Type                   0\n",
       "totalSeasons       11748\n",
       "Response               0\n",
       "Error              12380\n",
       "DVD                 3035\n",
       "BoxOffice           6210\n",
       "Production          4261\n",
       "Website            12379\n",
       "Rotten Tomatoes     2214\n",
       "Metacritic          6963\n",
       "Ratings            12182\n",
       "dtype: int64"
      ]
     },
     "execution_count": 67,
     "metadata": {},
     "output_type": "execute_result"
    }
   ],
   "source": [
    "full_data_merged.isnull().sum()"
   ]
  },
  {
   "cell_type": "code",
   "execution_count": 72,
   "id": "c7b4013d",
   "metadata": {},
   "outputs": [
    {
     "data": {
      "text/plain": [
       "2002         731\n",
       "2003         697\n",
       "2004         677\n",
       "2001         646\n",
       "2000         632\n",
       "            ... \n",
       "2000–2002      1\n",
       "1988–1991      1\n",
       "2002–2019      1\n",
       "1978–2012      1\n",
       "2019–2021      1\n",
       "Name: Year_y, Length: 302, dtype: int64"
      ]
     },
     "execution_count": 72,
     "metadata": {},
     "output_type": "execute_result"
    }
   ],
   "source": [
    "[full_data_merged[\"Year_y\"].value_counts()]"
   ]
  },
  {
   "cell_type": "code",
   "execution_count": 75,
   "id": "795b10f2",
   "metadata": {},
   "outputs": [
    {
     "data": {
      "text/plain": [
       "array(['2003–', '1997', '1992', '2007', '1947', '1988', '1995', '2005',\n",
       "       '1994', '1990', '1972', '2001', '2000', '2009', '2004', '2003',\n",
       "       '2006', '1973', '1996–', '2002', '1999', '1964', '1952', '2017',\n",
       "       '1941', '1943', '1920', '1996', '2011–2014', '1979', '1951',\n",
       "       '1983', '2015', '1998', '1985', '1989', '1965', '2012–2018',\n",
       "       '1957', '2012', '1981', '1987', '2019–', '1978', '1991', '1975',\n",
       "       '1971', '1939', '1982', '1980', '1968', '1950', '2008', '1993',\n",
       "       '1919', '1942', '1959', '1962', '1966', '1935', '2014', '1948',\n",
       "       '1974', '2016', '2018', '2010', '1936', '2001–', '1967', '1969',\n",
       "       '1976', '1946', '1970', '1928', '2013', '2002–2003', '1961',\n",
       "       '1984', '1931', '2011', '2019', '1955', '1963', '1997–', '1960',\n",
       "       '2018–2019', '2000–2011', '1976–1977', '1977', '1986', '1997–1999',\n",
       "       '2004–', '1998–', '1958', '1990–', '1996–1997', '1995–',\n",
       "       '2013–2015', '1944', '1954', '1994–1996', '2014–', '1930', '1940',\n",
       "       '2010–2015', '2020–', '1990–1991', '1945', '1932', '2003–2004',\n",
       "       '2020', '2016–2019', '1949', '1953', '1927', '1967–1968', '1937',\n",
       "       '1956', '1921', '2000–2018', '2000–', '1992–1997', '2011–2015',\n",
       "       '1982–1988', '1971–1972', '1957–1963', '1995–2000', '2004–2005',\n",
       "       '2010–2011', '1938', '1993–1994', '1991–2005', '2021', '1983–',\n",
       "       '2001–2017', '1963–1964', '2009–', '2011–2016', '2003–2006',\n",
       "       '2016–', '2006–2008', '1898', '1958–1961', '1998–1999', '1977–',\n",
       "       '2014–2020', '2000–2001', '2013–', '1968–1974', '1999–',\n",
       "       '2018–2020', '2015–2018', '2011–2018', '2002–', '2017–',\n",
       "       '2000–2006', '1933', '1934', '1955–', '1964–', '1997–1998',\n",
       "       '2002–2009', '1925', '2021–', '1996–2003', '2017–2018',\n",
       "       '2006–2012', '2009–2016', '1994–1995', '1981–', '1984–',\n",
       "       '2019–2020', '1929', '1994–', '2018–', '1984–1985', '1962–1968',\n",
       "       '1987–', '1918', '1976–1979', '1985–', '1990–1995', '1926', '1896',\n",
       "       '1989–2013', '2008–2012', '2015–2016', '1950–1961', '2010–2012',\n",
       "       '1990–1992', '2001–2006', '2005–2020', '2005–', '2012–', '1924',\n",
       "       '2000–2005', '1960–1968', '2002–2004', '1962–1963', '2002–2019',\n",
       "       '2001–2002', '2004–2009', '2015–2020', '1969–1974', '2014–2016',\n",
       "       '1992–1995', '1974–1979', '2002–2011', '1993–1996', '2005–2017',\n",
       "       '1983–1984', '2013–2014', '2001–2005', '1986–1988', '2015–2017',\n",
       "       '1993–', '2004–2012', '1915', '1998–2000', '1967–', '2007–',\n",
       "       '1914', '2009–2015', '1999–2003', '1999–2002', '2012–2013',\n",
       "       '1999–2000', '1907', '2019–2021', '2016–2020', '1992–', '2011–',\n",
       "       '1972–1985', '2012–2020', '1959–1961', '1904', '1997–2013',\n",
       "       '1994–2010', '2001–2003', '1952–1966', '1989–2002', '2000–2002',\n",
       "       '1988–2003', '2014–2015', '1991–', '1987–1991', '2005–2007',\n",
       "       '1922', '2001–2004', '2005–2006', '1923', '1989–', '1999–2004',\n",
       "       '2010–2019', '1995–1998', '1952–1953', '1906', '1986–1989',\n",
       "       '1961–', '2014–2018', '1988–', '1958–', '1996–1998', '1903',\n",
       "       '1988–1991', '1991–1993', '1999–2001', '1989–1992', '2007–2013',\n",
       "       '2002–2007', '1978–', '2010–', '2004–2006', '1973–2010', '1909',\n",
       "       '2004–2018', '2015–2019', '1963–', '2013–2016', '2014–2019',\n",
       "       '1917', '2015–', '1973–1974', '2001–2007', '2002–2008',\n",
       "       '2013–2018', '1973–1975', '1969–1970', '2022', '1974–',\n",
       "       '1959–1973', '1978–2012', '2016–2017', '1996–2004', '1996–1999',\n",
       "       '2017–2019', '1992–1993', '1975–1977', '1995–1996', '2015–2021',\n",
       "       '1980–1981', '1997–2001'], dtype=object)"
      ]
     },
     "execution_count": 75,
     "metadata": {},
     "output_type": "execute_result"
    }
   ],
   "source": [
    "full_data_merged[\"Year_y\"].unique()"
   ]
  },
  {
   "cell_type": "code",
   "execution_count": 79,
   "id": "06eed930",
   "metadata": {},
   "outputs": [
    {
     "data": {
      "text/plain": [
       "'2003–'"
      ]
     },
     "execution_count": 79,
     "metadata": {},
     "output_type": "execute_result"
    }
   ],
   "source": [
    "full_data_merged[\"Year_y\"][0]"
   ]
  },
  {
   "cell_type": "code",
   "execution_count": 80,
   "id": "b811c554",
   "metadata": {},
   "outputs": [
    {
     "data": {
      "text/plain": [
       "The Hunchback of Notre Dame    36\n",
       "Anna Karenina                  25\n",
       "Oliver Twist                   25\n",
       "Earth                          25\n",
       "Upstairs                       25\n",
       "                               ..\n",
       "Iron Eagle                      1\n",
       "Uzumaki                         1\n",
       "A Simple Plan                   1\n",
       "Madonna: Music                  1\n",
       "The Misfits                     1\n",
       "Name: Title, Length: 10764, dtype: int64"
      ]
     },
     "execution_count": 80,
     "metadata": {},
     "output_type": "execute_result"
    }
   ],
   "source": [
    "full_data_merged[\"Title\"].value_counts() "
   ]
  },
  {
   "cell_type": "code",
   "execution_count": 99,
   "id": "68505b9b",
   "metadata": {},
   "outputs": [
    {
     "data": {
      "text/plain": [
       "(12380, 34)"
      ]
     },
     "execution_count": 99,
     "metadata": {},
     "output_type": "execute_result"
    }
   ],
   "source": [
    "full_data_merged.shape"
   ]
  },
  {
   "cell_type": "code",
   "execution_count": 102,
   "id": "7dfbb0e6",
   "metadata": {},
   "outputs": [
    {
     "data": {
      "text/html": [
       "<div>\n",
       "<style scoped>\n",
       "    .dataframe tbody tr th:only-of-type {\n",
       "        vertical-align: middle;\n",
       "    }\n",
       "\n",
       "    .dataframe tbody tr th {\n",
       "        vertical-align: top;\n",
       "    }\n",
       "\n",
       "    .dataframe thead th {\n",
       "        text-align: right;\n",
       "    }\n",
       "</style>\n",
       "<table border=\"1\" class=\"dataframe\">\n",
       "  <thead>\n",
       "    <tr style=\"text-align: right;\">\n",
       "      <th></th>\n",
       "      <th>movie_id</th>\n",
       "      <th>Year_x</th>\n",
       "      <th>Name</th>\n",
       "      <th>mean</th>\n",
       "      <th>count</th>\n",
       "      <th>Title</th>\n",
       "      <th>Year_y</th>\n",
       "      <th>Rated</th>\n",
       "      <th>Released</th>\n",
       "      <th>Runtime</th>\n",
       "      <th>...</th>\n",
       "      <th>totalSeasons</th>\n",
       "      <th>Response</th>\n",
       "      <th>Error</th>\n",
       "      <th>DVD</th>\n",
       "      <th>BoxOffice</th>\n",
       "      <th>Production</th>\n",
       "      <th>Website</th>\n",
       "      <th>Rotten Tomatoes</th>\n",
       "      <th>Metacritic</th>\n",
       "      <th>Ratings</th>\n",
       "    </tr>\n",
       "  </thead>\n",
       "  <tbody>\n",
       "    <tr>\n",
       "      <th>0</th>\n",
       "      <td>1</td>\n",
       "      <td>2003.0</td>\n",
       "      <td>Dinosaur Planet</td>\n",
       "      <td>3.749543</td>\n",
       "      <td>547</td>\n",
       "      <td>Dinosaur Planet</td>\n",
       "      <td>2003–</td>\n",
       "      <td>NaN</td>\n",
       "      <td>14 Dec 2003</td>\n",
       "      <td>50 min</td>\n",
       "      <td>...</td>\n",
       "      <td>NaN</td>\n",
       "      <td>True</td>\n",
       "      <td>NaN</td>\n",
       "      <td>NaN</td>\n",
       "      <td>NaN</td>\n",
       "      <td>NaN</td>\n",
       "      <td>NaN</td>\n",
       "      <td>NaN</td>\n",
       "      <td>NaN</td>\n",
       "      <td>NaN</td>\n",
       "    </tr>\n",
       "    <tr>\n",
       "      <th>1</th>\n",
       "      <td>3</td>\n",
       "      <td>1997.0</td>\n",
       "      <td>Character</td>\n",
       "      <td>3.641153</td>\n",
       "      <td>2012</td>\n",
       "      <td>Character</td>\n",
       "      <td>1997</td>\n",
       "      <td>R</td>\n",
       "      <td>27 Mar 1998</td>\n",
       "      <td>122 min</td>\n",
       "      <td>...</td>\n",
       "      <td>NaN</td>\n",
       "      <td>True</td>\n",
       "      <td>NaN</td>\n",
       "      <td>04 Feb 2003</td>\n",
       "      <td>$623,983</td>\n",
       "      <td>Almerica Film</td>\n",
       "      <td>NaN</td>\n",
       "      <td>92%</td>\n",
       "      <td>NaN</td>\n",
       "      <td>NaN</td>\n",
       "    </tr>\n",
       "    <tr>\n",
       "      <th>2</th>\n",
       "      <td>6</td>\n",
       "      <td>1997.0</td>\n",
       "      <td>Sick</td>\n",
       "      <td>3.084396</td>\n",
       "      <td>1019</td>\n",
       "      <td>Sick</td>\n",
       "      <td>1997</td>\n",
       "      <td>Not Rated</td>\n",
       "      <td>07 Nov 1997</td>\n",
       "      <td>90 min</td>\n",
       "      <td>...</td>\n",
       "      <td>NaN</td>\n",
       "      <td>True</td>\n",
       "      <td>NaN</td>\n",
       "      <td>15 Feb 2017</td>\n",
       "      <td>$116,806</td>\n",
       "      <td>Sick-the Life and Death of Bob Flanagan-Superm...</td>\n",
       "      <td>NaN</td>\n",
       "      <td>91%</td>\n",
       "      <td>82/100</td>\n",
       "      <td>NaN</td>\n",
       "    </tr>\n",
       "    <tr>\n",
       "      <th>3</th>\n",
       "      <td>7</td>\n",
       "      <td>1992.0</td>\n",
       "      <td>8 Man</td>\n",
       "      <td>2.129032</td>\n",
       "      <td>93</td>\n",
       "      <td>8 Man</td>\n",
       "      <td>1992</td>\n",
       "      <td>NaN</td>\n",
       "      <td>NaN</td>\n",
       "      <td>83 min</td>\n",
       "      <td>...</td>\n",
       "      <td>NaN</td>\n",
       "      <td>True</td>\n",
       "      <td>NaN</td>\n",
       "      <td>NaN</td>\n",
       "      <td>NaN</td>\n",
       "      <td>NaN</td>\n",
       "      <td>NaN</td>\n",
       "      <td>NaN</td>\n",
       "      <td>NaN</td>\n",
       "      <td>NaN</td>\n",
       "    </tr>\n",
       "    <tr>\n",
       "      <th>4</th>\n",
       "      <td>10</td>\n",
       "      <td>2001.0</td>\n",
       "      <td>Fighter</td>\n",
       "      <td>3.180723</td>\n",
       "      <td>249</td>\n",
       "      <td>Fighter</td>\n",
       "      <td>2007</td>\n",
       "      <td>NaN</td>\n",
       "      <td>14 Dec 2007</td>\n",
       "      <td>100 min</td>\n",
       "      <td>...</td>\n",
       "      <td>NaN</td>\n",
       "      <td>True</td>\n",
       "      <td>NaN</td>\n",
       "      <td>NaN</td>\n",
       "      <td>NaN</td>\n",
       "      <td>First Run Features</td>\n",
       "      <td>NaN</td>\n",
       "      <td>NaN</td>\n",
       "      <td>NaN</td>\n",
       "      <td>NaN</td>\n",
       "    </tr>\n",
       "    <tr>\n",
       "      <th>...</th>\n",
       "      <td>...</td>\n",
       "      <td>...</td>\n",
       "      <td>...</td>\n",
       "      <td>...</td>\n",
       "      <td>...</td>\n",
       "      <td>...</td>\n",
       "      <td>...</td>\n",
       "      <td>...</td>\n",
       "      <td>...</td>\n",
       "      <td>...</td>\n",
       "      <td>...</td>\n",
       "      <td>...</td>\n",
       "      <td>...</td>\n",
       "      <td>...</td>\n",
       "      <td>...</td>\n",
       "      <td>...</td>\n",
       "      <td>...</td>\n",
       "      <td>...</td>\n",
       "      <td>...</td>\n",
       "      <td>...</td>\n",
       "      <td>...</td>\n",
       "    </tr>\n",
       "    <tr>\n",
       "      <th>12375</th>\n",
       "      <td>17763</td>\n",
       "      <td>1978.0</td>\n",
       "      <td>Interiors</td>\n",
       "      <td>3.411855</td>\n",
       "      <td>1957</td>\n",
       "      <td>Interiors</td>\n",
       "      <td>1978</td>\n",
       "      <td>PG</td>\n",
       "      <td>06 Oct 1978</td>\n",
       "      <td>92 min</td>\n",
       "      <td>...</td>\n",
       "      <td>NaN</td>\n",
       "      <td>True</td>\n",
       "      <td>NaN</td>\n",
       "      <td>02 Feb 2017</td>\n",
       "      <td>$10,432,366</td>\n",
       "      <td>Rollins-Joffe Productions</td>\n",
       "      <td>NaN</td>\n",
       "      <td>79%</td>\n",
       "      <td>67/100</td>\n",
       "      <td>NaN</td>\n",
       "    </tr>\n",
       "    <tr>\n",
       "      <th>12376</th>\n",
       "      <td>17764</td>\n",
       "      <td>1998.0</td>\n",
       "      <td>Shakespeare in Love</td>\n",
       "      <td>3.867112</td>\n",
       "      <td>64957</td>\n",
       "      <td>Shakespeare in Love</td>\n",
       "      <td>1998</td>\n",
       "      <td>R</td>\n",
       "      <td>08 Jan 1999</td>\n",
       "      <td>123 min</td>\n",
       "      <td>...</td>\n",
       "      <td>NaN</td>\n",
       "      <td>True</td>\n",
       "      <td>NaN</td>\n",
       "      <td>21 Apr 2016</td>\n",
       "      <td>$100,317,794</td>\n",
       "      <td>Miramax Films, Bedford Falls Productions, Univ...</td>\n",
       "      <td>NaN</td>\n",
       "      <td>92%</td>\n",
       "      <td>87/100</td>\n",
       "      <td>NaN</td>\n",
       "    </tr>\n",
       "    <tr>\n",
       "      <th>12377</th>\n",
       "      <td>17768</td>\n",
       "      <td>2000.0</td>\n",
       "      <td>Epoch</td>\n",
       "      <td>2.839207</td>\n",
       "      <td>1362</td>\n",
       "      <td>Epoch</td>\n",
       "      <td>2001</td>\n",
       "      <td>PG-13</td>\n",
       "      <td>24 Nov 2001</td>\n",
       "      <td>96 min</td>\n",
       "      <td>...</td>\n",
       "      <td>NaN</td>\n",
       "      <td>True</td>\n",
       "      <td>NaN</td>\n",
       "      <td>25 Jan 2017</td>\n",
       "      <td>NaN</td>\n",
       "      <td>Metro-Goldwyn-Mayer</td>\n",
       "      <td>NaN</td>\n",
       "      <td>16%</td>\n",
       "      <td>NaN</td>\n",
       "      <td>NaN</td>\n",
       "    </tr>\n",
       "    <tr>\n",
       "      <th>12378</th>\n",
       "      <td>17769</td>\n",
       "      <td>2003.0</td>\n",
       "      <td>The Company</td>\n",
       "      <td>2.498592</td>\n",
       "      <td>6749</td>\n",
       "      <td>The Company</td>\n",
       "      <td>2003</td>\n",
       "      <td>PG-13</td>\n",
       "      <td>20 May 2004</td>\n",
       "      <td>112 min</td>\n",
       "      <td>...</td>\n",
       "      <td>NaN</td>\n",
       "      <td>True</td>\n",
       "      <td>NaN</td>\n",
       "      <td>16 Apr 2012</td>\n",
       "      <td>$2,283,914</td>\n",
       "      <td>First Snow Production, Capitol Films, Sandcast...</td>\n",
       "      <td>NaN</td>\n",
       "      <td>72%</td>\n",
       "      <td>73/100</td>\n",
       "      <td>NaN</td>\n",
       "    </tr>\n",
       "    <tr>\n",
       "      <th>12379</th>\n",
       "      <td>17770</td>\n",
       "      <td>2003.0</td>\n",
       "      <td>Alien Hunter</td>\n",
       "      <td>2.816504</td>\n",
       "      <td>921</td>\n",
       "      <td>Alien Hunter</td>\n",
       "      <td>2003</td>\n",
       "      <td>R</td>\n",
       "      <td>19 Jul 2003</td>\n",
       "      <td>92 min</td>\n",
       "      <td>...</td>\n",
       "      <td>NaN</td>\n",
       "      <td>True</td>\n",
       "      <td>NaN</td>\n",
       "      <td>20 Apr 2013</td>\n",
       "      <td>NaN</td>\n",
       "      <td>NaN</td>\n",
       "      <td>NaN</td>\n",
       "      <td>16%</td>\n",
       "      <td>NaN</td>\n",
       "      <td>NaN</td>\n",
       "    </tr>\n",
       "  </tbody>\n",
       "</table>\n",
       "<p>11207 rows × 34 columns</p>\n",
       "</div>"
      ],
      "text/plain": [
       "       movie_id  Year_x                 Name      mean  count  \\\n",
       "0             1  2003.0      Dinosaur Planet  3.749543    547   \n",
       "1             3  1997.0            Character  3.641153   2012   \n",
       "2             6  1997.0                 Sick  3.084396   1019   \n",
       "3             7  1992.0                8 Man  2.129032     93   \n",
       "4            10  2001.0              Fighter  3.180723    249   \n",
       "...         ...     ...                  ...       ...    ...   \n",
       "12375     17763  1978.0            Interiors  3.411855   1957   \n",
       "12376     17764  1998.0  Shakespeare in Love  3.867112  64957   \n",
       "12377     17768  2000.0                Epoch  2.839207   1362   \n",
       "12378     17769  2003.0          The Company  2.498592   6749   \n",
       "12379     17770  2003.0         Alien Hunter  2.816504    921   \n",
       "\n",
       "                     Title Year_y      Rated     Released  Runtime  ...  \\\n",
       "0          Dinosaur Planet  2003–        NaN  14 Dec 2003   50 min  ...   \n",
       "1                Character   1997          R  27 Mar 1998  122 min  ...   \n",
       "2                     Sick   1997  Not Rated  07 Nov 1997   90 min  ...   \n",
       "3                    8 Man   1992        NaN          NaN   83 min  ...   \n",
       "4                  Fighter   2007        NaN  14 Dec 2007  100 min  ...   \n",
       "...                    ...    ...        ...          ...      ...  ...   \n",
       "12375            Interiors   1978         PG  06 Oct 1978   92 min  ...   \n",
       "12376  Shakespeare in Love   1998          R  08 Jan 1999  123 min  ...   \n",
       "12377                Epoch   2001      PG-13  24 Nov 2001   96 min  ...   \n",
       "12378          The Company   2003      PG-13  20 May 2004  112 min  ...   \n",
       "12379         Alien Hunter   2003          R  19 Jul 2003   92 min  ...   \n",
       "\n",
       "      totalSeasons Response Error          DVD     BoxOffice  \\\n",
       "0              NaN     True   NaN          NaN           NaN   \n",
       "1              NaN     True   NaN  04 Feb 2003      $623,983   \n",
       "2              NaN     True   NaN  15 Feb 2017      $116,806   \n",
       "3              NaN     True   NaN          NaN           NaN   \n",
       "4              NaN     True   NaN          NaN           NaN   \n",
       "...            ...      ...   ...          ...           ...   \n",
       "12375          NaN     True   NaN  02 Feb 2017   $10,432,366   \n",
       "12376          NaN     True   NaN  21 Apr 2016  $100,317,794   \n",
       "12377          NaN     True   NaN  25 Jan 2017           NaN   \n",
       "12378          NaN     True   NaN  16 Apr 2012    $2,283,914   \n",
       "12379          NaN     True   NaN  20 Apr 2013           NaN   \n",
       "\n",
       "                                              Production Website  \\\n",
       "0                                                    NaN     NaN   \n",
       "1                                          Almerica Film     NaN   \n",
       "2      Sick-the Life and Death of Bob Flanagan-Superm...     NaN   \n",
       "3                                                    NaN     NaN   \n",
       "4                                     First Run Features     NaN   \n",
       "...                                                  ...     ...   \n",
       "12375                          Rollins-Joffe Productions     NaN   \n",
       "12376  Miramax Films, Bedford Falls Productions, Univ...     NaN   \n",
       "12377                                Metro-Goldwyn-Mayer     NaN   \n",
       "12378  First Snow Production, Capitol Films, Sandcast...     NaN   \n",
       "12379                                                NaN     NaN   \n",
       "\n",
       "      Rotten Tomatoes Metacritic  Ratings  \n",
       "0                 NaN        NaN      NaN  \n",
       "1                 92%        NaN      NaN  \n",
       "2                 91%     82/100      NaN  \n",
       "3                 NaN        NaN      NaN  \n",
       "4                 NaN        NaN      NaN  \n",
       "...               ...        ...      ...  \n",
       "12375             79%     67/100      NaN  \n",
       "12376             92%     87/100      NaN  \n",
       "12377             16%        NaN      NaN  \n",
       "12378             72%     73/100      NaN  \n",
       "12379             16%        NaN      NaN  \n",
       "\n",
       "[11207 rows x 34 columns]"
      ]
     },
     "execution_count": 102,
     "metadata": {},
     "output_type": "execute_result"
    }
   ],
   "source": [
    "df_nodups = full_data_merged.drop_duplicates(\"movie_id\")\n",
    "df_nodups"
   ]
  },
  {
   "cell_type": "code",
   "execution_count": 112,
   "id": "7880c9f2",
   "metadata": {},
   "outputs": [
    {
     "data": {
      "text/plain": [
       "382"
      ]
     },
     "execution_count": 112,
     "metadata": {},
     "output_type": "execute_result"
    }
   ],
   "source": [
    "(df_nodups[\"Title\"].value_counts() >1).sum()"
   ]
  },
  {
   "cell_type": "code",
   "execution_count": 108,
   "id": "4914ce7a",
   "metadata": {},
   "outputs": [
    {
     "data": {
      "text/html": [
       "<div>\n",
       "<style scoped>\n",
       "    .dataframe tbody tr th:only-of-type {\n",
       "        vertical-align: middle;\n",
       "    }\n",
       "\n",
       "    .dataframe tbody tr th {\n",
       "        vertical-align: top;\n",
       "    }\n",
       "\n",
       "    .dataframe thead th {\n",
       "        text-align: right;\n",
       "    }\n",
       "</style>\n",
       "<table border=\"1\" class=\"dataframe\">\n",
       "  <thead>\n",
       "    <tr style=\"text-align: right;\">\n",
       "      <th></th>\n",
       "      <th>movie_id</th>\n",
       "      <th>Year_x</th>\n",
       "      <th>Name</th>\n",
       "      <th>mean</th>\n",
       "      <th>count</th>\n",
       "      <th>Title</th>\n",
       "      <th>Year_y</th>\n",
       "      <th>Rated</th>\n",
       "      <th>Released</th>\n",
       "      <th>Runtime</th>\n",
       "      <th>...</th>\n",
       "      <th>totalSeasons</th>\n",
       "      <th>Response</th>\n",
       "      <th>Error</th>\n",
       "      <th>DVD</th>\n",
       "      <th>BoxOffice</th>\n",
       "      <th>Production</th>\n",
       "      <th>Website</th>\n",
       "      <th>Rotten Tomatoes</th>\n",
       "      <th>Metacritic</th>\n",
       "      <th>Ratings</th>\n",
       "    </tr>\n",
       "  </thead>\n",
       "  <tbody>\n",
       "    <tr>\n",
       "      <th>1646</th>\n",
       "      <td>2107</td>\n",
       "      <td>1981.0</td>\n",
       "      <td>Earth</td>\n",
       "      <td>3.346614</td>\n",
       "      <td>251</td>\n",
       "      <td>Earth</td>\n",
       "      <td>2007</td>\n",
       "      <td>G</td>\n",
       "      <td>22 Apr 2009</td>\n",
       "      <td>90 min</td>\n",
       "      <td>...</td>\n",
       "      <td>NaN</td>\n",
       "      <td>True</td>\n",
       "      <td>NaN</td>\n",
       "      <td>13 Dec 2015</td>\n",
       "      <td>$32,011,576</td>\n",
       "      <td>BBC Worldwide, Greenlight Media</td>\n",
       "      <td>NaN</td>\n",
       "      <td>86%</td>\n",
       "      <td>72/100</td>\n",
       "      <td>NaN</td>\n",
       "    </tr>\n",
       "    <tr>\n",
       "      <th>1651</th>\n",
       "      <td>5555</td>\n",
       "      <td>1990.0</td>\n",
       "      <td>Earth</td>\n",
       "      <td>2.965278</td>\n",
       "      <td>144</td>\n",
       "      <td>Earth</td>\n",
       "      <td>2007</td>\n",
       "      <td>G</td>\n",
       "      <td>22 Apr 2009</td>\n",
       "      <td>90 min</td>\n",
       "      <td>...</td>\n",
       "      <td>NaN</td>\n",
       "      <td>True</td>\n",
       "      <td>NaN</td>\n",
       "      <td>13 Dec 2015</td>\n",
       "      <td>$32,011,576</td>\n",
       "      <td>BBC Worldwide, Greenlight Media</td>\n",
       "      <td>NaN</td>\n",
       "      <td>86%</td>\n",
       "      <td>72/100</td>\n",
       "      <td>NaN</td>\n",
       "    </tr>\n",
       "    <tr>\n",
       "      <th>1656</th>\n",
       "      <td>8478</td>\n",
       "      <td>2002.0</td>\n",
       "      <td>Earth</td>\n",
       "      <td>3.472222</td>\n",
       "      <td>108</td>\n",
       "      <td>Earth</td>\n",
       "      <td>2007</td>\n",
       "      <td>G</td>\n",
       "      <td>22 Apr 2009</td>\n",
       "      <td>90 min</td>\n",
       "      <td>...</td>\n",
       "      <td>NaN</td>\n",
       "      <td>True</td>\n",
       "      <td>NaN</td>\n",
       "      <td>13 Dec 2015</td>\n",
       "      <td>$32,011,576</td>\n",
       "      <td>BBC Worldwide, Greenlight Media</td>\n",
       "      <td>NaN</td>\n",
       "      <td>86%</td>\n",
       "      <td>72/100</td>\n",
       "      <td>NaN</td>\n",
       "    </tr>\n",
       "    <tr>\n",
       "      <th>1661</th>\n",
       "      <td>11849</td>\n",
       "      <td>1998.0</td>\n",
       "      <td>Earth</td>\n",
       "      <td>3.614655</td>\n",
       "      <td>1160</td>\n",
       "      <td>Earth</td>\n",
       "      <td>2007</td>\n",
       "      <td>G</td>\n",
       "      <td>22 Apr 2009</td>\n",
       "      <td>90 min</td>\n",
       "      <td>...</td>\n",
       "      <td>NaN</td>\n",
       "      <td>True</td>\n",
       "      <td>NaN</td>\n",
       "      <td>13 Dec 2015</td>\n",
       "      <td>$32,011,576</td>\n",
       "      <td>BBC Worldwide, Greenlight Media</td>\n",
       "      <td>NaN</td>\n",
       "      <td>86%</td>\n",
       "      <td>72/100</td>\n",
       "      <td>NaN</td>\n",
       "    </tr>\n",
       "    <tr>\n",
       "      <th>1666</th>\n",
       "      <td>16385</td>\n",
       "      <td>1994.0</td>\n",
       "      <td>Earth</td>\n",
       "      <td>3.375610</td>\n",
       "      <td>205</td>\n",
       "      <td>Earth</td>\n",
       "      <td>2007</td>\n",
       "      <td>G</td>\n",
       "      <td>22 Apr 2009</td>\n",
       "      <td>90 min</td>\n",
       "      <td>...</td>\n",
       "      <td>NaN</td>\n",
       "      <td>True</td>\n",
       "      <td>NaN</td>\n",
       "      <td>13 Dec 2015</td>\n",
       "      <td>$32,011,576</td>\n",
       "      <td>BBC Worldwide, Greenlight Media</td>\n",
       "      <td>NaN</td>\n",
       "      <td>86%</td>\n",
       "      <td>72/100</td>\n",
       "      <td>NaN</td>\n",
       "    </tr>\n",
       "  </tbody>\n",
       "</table>\n",
       "<p>5 rows × 34 columns</p>\n",
       "</div>"
      ],
      "text/plain": [
       "      movie_id  Year_x   Name      mean  count  Title Year_y Rated  \\\n",
       "1646      2107  1981.0  Earth  3.346614    251  Earth   2007     G   \n",
       "1651      5555  1990.0  Earth  2.965278    144  Earth   2007     G   \n",
       "1656      8478  2002.0  Earth  3.472222    108  Earth   2007     G   \n",
       "1661     11849  1998.0  Earth  3.614655   1160  Earth   2007     G   \n",
       "1666     16385  1994.0  Earth  3.375610    205  Earth   2007     G   \n",
       "\n",
       "         Released Runtime  ... totalSeasons Response Error          DVD  \\\n",
       "1646  22 Apr 2009  90 min  ...          NaN     True   NaN  13 Dec 2015   \n",
       "1651  22 Apr 2009  90 min  ...          NaN     True   NaN  13 Dec 2015   \n",
       "1656  22 Apr 2009  90 min  ...          NaN     True   NaN  13 Dec 2015   \n",
       "1661  22 Apr 2009  90 min  ...          NaN     True   NaN  13 Dec 2015   \n",
       "1666  22 Apr 2009  90 min  ...          NaN     True   NaN  13 Dec 2015   \n",
       "\n",
       "        BoxOffice                       Production Website Rotten Tomatoes  \\\n",
       "1646  $32,011,576  BBC Worldwide, Greenlight Media     NaN             86%   \n",
       "1651  $32,011,576  BBC Worldwide, Greenlight Media     NaN             86%   \n",
       "1656  $32,011,576  BBC Worldwide, Greenlight Media     NaN             86%   \n",
       "1661  $32,011,576  BBC Worldwide, Greenlight Media     NaN             86%   \n",
       "1666  $32,011,576  BBC Worldwide, Greenlight Media     NaN             86%   \n",
       "\n",
       "     Metacritic  Ratings  \n",
       "1646     72/100      NaN  \n",
       "1651     72/100      NaN  \n",
       "1656     72/100      NaN  \n",
       "1661     72/100      NaN  \n",
       "1666     72/100      NaN  \n",
       "\n",
       "[5 rows x 34 columns]"
      ]
     },
     "execution_count": 108,
     "metadata": {},
     "output_type": "execute_result"
    }
   ],
   "source": [
    "df_nodups[df_nodups[\"Title\"]=='Earth']"
   ]
  },
  {
   "cell_type": "code",
   "execution_count": 85,
   "id": "9ab7981b",
   "metadata": {},
   "outputs": [
    {
     "data": {
      "text/html": [
       "<div>\n",
       "<style scoped>\n",
       "    .dataframe tbody tr th:only-of-type {\n",
       "        vertical-align: middle;\n",
       "    }\n",
       "\n",
       "    .dataframe tbody tr th {\n",
       "        vertical-align: top;\n",
       "    }\n",
       "\n",
       "    .dataframe thead th {\n",
       "        text-align: right;\n",
       "    }\n",
       "</style>\n",
       "<table border=\"1\" class=\"dataframe\">\n",
       "  <thead>\n",
       "    <tr style=\"text-align: right;\">\n",
       "      <th></th>\n",
       "      <th>Title</th>\n",
       "      <th>totalSeasons</th>\n",
       "    </tr>\n",
       "  </thead>\n",
       "  <tbody>\n",
       "    <tr>\n",
       "      <th>0</th>\n",
       "      <td>Dinosaur Planet</td>\n",
       "      <td>NaN</td>\n",
       "    </tr>\n",
       "    <tr>\n",
       "      <th>1</th>\n",
       "      <td>Character</td>\n",
       "      <td>NaN</td>\n",
       "    </tr>\n",
       "    <tr>\n",
       "      <th>2</th>\n",
       "      <td>Sick</td>\n",
       "      <td>NaN</td>\n",
       "    </tr>\n",
       "    <tr>\n",
       "      <th>3</th>\n",
       "      <td>8 Man</td>\n",
       "      <td>NaN</td>\n",
       "    </tr>\n",
       "    <tr>\n",
       "      <th>4</th>\n",
       "      <td>Fighter</td>\n",
       "      <td>NaN</td>\n",
       "    </tr>\n",
       "    <tr>\n",
       "      <th>...</th>\n",
       "      <td>...</td>\n",
       "      <td>...</td>\n",
       "    </tr>\n",
       "    <tr>\n",
       "      <th>12375</th>\n",
       "      <td>Interiors</td>\n",
       "      <td>NaN</td>\n",
       "    </tr>\n",
       "    <tr>\n",
       "      <th>12376</th>\n",
       "      <td>Shakespeare in Love</td>\n",
       "      <td>NaN</td>\n",
       "    </tr>\n",
       "    <tr>\n",
       "      <th>12377</th>\n",
       "      <td>Epoch</td>\n",
       "      <td>NaN</td>\n",
       "    </tr>\n",
       "    <tr>\n",
       "      <th>12378</th>\n",
       "      <td>The Company</td>\n",
       "      <td>NaN</td>\n",
       "    </tr>\n",
       "    <tr>\n",
       "      <th>12379</th>\n",
       "      <td>Alien Hunter</td>\n",
       "      <td>NaN</td>\n",
       "    </tr>\n",
       "  </tbody>\n",
       "</table>\n",
       "<p>12380 rows × 2 columns</p>\n",
       "</div>"
      ],
      "text/plain": [
       "                     Title  totalSeasons\n",
       "0          Dinosaur Planet           NaN\n",
       "1                Character           NaN\n",
       "2                     Sick           NaN\n",
       "3                    8 Man           NaN\n",
       "4                  Fighter           NaN\n",
       "...                    ...           ...\n",
       "12375            Interiors           NaN\n",
       "12376  Shakespeare in Love           NaN\n",
       "12377                Epoch           NaN\n",
       "12378          The Company           NaN\n",
       "12379         Alien Hunter           NaN\n",
       "\n",
       "[12380 rows x 2 columns]"
      ]
     },
     "execution_count": 85,
     "metadata": {},
     "output_type": "execute_result"
    }
   ],
   "source": [
    "full_data_merged[[\"Title\",\"totalSeasons\"]]"
   ]
  },
  {
   "cell_type": "code",
   "execution_count": 91,
   "id": "10947934",
   "metadata": {},
   "outputs": [
    {
     "data": {
      "text/plain": [
       "11748"
      ]
     },
     "execution_count": 91,
     "metadata": {},
     "output_type": "execute_result"
    }
   ],
   "source": [
    "full_data_merged[\"totalSeasons\"].isnull().sum()"
   ]
  },
  {
   "cell_type": "code",
   "execution_count": 93,
   "id": "3ce387c4",
   "metadata": {},
   "outputs": [
    {
     "data": {
      "text/html": [
       "<div>\n",
       "<style scoped>\n",
       "    .dataframe tbody tr th:only-of-type {\n",
       "        vertical-align: middle;\n",
       "    }\n",
       "\n",
       "    .dataframe tbody tr th {\n",
       "        vertical-align: top;\n",
       "    }\n",
       "\n",
       "    .dataframe thead th {\n",
       "        text-align: right;\n",
       "    }\n",
       "</style>\n",
       "<table border=\"1\" class=\"dataframe\">\n",
       "  <thead>\n",
       "    <tr style=\"text-align: right;\">\n",
       "      <th></th>\n",
       "      <th>Production</th>\n",
       "    </tr>\n",
       "  </thead>\n",
       "  <tbody>\n",
       "    <tr>\n",
       "      <th>0</th>\n",
       "      <td>NaN</td>\n",
       "    </tr>\n",
       "    <tr>\n",
       "      <th>1</th>\n",
       "      <td>Almerica Film</td>\n",
       "    </tr>\n",
       "    <tr>\n",
       "      <th>2</th>\n",
       "      <td>Sick-the Life and Death of Bob Flanagan-Superm...</td>\n",
       "    </tr>\n",
       "    <tr>\n",
       "      <th>3</th>\n",
       "      <td>NaN</td>\n",
       "    </tr>\n",
       "    <tr>\n",
       "      <th>4</th>\n",
       "      <td>First Run Features</td>\n",
       "    </tr>\n",
       "    <tr>\n",
       "      <th>...</th>\n",
       "      <td>...</td>\n",
       "    </tr>\n",
       "    <tr>\n",
       "      <th>12375</th>\n",
       "      <td>Rollins-Joffe Productions</td>\n",
       "    </tr>\n",
       "    <tr>\n",
       "      <th>12376</th>\n",
       "      <td>Miramax Films, Bedford Falls Productions, Univ...</td>\n",
       "    </tr>\n",
       "    <tr>\n",
       "      <th>12377</th>\n",
       "      <td>Metro-Goldwyn-Mayer</td>\n",
       "    </tr>\n",
       "    <tr>\n",
       "      <th>12378</th>\n",
       "      <td>First Snow Production, Capitol Films, Sandcast...</td>\n",
       "    </tr>\n",
       "    <tr>\n",
       "      <th>12379</th>\n",
       "      <td>NaN</td>\n",
       "    </tr>\n",
       "  </tbody>\n",
       "</table>\n",
       "<p>12380 rows × 1 columns</p>\n",
       "</div>"
      ],
      "text/plain": [
       "                                              Production\n",
       "0                                                    NaN\n",
       "1                                          Almerica Film\n",
       "2      Sick-the Life and Death of Bob Flanagan-Superm...\n",
       "3                                                    NaN\n",
       "4                                     First Run Features\n",
       "...                                                  ...\n",
       "12375                          Rollins-Joffe Productions\n",
       "12376  Miramax Films, Bedford Falls Productions, Univ...\n",
       "12377                                Metro-Goldwyn-Mayer\n",
       "12378  First Snow Production, Capitol Films, Sandcast...\n",
       "12379                                                NaN\n",
       "\n",
       "[12380 rows x 1 columns]"
      ]
     },
     "execution_count": 93,
     "metadata": {},
     "output_type": "execute_result"
    }
   ],
   "source": [
    "full_data_merged[[\"Production\"]]"
   ]
  },
  {
   "cell_type": "code",
   "execution_count": null,
   "id": "368ea9d6",
   "metadata": {},
   "outputs": [],
   "source": []
  }
 ],
 "metadata": {
  "kernelspec": {
   "display_name": "Python 3",
   "language": "python",
   "name": "python3"
  },
  "language_info": {
   "codemirror_mode": {
    "name": "ipython",
    "version": 3
   },
   "file_extension": ".py",
   "mimetype": "text/x-python",
   "name": "python",
   "nbconvert_exporter": "python",
   "pygments_lexer": "ipython3",
   "version": "3.8.6"
  },
  "toc": {
   "base_numbering": 1,
   "nav_menu": {},
   "number_sections": true,
   "sideBar": true,
   "skip_h1_title": false,
   "title_cell": "Table of Contents",
   "title_sidebar": "Contents",
   "toc_cell": false,
   "toc_position": {},
   "toc_section_display": true,
   "toc_window_display": false
  }
 },
 "nbformat": 4,
 "nbformat_minor": 5
}
